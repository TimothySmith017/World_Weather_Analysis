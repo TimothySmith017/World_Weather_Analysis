{
 "cells": [
  {
   "cell_type": "code",
   "execution_count": 1,
   "metadata": {},
   "outputs": [],
   "source": [
    "# Import the dependencies.\n",
    "import pandas as pd\n",
    "import gmaps\n",
    "import requests\n",
    "# Import the API key.\n",
    "from config import g_key"
   ]
  },
  {
   "cell_type": "code",
   "execution_count": 2,
   "metadata": {},
   "outputs": [
    {
     "output_type": "execute_result",
     "data": {
      "text/plain": "   City_ID        City Country    Lat     Lng  Max Temp  Humidity  Cloudiness  \\\n0        0     Mataura      NZ -46.19  168.86     39.00        83          74   \n1        1       Vardo      NO  70.37   31.11     48.20        81          75   \n2        2  Vanderhoof      CA  54.02 -124.02     56.23        55          83   \n3        3       Ancud      CL -41.87  -73.82     50.00        75          75   \n4        4     Rikitea      PF -23.12 -134.97     71.06        71           0   \n\n   Wind Speed  \n0        3.00  \n1       16.11  \n2       12.10  \n3        6.93  \n4       17.67  ",
      "text/html": "<div>\n<style scoped>\n    .dataframe tbody tr th:only-of-type {\n        vertical-align: middle;\n    }\n\n    .dataframe tbody tr th {\n        vertical-align: top;\n    }\n\n    .dataframe thead th {\n        text-align: right;\n    }\n</style>\n<table border=\"1\" class=\"dataframe\">\n  <thead>\n    <tr style=\"text-align: right;\">\n      <th></th>\n      <th>City_ID</th>\n      <th>City</th>\n      <th>Country</th>\n      <th>Lat</th>\n      <th>Lng</th>\n      <th>Max Temp</th>\n      <th>Humidity</th>\n      <th>Cloudiness</th>\n      <th>Wind Speed</th>\n    </tr>\n  </thead>\n  <tbody>\n    <tr>\n      <th>0</th>\n      <td>0</td>\n      <td>Mataura</td>\n      <td>NZ</td>\n      <td>-46.19</td>\n      <td>168.86</td>\n      <td>39.00</td>\n      <td>83</td>\n      <td>74</td>\n      <td>3.00</td>\n    </tr>\n    <tr>\n      <th>1</th>\n      <td>1</td>\n      <td>Vardo</td>\n      <td>NO</td>\n      <td>70.37</td>\n      <td>31.11</td>\n      <td>48.20</td>\n      <td>81</td>\n      <td>75</td>\n      <td>16.11</td>\n    </tr>\n    <tr>\n      <th>2</th>\n      <td>2</td>\n      <td>Vanderhoof</td>\n      <td>CA</td>\n      <td>54.02</td>\n      <td>-124.02</td>\n      <td>56.23</td>\n      <td>55</td>\n      <td>83</td>\n      <td>12.10</td>\n    </tr>\n    <tr>\n      <th>3</th>\n      <td>3</td>\n      <td>Ancud</td>\n      <td>CL</td>\n      <td>-41.87</td>\n      <td>-73.82</td>\n      <td>50.00</td>\n      <td>75</td>\n      <td>75</td>\n      <td>6.93</td>\n    </tr>\n    <tr>\n      <th>4</th>\n      <td>4</td>\n      <td>Rikitea</td>\n      <td>PF</td>\n      <td>-23.12</td>\n      <td>-134.97</td>\n      <td>71.06</td>\n      <td>71</td>\n      <td>0</td>\n      <td>17.67</td>\n    </tr>\n  </tbody>\n</table>\n</div>"
     },
     "metadata": {},
     "execution_count": 2
    }
   ],
   "source": [
    "# Store the CSV you saved created in part one into a DataFrame.\n",
    "city_data_df = pd.read_csv(\"weather_data/cities.csv\")\n",
    "city_data_df.head()"
   ]
  },
  {
   "cell_type": "code",
   "execution_count": 3,
   "metadata": {},
   "outputs": [
    {
     "output_type": "execute_result",
     "data": {
      "text/plain": "City_ID         int64\nCity           object\nCountry        object\nLat           float64\nLng           float64\nMax Temp      float64\nHumidity        int64\nCloudiness      int64\nWind Speed    float64\ndtype: object"
     },
     "metadata": {},
     "execution_count": 3
    }
   ],
   "source": [
    "city_data_df.dtypes"
   ]
  },
  {
   "cell_type": "code",
   "execution_count": 4,
   "metadata": {},
   "outputs": [],
   "source": [
    "# Configure gmaps to use your Google API key.\n",
    "gmaps.configure(api_key=g_key)"
   ]
  },
  {
   "cell_type": "code",
   "execution_count": 5,
   "metadata": {},
   "outputs": [],
   "source": [
    "# Get the maximum temperature.\n",
    "max_temp = city_data_df[\"Max Temp\"]\n",
    "temps = []\n",
    "for temp in max_temp:\n",
    "    temps.append(max(temp, 0))"
   ]
  },
  {
   "cell_type": "code",
   "execution_count": 6,
   "metadata": {},
   "outputs": [
    {
     "output_type": "display_data",
     "data": {
      "text/plain": "Figure(layout=FigureLayout(height='420px'))",
      "application/vnd.jupyter.widget-view+json": {
       "version_major": 2,
       "version_minor": 0,
       "model_id": "4aa96562af9f45259e01f3188282c113"
      }
     },
     "metadata": {}
    }
   ],
   "source": [
    "#1 Assign the locations to an array of latitude and longtiude pairs\n",
    "locations = city_data_df[[\"Lat\", \"Lng\"]]\n",
    "\n",
    "#2 Assign the weights variable to some variables\n",
    "max_temp = city_data_df[\"Max Temp\"]\n",
    "\n",
    "#3 Assign the figure variable gmaps.figure() attribute\n",
    "fig = gmaps.figure(center=(30.0, 31.0), zoom_level=1.5)\n",
    "\n",
    "# 4. Assign the heatmap layer to the heatmap attribute and add in the locations\n",
    "heatmap_layer = gmaps.heatmap_layer(locations, weights=temps, dissipating=False, max_intensity=300, point_radius=4)\n",
    "\n",
    "#5 Add the heatmap layer\n",
    "fig.add_layer(heatmap_layer)\n",
    "#6 Call the figure to plot the data\n",
    "fig "
   ]
  },
  {
   "cell_type": "code",
   "execution_count": 7,
   "metadata": {},
   "outputs": [
    {
     "output_type": "display_data",
     "data": {
      "text/plain": "Figure(layout=FigureLayout(height='420px'))",
      "application/vnd.jupyter.widget-view+json": {
       "version_major": 2,
       "version_minor": 0,
       "model_id": "f6b4a9871ef14a05998ad8725e97a0f9"
      }
     },
     "metadata": {}
    }
   ],
   "source": [
    "# Heatmap of percent humidity\n",
    "locations = city_data_df[[\"Lat\", \"Lng\"]]\n",
    "humidity = city_data_df[\"Humidity\"]\n",
    "fig = gmaps.figure(center=(30.0, 31.0), zoom_level=1.5)\n",
    "heat_layer = gmaps.heatmap_layer(locations, weights=humidity, dissipating=False, max_intensity=300, point_radius=4)\n",
    "\n",
    "fig.add_layer(heat_layer)\n",
    "# Call the figure to plot the data.\n",
    "fig"
   ]
  },
  {
   "cell_type": "code",
   "execution_count": 8,
   "metadata": {},
   "outputs": [
    {
     "output_type": "display_data",
     "data": {
      "text/plain": "Figure(layout=FigureLayout(height='420px'))",
      "application/vnd.jupyter.widget-view+json": {
       "version_major": 2,
       "version_minor": 0,
       "model_id": "bac9bfab6796475b82085201053f69f9"
      }
     },
     "metadata": {}
    }
   ],
   "source": [
    "# Heatmap of cloudiness\n",
    "locations = city_data_df[[\"Lat\", \"Lng\"]]\n",
    "clouds = city_data_df[\"Cloudiness\"]\n",
    "fig = gmaps.figure(center=(30.0, 31.0), zoom_level=1.5)\n",
    "heat_layer = gmaps.heatmap_layer(locations, weights=clouds, dissipating=False, max_intensity=300, point_radius=4)\n",
    "\n",
    "fig.add_layer(heat_layer)\n",
    "# Call the figure to plot the data.\n",
    "fig"
   ]
  },
  {
   "cell_type": "code",
   "execution_count": 9,
   "metadata": {},
   "outputs": [
    {
     "output_type": "display_data",
     "data": {
      "text/plain": "Figure(layout=FigureLayout(height='420px'))",
      "application/vnd.jupyter.widget-view+json": {
       "version_major": 2,
       "version_minor": 0,
       "model_id": "901663408dde4596bd1afaa653a5f078"
      }
     },
     "metadata": {}
    }
   ],
   "source": [
    "# Heatmap of Wind Speed\n",
    "locations = city_data_df[[\"Lat\", \"Lng\"]]\n",
    "wind = city_data_df[\"Wind Speed\"]\n",
    "fig = gmaps.figure(center=(30.0, 31.0), zoom_level=1.5)\n",
    "heat_layer = gmaps.heatmap_layer(locations, weights=wind, dissipating=False, max_intensity=300, point_radius=4)\n",
    "\n",
    "fig.add_layer(heat_layer)\n",
    "# Call the figure to plot the data.\n",
    "fig"
   ]
  },
  {
   "cell_type": "code",
   "execution_count": 10,
   "metadata": {},
   "outputs": [],
   "source": [
    "# Ask the customer to add a minimum and maximum temperature value.\n",
    "min_temp = float(input(\"What is the minimum temperature you would like for your trip?\"))\n",
    "max_temp = float(input(\"What is the maximum temperature you would like for your trip?\"))"
   ]
  },
  {
   "cell_type": "code",
   "execution_count": 11,
   "metadata": {},
   "outputs": [
    {
     "output_type": "execute_result",
     "data": {
      "text/plain": "    City_ID        City Country    Lat     Lng  Max Temp  Humidity  \\\n9         9  Carutapera      BR  -1.20  -46.02     87.73        55   \n11       11      Mhango      TZ  -3.28   32.85     76.19        37   \n19       19       Yumen      CN  40.28   97.20     76.12        25   \n22       22      Atuona      PF  -9.80 -139.03     79.93        76   \n24       24      Dingle      PH  11.00  122.67     77.76        87   \n\n    Cloudiness  Wind Speed  \n9           43        4.94  \n11          59        4.29  \n19          83        4.94  \n22          29       24.29  \n24          91        2.26  ",
      "text/html": "<div>\n<style scoped>\n    .dataframe tbody tr th:only-of-type {\n        vertical-align: middle;\n    }\n\n    .dataframe tbody tr th {\n        vertical-align: top;\n    }\n\n    .dataframe thead th {\n        text-align: right;\n    }\n</style>\n<table border=\"1\" class=\"dataframe\">\n  <thead>\n    <tr style=\"text-align: right;\">\n      <th></th>\n      <th>City_ID</th>\n      <th>City</th>\n      <th>Country</th>\n      <th>Lat</th>\n      <th>Lng</th>\n      <th>Max Temp</th>\n      <th>Humidity</th>\n      <th>Cloudiness</th>\n      <th>Wind Speed</th>\n    </tr>\n  </thead>\n  <tbody>\n    <tr>\n      <th>9</th>\n      <td>9</td>\n      <td>Carutapera</td>\n      <td>BR</td>\n      <td>-1.20</td>\n      <td>-46.02</td>\n      <td>87.73</td>\n      <td>55</td>\n      <td>43</td>\n      <td>4.94</td>\n    </tr>\n    <tr>\n      <th>11</th>\n      <td>11</td>\n      <td>Mhango</td>\n      <td>TZ</td>\n      <td>-3.28</td>\n      <td>32.85</td>\n      <td>76.19</td>\n      <td>37</td>\n      <td>59</td>\n      <td>4.29</td>\n    </tr>\n    <tr>\n      <th>19</th>\n      <td>19</td>\n      <td>Yumen</td>\n      <td>CN</td>\n      <td>40.28</td>\n      <td>97.20</td>\n      <td>76.12</td>\n      <td>25</td>\n      <td>83</td>\n      <td>4.94</td>\n    </tr>\n    <tr>\n      <th>22</th>\n      <td>22</td>\n      <td>Atuona</td>\n      <td>PF</td>\n      <td>-9.80</td>\n      <td>-139.03</td>\n      <td>79.93</td>\n      <td>76</td>\n      <td>29</td>\n      <td>24.29</td>\n    </tr>\n    <tr>\n      <th>24</th>\n      <td>24</td>\n      <td>Dingle</td>\n      <td>PH</td>\n      <td>11.00</td>\n      <td>122.67</td>\n      <td>77.76</td>\n      <td>87</td>\n      <td>91</td>\n      <td>2.26</td>\n    </tr>\n  </tbody>\n</table>\n</div>"
     },
     "metadata": {},
     "execution_count": 11
    }
   ],
   "source": [
    "# Filter the dataset to find the cities that fit the criteria.\n",
    "preferred_cities_df = city_data_df.loc[(city_data_df[\"Max Temp\"] <= max_temp) & \\\n",
    "                                       (city_data_df[\"Max Temp\"] >= min_temp)]\n",
    "\n",
    "preferred_cities_df.head()"
   ]
  },
  {
   "cell_type": "code",
   "execution_count": 12,
   "metadata": {},
   "outputs": [
    {
     "output_type": "execute_result",
     "data": {
      "text/plain": "City_ID       213\nCity          213\nCountry       213\nLat           213\nLng           213\nMax Temp      213\nHumidity      213\nCloudiness    213\nWind Speed    213\ndtype: int64"
     },
     "metadata": {},
     "execution_count": 12
    }
   ],
   "source": [
    "preferred_cities_df.count()"
   ]
  },
  {
   "cell_type": "code",
   "execution_count": 13,
   "metadata": {},
   "outputs": [
    {
     "output_type": "execute_result",
     "data": {
      "text/plain": "               City Country  Max Temp    Lat     Lng Hotel Name\n9        Carutapera      BR     87.73  -1.20  -46.02           \n11           Mhango      TZ     76.19  -3.28   32.85           \n19            Yumen      CN     76.12  40.28   97.20           \n22           Atuona      PF     79.93  -9.80 -139.03           \n24           Dingle      PH     77.76  11.00  122.67           \n25  Aleksandrov Gay      RU     80.04  50.15   48.57           \n29       Nouadhibou      MR     82.40  20.93  -17.03           \n38       Vostochnyy      RU     79.00  55.82   37.87           \n39          Teguise      ES     80.60  29.06  -13.56           \n41            Kapaa      US     77.00  22.08 -159.32           ",
      "text/html": "<div>\n<style scoped>\n    .dataframe tbody tr th:only-of-type {\n        vertical-align: middle;\n    }\n\n    .dataframe tbody tr th {\n        vertical-align: top;\n    }\n\n    .dataframe thead th {\n        text-align: right;\n    }\n</style>\n<table border=\"1\" class=\"dataframe\">\n  <thead>\n    <tr style=\"text-align: right;\">\n      <th></th>\n      <th>City</th>\n      <th>Country</th>\n      <th>Max Temp</th>\n      <th>Lat</th>\n      <th>Lng</th>\n      <th>Hotel Name</th>\n    </tr>\n  </thead>\n  <tbody>\n    <tr>\n      <th>9</th>\n      <td>Carutapera</td>\n      <td>BR</td>\n      <td>87.73</td>\n      <td>-1.20</td>\n      <td>-46.02</td>\n      <td></td>\n    </tr>\n    <tr>\n      <th>11</th>\n      <td>Mhango</td>\n      <td>TZ</td>\n      <td>76.19</td>\n      <td>-3.28</td>\n      <td>32.85</td>\n      <td></td>\n    </tr>\n    <tr>\n      <th>19</th>\n      <td>Yumen</td>\n      <td>CN</td>\n      <td>76.12</td>\n      <td>40.28</td>\n      <td>97.20</td>\n      <td></td>\n    </tr>\n    <tr>\n      <th>22</th>\n      <td>Atuona</td>\n      <td>PF</td>\n      <td>79.93</td>\n      <td>-9.80</td>\n      <td>-139.03</td>\n      <td></td>\n    </tr>\n    <tr>\n      <th>24</th>\n      <td>Dingle</td>\n      <td>PH</td>\n      <td>77.76</td>\n      <td>11.00</td>\n      <td>122.67</td>\n      <td></td>\n    </tr>\n    <tr>\n      <th>25</th>\n      <td>Aleksandrov Gay</td>\n      <td>RU</td>\n      <td>80.04</td>\n      <td>50.15</td>\n      <td>48.57</td>\n      <td></td>\n    </tr>\n    <tr>\n      <th>29</th>\n      <td>Nouadhibou</td>\n      <td>MR</td>\n      <td>82.40</td>\n      <td>20.93</td>\n      <td>-17.03</td>\n      <td></td>\n    </tr>\n    <tr>\n      <th>38</th>\n      <td>Vostochnyy</td>\n      <td>RU</td>\n      <td>79.00</td>\n      <td>55.82</td>\n      <td>37.87</td>\n      <td></td>\n    </tr>\n    <tr>\n      <th>39</th>\n      <td>Teguise</td>\n      <td>ES</td>\n      <td>80.60</td>\n      <td>29.06</td>\n      <td>-13.56</td>\n      <td></td>\n    </tr>\n    <tr>\n      <th>41</th>\n      <td>Kapaa</td>\n      <td>US</td>\n      <td>77.00</td>\n      <td>22.08</td>\n      <td>-159.32</td>\n      <td></td>\n    </tr>\n  </tbody>\n</table>\n</div>"
     },
     "metadata": {},
     "execution_count": 13
    }
   ],
   "source": [
    "# Create DataFrame called hotel_df to store hotel names along with city, country, max temp, and coordinates\n",
    "hotel_df = preferred_cities_df[[\"City\", \"Country\", \"Max Temp\", \"Lat\", \"Lng\"]].copy()\n",
    "hotel_df[\"Hotel Name\"] = \"\"\n",
    "hotel_df.head(10)"
   ]
  },
  {
   "cell_type": "code",
   "execution_count": 14,
   "metadata": {},
   "outputs": [],
   "source": [
    "# Set parameters to search for a hotel.\n",
    "params = {\n",
    "    \"radius\": 5000,\n",
    "    \"type\": \"lodging\",\n",
    "    \"key\": g_key\n",
    "}"
   ]
  },
  {
   "cell_type": "code",
   "execution_count": 28,
   "metadata": {},
   "outputs": [],
   "source": [
    "# Iterate through the DataFrame.\n",
    "for index, row in hotel_df.iterrows():\n",
    "    # Get the latitude and longitude.\n",
    "    lat = row[\"Lat\"]\n",
    "    lng = row[\"Lng\"]\n",
    "# Add the latitude and longitude to location key for the params dictionary.\n",
    "    params[\"location\"] = f\"{lat},{lng}\"\n",
    "\n",
    "    # Use the search term: \"lodging\" and our latitude and longitude.\n",
    "    base_url = \"https://maps.googleapis.com/maps/api/place/nearbysearch/json\"\n",
    "    # Make request and get the JSON data from the search.\n",
    "    hotels = requests.get(base_url, params=params).json()\n",
    "    # Grab the first hotel from the results and store the name.\n",
    "try:\n",
    "    hotel_df.loc[index, \"Hotel Name\"] = hotels[\"results\"][0][\"name\"]\n",
    "except (IndexError):\n",
    "    print(\"Hotel not found... Skipping\")"
   ]
  },
  {
   "cell_type": "code",
   "execution_count": 33,
   "metadata": {
    "tags": []
   },
   "outputs": [
    {
     "output_type": "execute_result",
     "data": {
      "text/plain": "               City Country  Max Temp    Lat     Lng Hotel Name\n9        Carutapera      BR     87.73  -1.20  -46.02           \n11           Mhango      TZ     76.19  -3.28   32.85           \n19            Yumen      CN     76.12  40.28   97.20           \n22           Atuona      PF     79.93  -9.80 -139.03           \n24           Dingle      PH     77.76  11.00  122.67           \n25  Aleksandrov Gay      RU     80.04  50.15   48.57           \n29       Nouadhibou      MR     82.40  20.93  -17.03           \n38       Vostochnyy      RU     79.00  55.82   37.87           \n39          Teguise      ES     80.60  29.06  -13.56           \n41            Kapaa      US     77.00  22.08 -159.32           ",
      "text/html": "<div>\n<style scoped>\n    .dataframe tbody tr th:only-of-type {\n        vertical-align: middle;\n    }\n\n    .dataframe tbody tr th {\n        vertical-align: top;\n    }\n\n    .dataframe thead th {\n        text-align: right;\n    }\n</style>\n<table border=\"1\" class=\"dataframe\">\n  <thead>\n    <tr style=\"text-align: right;\">\n      <th></th>\n      <th>City</th>\n      <th>Country</th>\n      <th>Max Temp</th>\n      <th>Lat</th>\n      <th>Lng</th>\n      <th>Hotel Name</th>\n    </tr>\n  </thead>\n  <tbody>\n    <tr>\n      <th>9</th>\n      <td>Carutapera</td>\n      <td>BR</td>\n      <td>87.73</td>\n      <td>-1.20</td>\n      <td>-46.02</td>\n      <td></td>\n    </tr>\n    <tr>\n      <th>11</th>\n      <td>Mhango</td>\n      <td>TZ</td>\n      <td>76.19</td>\n      <td>-3.28</td>\n      <td>32.85</td>\n      <td></td>\n    </tr>\n    <tr>\n      <th>19</th>\n      <td>Yumen</td>\n      <td>CN</td>\n      <td>76.12</td>\n      <td>40.28</td>\n      <td>97.20</td>\n      <td></td>\n    </tr>\n    <tr>\n      <th>22</th>\n      <td>Atuona</td>\n      <td>PF</td>\n      <td>79.93</td>\n      <td>-9.80</td>\n      <td>-139.03</td>\n      <td></td>\n    </tr>\n    <tr>\n      <th>24</th>\n      <td>Dingle</td>\n      <td>PH</td>\n      <td>77.76</td>\n      <td>11.00</td>\n      <td>122.67</td>\n      <td></td>\n    </tr>\n    <tr>\n      <th>25</th>\n      <td>Aleksandrov Gay</td>\n      <td>RU</td>\n      <td>80.04</td>\n      <td>50.15</td>\n      <td>48.57</td>\n      <td></td>\n    </tr>\n    <tr>\n      <th>29</th>\n      <td>Nouadhibou</td>\n      <td>MR</td>\n      <td>82.40</td>\n      <td>20.93</td>\n      <td>-17.03</td>\n      <td></td>\n    </tr>\n    <tr>\n      <th>38</th>\n      <td>Vostochnyy</td>\n      <td>RU</td>\n      <td>79.00</td>\n      <td>55.82</td>\n      <td>37.87</td>\n      <td></td>\n    </tr>\n    <tr>\n      <th>39</th>\n      <td>Teguise</td>\n      <td>ES</td>\n      <td>80.60</td>\n      <td>29.06</td>\n      <td>-13.56</td>\n      <td></td>\n    </tr>\n    <tr>\n      <th>41</th>\n      <td>Kapaa</td>\n      <td>US</td>\n      <td>77.00</td>\n      <td>22.08</td>\n      <td>-159.32</td>\n      <td></td>\n    </tr>\n  </tbody>\n</table>\n</div>"
     },
     "metadata": {},
     "execution_count": 33
    }
   ],
   "source": [
    "hotel_df.head(10)"
   ]
  },
  {
   "cell_type": "code",
   "execution_count": 37,
   "metadata": {},
   "outputs": [],
   "source": [
    "info_box_template = \"\"\"\n",
    "<dl>\n",
    "<dt>Hotel Name</dt><dd>{Hotel Name}</dd>\n",
    "<dt>City</dt><dd>{City}</dd>\n",
    "<dt>Country</dt><dd>{Country}</dd>\n",
    "<dt>Max Temp</dt><dd>{Max Temp} °F</dd>\n",
    "</dl>\n",
    "\"\"\"\n",
    "\n",
    "# Store the DataFrame Row.\n",
    "hotel_info = [info_box_template.format(**row) for index, row in hotel_df.iterrows()]"
   ]
  },
  {
   "cell_type": "code",
   "execution_count": 39,
   "metadata": {},
   "outputs": [
    {
     "output_type": "display_data",
     "data": {
      "text/plain": "Figure(layout=FigureLayout(height='420px'))",
      "application/vnd.jupyter.widget-view+json": {
       "version_major": 2,
       "version_minor": 0,
       "model_id": "5dccded756e54d0c8a97f889b9560f3b"
      }
     },
     "metadata": {}
    }
   ],
   "source": [
    " #Add a heatmap of temperature for the vacation spots.\n",
    "locations = hotel_df[[\"Lat\", \"Lng\"]]\n",
    "max_temp = hotel_df[\"Max Temp\"]\n",
    "fig = gmaps.figure(center=(30.0, 31.0), zoom_level=1.5)\n",
    "heat_layer = gmaps.heatmap_layer(locations, weights=max_temp, dissipating=False,\n",
    "             max_intensity=300, point_radius=4)\n",
    "\n",
    "marker_layer = gmaps.marker_layer(locations, info_box_content = hotel_info)\n",
    "fig.add_layer(marker_layer)\n",
    "\n",
    "fig.add_layer(heat_layer)\n",
    "\n",
    "# Call the figure to plot the data.\n",
    "fig"
   ]
  },
  {
   "cell_type": "code",
   "execution_count": null,
   "metadata": {},
   "outputs": [],
   "source": []
  }
 ],
 "metadata": {
  "language_info": {
   "codemirror_mode": {
    "name": "ipython",
    "version": 3
   },
   "file_extension": ".py",
   "mimetype": "text/x-python",
   "name": "python",
   "nbconvert_exporter": "python",
   "pygments_lexer": "ipython3",
   "version": 3
  },
  "orig_nbformat": 2,
  "kernelspec": {
   "name": "python_defaultSpec_1594579038871",
   "display_name": "Python 3.7.7 64-bit ('PythonData': conda)"
  }
 },
 "nbformat": 4,
 "nbformat_minor": 2
}