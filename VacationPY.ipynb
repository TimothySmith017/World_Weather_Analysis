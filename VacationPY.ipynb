{
 "cells": [
  {
   "cell_type": "code",
   "execution_count": 1,
   "metadata": {},
   "outputs": [],
   "source": [
    "# Import the dependencies.\n",
    "import pandas as pd\n",
    "import gmaps\n",
    "import requests\n",
    "# Import the API key.\n",
    "from config import g_key"
   ]
  },
  {
   "cell_type": "code",
   "execution_count": 2,
   "metadata": {},
   "outputs": [
    {
     "output_type": "execute_result",
     "data": {
      "text/plain": "   City_ID         City Country    Lat     Lng  Max Temp  Humidity  \\\n0        0  Provideniya      RU  64.38 -173.30     51.80        76   \n1        1      Husavik      IS  66.04  -17.34     55.40        82   \n2        2        Vaini      TO -21.20 -175.20     69.80        88   \n3        3    Jamestown      US  42.10  -79.24     75.00        60   \n4        4     Khatanga      RU  71.97  102.50     54.72        77   \n\n   Cloudiness  Wind Speed  \n0          20       11.18  \n1          90        6.93  \n2          75       13.87  \n3           1       12.75  \n4         100       14.74  ",
      "text/html": "<div>\n<style scoped>\n    .dataframe tbody tr th:only-of-type {\n        vertical-align: middle;\n    }\n\n    .dataframe tbody tr th {\n        vertical-align: top;\n    }\n\n    .dataframe thead th {\n        text-align: right;\n    }\n</style>\n<table border=\"1\" class=\"dataframe\">\n  <thead>\n    <tr style=\"text-align: right;\">\n      <th></th>\n      <th>City_ID</th>\n      <th>City</th>\n      <th>Country</th>\n      <th>Lat</th>\n      <th>Lng</th>\n      <th>Max Temp</th>\n      <th>Humidity</th>\n      <th>Cloudiness</th>\n      <th>Wind Speed</th>\n    </tr>\n  </thead>\n  <tbody>\n    <tr>\n      <th>0</th>\n      <td>0</td>\n      <td>Provideniya</td>\n      <td>RU</td>\n      <td>64.38</td>\n      <td>-173.30</td>\n      <td>51.80</td>\n      <td>76</td>\n      <td>20</td>\n      <td>11.18</td>\n    </tr>\n    <tr>\n      <th>1</th>\n      <td>1</td>\n      <td>Husavik</td>\n      <td>IS</td>\n      <td>66.04</td>\n      <td>-17.34</td>\n      <td>55.40</td>\n      <td>82</td>\n      <td>90</td>\n      <td>6.93</td>\n    </tr>\n    <tr>\n      <th>2</th>\n      <td>2</td>\n      <td>Vaini</td>\n      <td>TO</td>\n      <td>-21.20</td>\n      <td>-175.20</td>\n      <td>69.80</td>\n      <td>88</td>\n      <td>75</td>\n      <td>13.87</td>\n    </tr>\n    <tr>\n      <th>3</th>\n      <td>3</td>\n      <td>Jamestown</td>\n      <td>US</td>\n      <td>42.10</td>\n      <td>-79.24</td>\n      <td>75.00</td>\n      <td>60</td>\n      <td>1</td>\n      <td>12.75</td>\n    </tr>\n    <tr>\n      <th>4</th>\n      <td>4</td>\n      <td>Khatanga</td>\n      <td>RU</td>\n      <td>71.97</td>\n      <td>102.50</td>\n      <td>54.72</td>\n      <td>77</td>\n      <td>100</td>\n      <td>14.74</td>\n    </tr>\n  </tbody>\n</table>\n</div>"
     },
     "metadata": {},
     "execution_count": 2
    }
   ],
   "source": [
    "# Store the CSV you saved created in part one into a DataFrame.\n",
    "city_data_df = pd.read_csv(\"weather_data/cities.csv\")\n",
    "city_data_df.head()"
   ]
  },
  {
   "cell_type": "code",
   "execution_count": 3,
   "metadata": {},
   "outputs": [
    {
     "output_type": "execute_result",
     "data": {
      "text/plain": "City_ID         int64\nCity           object\nCountry        object\nLat           float64\nLng           float64\nMax Temp      float64\nHumidity        int64\nCloudiness      int64\nWind Speed    float64\ndtype: object"
     },
     "metadata": {},
     "execution_count": 3
    }
   ],
   "source": [
    "city_data_df.dtypes"
   ]
  },
  {
   "cell_type": "code",
   "execution_count": 4,
   "metadata": {},
   "outputs": [],
   "source": [
    "# Configure gmaps to use your Google API key.\n",
    "gmaps.configure(api_key=g_key)"
   ]
  },
  {
   "cell_type": "code",
   "execution_count": 5,
   "metadata": {},
   "outputs": [],
   "source": [
    "# Get the maximum temperature.\n",
    "max_temp = city_data_df[\"Max Temp\"]\n",
    "temps = []\n",
    "for temp in max_temp:\n",
    "    temps.append(max(temp, 0))"
   ]
  },
  {
   "cell_type": "code",
   "execution_count": 6,
   "metadata": {},
   "outputs": [
    {
     "output_type": "display_data",
     "data": {
      "text/plain": "Figure(layout=FigureLayout(height='420px'))",
      "application/vnd.jupyter.widget-view+json": {
       "version_major": 2,
       "version_minor": 0,
       "model_id": "5c256c8bd9d64c8f8ce4bd3a44812b7d"
      }
     },
     "metadata": {}
    }
   ],
   "source": [
    "#1 Assign the locations to an array of latitude and longtiude pairs\n",
    "locations = city_data_df[[\"Lat\", \"Lng\"]]\n",
    "\n",
    "#2 Assign the weights variable to some variables\n",
    "max_temp = city_data_df[\"Max Temp\"]\n",
    "\n",
    "#3 Assign the figure variable gmaps.figure() attribute\n",
    "fig = gmaps.figure(center=(30.0, 31.0), zoom_level=1.5)\n",
    "\n",
    "# 4. Assign the heatmap layer to the heatmap attribute and add in the locations\n",
    "heatmap_layer = gmaps.heatmap_layer(locations, weights=temps, dissipating=False, max_intensity=300, point_radius=4)\n",
    "\n",
    "#5 Add the heatmap layer\n",
    "fig.add_layer(heatmap_layer)\n",
    "#6 Call the figure to plot the data\n",
    "fig "
   ]
  },
  {
   "cell_type": "code",
   "execution_count": 7,
   "metadata": {},
   "outputs": [
    {
     "output_type": "display_data",
     "data": {
      "text/plain": "Figure(layout=FigureLayout(height='420px'))",
      "application/vnd.jupyter.widget-view+json": {
       "version_major": 2,
       "version_minor": 0,
       "model_id": "eadfcfdc1eea449e93f1b863734357b9"
      }
     },
     "metadata": {}
    }
   ],
   "source": [
    "# Heatmap of percent humidity\n",
    "locations = city_data_df[[\"Lat\", \"Lng\"]]\n",
    "humidity = city_data_df[\"Humidity\"]\n",
    "fig = gmaps.figure(center=(30.0, 31.0), zoom_level=1.5)\n",
    "heat_layer = gmaps.heatmap_layer(locations, weights=humidity, dissipating=False, max_intensity=300, point_radius=4)\n",
    "\n",
    "fig.add_layer(heat_layer)\n",
    "# Call the figure to plot the data.\n",
    "fig"
   ]
  },
  {
   "cell_type": "code",
   "execution_count": 8,
   "metadata": {},
   "outputs": [
    {
     "output_type": "display_data",
     "data": {
      "text/plain": "Figure(layout=FigureLayout(height='420px'))",
      "application/vnd.jupyter.widget-view+json": {
       "version_major": 2,
       "version_minor": 0,
       "model_id": "1e3b2ffcc92f43318e1119140ac302c6"
      }
     },
     "metadata": {}
    }
   ],
   "source": [
    "# Heatmap of cloudiness\n",
    "locations = city_data_df[[\"Lat\", \"Lng\"]]\n",
    "clouds = city_data_df[\"Cloudiness\"]\n",
    "fig = gmaps.figure(center=(30.0, 31.0), zoom_level=1.5)\n",
    "heat_layer = gmaps.heatmap_layer(locations, weights=clouds, dissipating=False, max_intensity=300, point_radius=4)\n",
    "\n",
    "fig.add_layer(heat_layer)\n",
    "# Call the figure to plot the data.\n",
    "fig"
   ]
  },
  {
   "cell_type": "code",
   "execution_count": 9,
   "metadata": {},
   "outputs": [
    {
     "output_type": "display_data",
     "data": {
      "text/plain": "Figure(layout=FigureLayout(height='420px'))",
      "application/vnd.jupyter.widget-view+json": {
       "version_major": 2,
       "version_minor": 0,
       "model_id": "c21ff34017c84b4a8991f6ccf14cc24a"
      }
     },
     "metadata": {}
    }
   ],
   "source": [
    "# Heatmap of Wind Speed\n",
    "locations = city_data_df[[\"Lat\", \"Lng\"]]\n",
    "wind = city_data_df[\"Wind Speed\"]\n",
    "fig = gmaps.figure(center=(30.0, 31.0), zoom_level=1.5)\n",
    "heat_layer = gmaps.heatmap_layer(locations, weights=wind, dissipating=False, max_intensity=300, point_radius=4)\n",
    "\n",
    "fig.add_layer(heat_layer)\n",
    "# Call the figure to plot the data.\n",
    "fig"
   ]
  },
  {
   "cell_type": "code",
   "execution_count": 10,
   "metadata": {},
   "outputs": [],
   "source": [
    "# Ask the customer to add a minimum and maximum temperature value.\n",
    "min_temp = float(input(\"What is the minimum temperature you would like for your trip?\"))\n",
    "max_temp = float(input(\"What is the maximum temperature you would like for your trip?\"))"
   ]
  },
  {
   "cell_type": "code",
   "execution_count": 11,
   "metadata": {},
   "outputs": [
    {
     "output_type": "execute_result",
     "data": {
      "text/plain": "    City_ID             City Country    Lat     Lng  Max Temp  Humidity  \\\n13       13       Basudebpur      IN  21.14   86.74     84.85        74   \n15       15  Arraial Do Cabo      BR -22.97  -42.03     82.40        51   \n19       19           Albany      US  42.60  -73.97     90.00        38   \n29       29         Tucupita      VE   9.06  -62.05     83.95        76   \n33       33            Kapaa      US  22.08 -159.32     82.40        65   \n\n    Cloudiness  Wind Speed  \n13         100       11.03  \n15          66        8.05  \n19           8        9.15  \n29           4        4.99  \n33          40       16.11  ",
      "text/html": "<div>\n<style scoped>\n    .dataframe tbody tr th:only-of-type {\n        vertical-align: middle;\n    }\n\n    .dataframe tbody tr th {\n        vertical-align: top;\n    }\n\n    .dataframe thead th {\n        text-align: right;\n    }\n</style>\n<table border=\"1\" class=\"dataframe\">\n  <thead>\n    <tr style=\"text-align: right;\">\n      <th></th>\n      <th>City_ID</th>\n      <th>City</th>\n      <th>Country</th>\n      <th>Lat</th>\n      <th>Lng</th>\n      <th>Max Temp</th>\n      <th>Humidity</th>\n      <th>Cloudiness</th>\n      <th>Wind Speed</th>\n    </tr>\n  </thead>\n  <tbody>\n    <tr>\n      <th>13</th>\n      <td>13</td>\n      <td>Basudebpur</td>\n      <td>IN</td>\n      <td>21.14</td>\n      <td>86.74</td>\n      <td>84.85</td>\n      <td>74</td>\n      <td>100</td>\n      <td>11.03</td>\n    </tr>\n    <tr>\n      <th>15</th>\n      <td>15</td>\n      <td>Arraial Do Cabo</td>\n      <td>BR</td>\n      <td>-22.97</td>\n      <td>-42.03</td>\n      <td>82.40</td>\n      <td>51</td>\n      <td>66</td>\n      <td>8.05</td>\n    </tr>\n    <tr>\n      <th>19</th>\n      <td>19</td>\n      <td>Albany</td>\n      <td>US</td>\n      <td>42.60</td>\n      <td>-73.97</td>\n      <td>90.00</td>\n      <td>38</td>\n      <td>8</td>\n      <td>9.15</td>\n    </tr>\n    <tr>\n      <th>29</th>\n      <td>29</td>\n      <td>Tucupita</td>\n      <td>VE</td>\n      <td>9.06</td>\n      <td>-62.05</td>\n      <td>83.95</td>\n      <td>76</td>\n      <td>4</td>\n      <td>4.99</td>\n    </tr>\n    <tr>\n      <th>33</th>\n      <td>33</td>\n      <td>Kapaa</td>\n      <td>US</td>\n      <td>22.08</td>\n      <td>-159.32</td>\n      <td>82.40</td>\n      <td>65</td>\n      <td>40</td>\n      <td>16.11</td>\n    </tr>\n  </tbody>\n</table>\n</div>"
     },
     "metadata": {},
     "execution_count": 11
    }
   ],
   "source": [
    "# Filter the dataset to find the cities that fit the criteria.\n",
    "preferred_cities_df = city_data_df.loc[(city_data_df[\"Max Temp\"] <= max_temp) & \\\n",
    "                                       (city_data_df[\"Max Temp\"] >= min_temp)]\n",
    "\n",
    "preferred_cities_df.head()"
   ]
  },
  {
   "cell_type": "code",
   "execution_count": 12,
   "metadata": {},
   "outputs": [
    {
     "output_type": "execute_result",
     "data": {
      "text/plain": "City_ID       110\nCity          110\nCountry       110\nLat           110\nLng           110\nMax Temp      110\nHumidity      110\nCloudiness    110\nWind Speed    110\ndtype: int64"
     },
     "metadata": {},
     "execution_count": 12
    }
   ],
   "source": [
    "preferred_cities_df.count()"
   ]
  },
  {
   "cell_type": "code",
   "execution_count": 13,
   "metadata": {},
   "outputs": [
    {
     "output_type": "execute_result",
     "data": {
      "text/plain": "               City Country  Max Temp    Lat     Lng Hotel Name\n13       Basudebpur      IN     84.85  21.14   86.74           \n15  Arraial Do Cabo      BR     82.40 -22.97  -42.03           \n19           Albany      US     90.00  42.60  -73.97           \n29         Tucupita      VE     83.95   9.06  -62.05           \n33            Kapaa      US     82.40  22.08 -159.32           \n35       Butaritari      KI     83.35   3.07  172.79           \n67          Jaciara      BR     84.15 -15.97  -54.97           \n75           Haimen      CN     80.60  23.19  116.61           \n84      Pandan Niog      PH     81.86   6.23  120.56           \n91         Victoria      HK     82.00  22.29  114.16           ",
      "text/html": "<div>\n<style scoped>\n    .dataframe tbody tr th:only-of-type {\n        vertical-align: middle;\n    }\n\n    .dataframe tbody tr th {\n        vertical-align: top;\n    }\n\n    .dataframe thead th {\n        text-align: right;\n    }\n</style>\n<table border=\"1\" class=\"dataframe\">\n  <thead>\n    <tr style=\"text-align: right;\">\n      <th></th>\n      <th>City</th>\n      <th>Country</th>\n      <th>Max Temp</th>\n      <th>Lat</th>\n      <th>Lng</th>\n      <th>Hotel Name</th>\n    </tr>\n  </thead>\n  <tbody>\n    <tr>\n      <th>13</th>\n      <td>Basudebpur</td>\n      <td>IN</td>\n      <td>84.85</td>\n      <td>21.14</td>\n      <td>86.74</td>\n      <td></td>\n    </tr>\n    <tr>\n      <th>15</th>\n      <td>Arraial Do Cabo</td>\n      <td>BR</td>\n      <td>82.40</td>\n      <td>-22.97</td>\n      <td>-42.03</td>\n      <td></td>\n    </tr>\n    <tr>\n      <th>19</th>\n      <td>Albany</td>\n      <td>US</td>\n      <td>90.00</td>\n      <td>42.60</td>\n      <td>-73.97</td>\n      <td></td>\n    </tr>\n    <tr>\n      <th>29</th>\n      <td>Tucupita</td>\n      <td>VE</td>\n      <td>83.95</td>\n      <td>9.06</td>\n      <td>-62.05</td>\n      <td></td>\n    </tr>\n    <tr>\n      <th>33</th>\n      <td>Kapaa</td>\n      <td>US</td>\n      <td>82.40</td>\n      <td>22.08</td>\n      <td>-159.32</td>\n      <td></td>\n    </tr>\n    <tr>\n      <th>35</th>\n      <td>Butaritari</td>\n      <td>KI</td>\n      <td>83.35</td>\n      <td>3.07</td>\n      <td>172.79</td>\n      <td></td>\n    </tr>\n    <tr>\n      <th>67</th>\n      <td>Jaciara</td>\n      <td>BR</td>\n      <td>84.15</td>\n      <td>-15.97</td>\n      <td>-54.97</td>\n      <td></td>\n    </tr>\n    <tr>\n      <th>75</th>\n      <td>Haimen</td>\n      <td>CN</td>\n      <td>80.60</td>\n      <td>23.19</td>\n      <td>116.61</td>\n      <td></td>\n    </tr>\n    <tr>\n      <th>84</th>\n      <td>Pandan Niog</td>\n      <td>PH</td>\n      <td>81.86</td>\n      <td>6.23</td>\n      <td>120.56</td>\n      <td></td>\n    </tr>\n    <tr>\n      <th>91</th>\n      <td>Victoria</td>\n      <td>HK</td>\n      <td>82.00</td>\n      <td>22.29</td>\n      <td>114.16</td>\n      <td></td>\n    </tr>\n  </tbody>\n</table>\n</div>"
     },
     "metadata": {},
     "execution_count": 13
    }
   ],
   "source": [
    "# Create DataFrame called hotel_df to store hotel names along with city, country, max temp, and coordinates\n",
    "hotel_df = preferred_cities_df[[\"City\", \"Country\", \"Max Temp\", \"Lat\", \"Lng\"]].copy()\n",
    "hotel_df[\"Hotel Name\"] = \"\"\n",
    "hotel_df.head(10)"
   ]
  },
  {
   "cell_type": "code",
   "execution_count": 46,
   "metadata": {
    "tags": []
   },
   "outputs": [
    {
     "output_type": "stream",
     "name": "stdout",
     "text": "Hotel not found... Skipping\nHotel not found... Skipping\nHotel not found... Skipping\nHotel not found... Skipping\nHotel not found... Skipping\nHotel not found... Skipping\n"
    }
   ],
   "source": [
    "# Set parameters to search for a hotel.\n",
    "params = {\n",
    "    \"radius\": 5000,\n",
    "    \"type\": \"lodging\",\n",
    "    \"key\": g_key}\n",
    "\n",
    "# Iterate through the DataFrame.\n",
    "for index, row in hotel_df.iterrows():\n",
    "    # Get the latitude and longitude.\n",
    "    lat = row[\"Lat\"]\n",
    "    lng = row[\"Lng\"]\n",
    "# Add the latitude and longitude to location key for the params dictionary.\n",
    "    params[\"location\"] = f\"{lat},{lng}\"\n",
    "\n",
    "    # Use the search term: \"lodging\" and our latitude and longitude.\n",
    "    base_url = \"https://maps.googleapis.com/maps/api/place/nearbysearch/json\"\n",
    "    # Make request and get the JSON data from the search.\n",
    "    hotels = requests.get(base_url, params=params).json()\n",
    "    # Grab the first hotel from the results and store the name.\n",
    "    try:\n",
    "        hotel_name = hotels[\"results\"][0][\"name\"]\n",
    "        #print(hotels[\"results\"][0][\"name\"])\n",
    "        hotel_df.loc[index, \"Hotel Name\"] = hotel_name\n",
    "    except (KeyError,IndexError):\n",
    "        print(\"Hotel not found... Skipping\")"
   ]
  },
  {
   "cell_type": "code",
   "execution_count": 37,
   "metadata": {
    "tags": []
   },
   "outputs": [
    {
     "output_type": "stream",
     "name": "stdout",
     "text": "'Holiday Inn Express & Suites Twin Falls'\n"
    }
   ],
   "source": [
    "from pprint import pprint\n",
    "pprint(hotels['results'][0]['name'])"
   ]
  },
  {
   "cell_type": "code",
   "execution_count": 47,
   "metadata": {
    "tags": []
   },
   "outputs": [
    {
     "output_type": "execute_result",
     "data": {
      "text/plain": "               City Country  Max Temp    Lat     Lng  \\\n13       Basudebpur      IN     84.85  21.14   86.74   \n15  Arraial Do Cabo      BR     82.40 -22.97  -42.03   \n19           Albany      US     90.00  42.60  -73.97   \n29         Tucupita      VE     83.95   9.06  -62.05   \n33            Kapaa      US     82.40  22.08 -159.32   \n35       Butaritari      KI     83.35   3.07  172.79   \n67          Jaciara      BR     84.15 -15.97  -54.97   \n75           Haimen      CN     80.60  23.19  116.61   \n84      Pandan Niog      PH     81.86   6.23  120.56   \n91         Victoria      HK     82.00  22.29  114.16   \n\n                                Hotel Name  \n13                  Basudevpur Ice Factory  \n15                     Pousada Porto Praia  \n19                                          \n29              Hotel Tucupita Su​ite C.A.  \n33  Sheraton Kauai Resort at Coconut Beach  \n35                      Isles Sunset Lodge  \n67                              Taba Hotel  \n75                  Jinghao Business Hotel  \n84                                          \n91                      Mini Hotel Central  ",
      "text/html": "<div>\n<style scoped>\n    .dataframe tbody tr th:only-of-type {\n        vertical-align: middle;\n    }\n\n    .dataframe tbody tr th {\n        vertical-align: top;\n    }\n\n    .dataframe thead th {\n        text-align: right;\n    }\n</style>\n<table border=\"1\" class=\"dataframe\">\n  <thead>\n    <tr style=\"text-align: right;\">\n      <th></th>\n      <th>City</th>\n      <th>Country</th>\n      <th>Max Temp</th>\n      <th>Lat</th>\n      <th>Lng</th>\n      <th>Hotel Name</th>\n    </tr>\n  </thead>\n  <tbody>\n    <tr>\n      <th>13</th>\n      <td>Basudebpur</td>\n      <td>IN</td>\n      <td>84.85</td>\n      <td>21.14</td>\n      <td>86.74</td>\n      <td>Basudevpur Ice Factory</td>\n    </tr>\n    <tr>\n      <th>15</th>\n      <td>Arraial Do Cabo</td>\n      <td>BR</td>\n      <td>82.40</td>\n      <td>-22.97</td>\n      <td>-42.03</td>\n      <td>Pousada Porto Praia</td>\n    </tr>\n    <tr>\n      <th>19</th>\n      <td>Albany</td>\n      <td>US</td>\n      <td>90.00</td>\n      <td>42.60</td>\n      <td>-73.97</td>\n      <td></td>\n    </tr>\n    <tr>\n      <th>29</th>\n      <td>Tucupita</td>\n      <td>VE</td>\n      <td>83.95</td>\n      <td>9.06</td>\n      <td>-62.05</td>\n      <td>Hotel Tucupita Su​ite C.A.</td>\n    </tr>\n    <tr>\n      <th>33</th>\n      <td>Kapaa</td>\n      <td>US</td>\n      <td>82.40</td>\n      <td>22.08</td>\n      <td>-159.32</td>\n      <td>Sheraton Kauai Resort at Coconut Beach</td>\n    </tr>\n    <tr>\n      <th>35</th>\n      <td>Butaritari</td>\n      <td>KI</td>\n      <td>83.35</td>\n      <td>3.07</td>\n      <td>172.79</td>\n      <td>Isles Sunset Lodge</td>\n    </tr>\n    <tr>\n      <th>67</th>\n      <td>Jaciara</td>\n      <td>BR</td>\n      <td>84.15</td>\n      <td>-15.97</td>\n      <td>-54.97</td>\n      <td>Taba Hotel</td>\n    </tr>\n    <tr>\n      <th>75</th>\n      <td>Haimen</td>\n      <td>CN</td>\n      <td>80.60</td>\n      <td>23.19</td>\n      <td>116.61</td>\n      <td>Jinghao Business Hotel</td>\n    </tr>\n    <tr>\n      <th>84</th>\n      <td>Pandan Niog</td>\n      <td>PH</td>\n      <td>81.86</td>\n      <td>6.23</td>\n      <td>120.56</td>\n      <td></td>\n    </tr>\n    <tr>\n      <th>91</th>\n      <td>Victoria</td>\n      <td>HK</td>\n      <td>82.00</td>\n      <td>22.29</td>\n      <td>114.16</td>\n      <td>Mini Hotel Central</td>\n    </tr>\n  </tbody>\n</table>\n</div>"
     },
     "metadata": {},
     "execution_count": 47
    }
   ],
   "source": [
    "hotel_df.head(10)"
   ]
  },
  {
   "cell_type": "code",
   "execution_count": 17,
   "metadata": {},
   "outputs": [],
   "source": [
    "info_box_template = \"\"\"\n",
    "<dl>\n",
    "<dt>Hotel Name</dt><dd>{Hotel Name}</dd>\n",
    "<dt>City</dt><dd>{City}</dd>\n",
    "<dt>Country</dt><dd>{Country}</dd>\n",
    "<dt>Max Temp</dt><dd>{Max Temp} °F</dd>\n",
    "</dl>\n",
    "\"\"\"\n",
    "\n",
    "# Store the DataFrame Row.\n",
    "hotel_info = [info_box_template.format(**row) for index, row in hotel_df.iterrows()]"
   ]
  },
  {
   "cell_type": "code",
   "execution_count": 18,
   "metadata": {},
   "outputs": [
    {
     "output_type": "display_data",
     "data": {
      "text/plain": "Figure(layout=FigureLayout(height='420px'))",
      "application/vnd.jupyter.widget-view+json": {
       "version_major": 2,
       "version_minor": 0,
       "model_id": "f86703a93b8c4a78a6d8f61fcd7ad3a9"
      }
     },
     "metadata": {}
    }
   ],
   "source": [
    " #Add a heatmap of temperature for the vacation spots.\n",
    "locations = hotel_df[[\"Lat\", \"Lng\"]]\n",
    "max_temp = hotel_df[\"Max Temp\"]\n",
    "fig = gmaps.figure(center=(30.0, 31.0), zoom_level=1.5)\n",
    "heat_layer = gmaps.heatmap_layer(locations, weights=max_temp, dissipating=False,\n",
    "             max_intensity=300, point_radius=4)\n",
    "\n",
    "marker_layer = gmaps.marker_layer(locations, info_box_content = hotel_info)\n",
    "fig.add_layer(marker_layer)\n",
    "\n",
    "fig.add_layer(heat_layer)\n",
    "\n",
    "# Call the figure to plot the data.\n",
    "fig"
   ]
  },
  {
   "cell_type": "code",
   "execution_count": null,
   "metadata": {},
   "outputs": [],
   "source": []
  }
 ],
 "metadata": {
  "language_info": {
   "codemirror_mode": {
    "name": "ipython",
    "version": 3
   },
   "file_extension": ".py",
   "mimetype": "text/x-python",
   "name": "python",
   "nbconvert_exporter": "python",
   "pygments_lexer": "ipython3",
   "version": 3
  },
  "orig_nbformat": 2,
  "kernelspec": {
   "name": "python_defaultSpec_1594592275829",
   "display_name": "Python 3.7.7 64-bit ('PythonData': conda)"
  }
 },
 "nbformat": 4,
 "nbformat_minor": 2
}