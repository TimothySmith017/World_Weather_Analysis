{
 "cells": [
  {
   "cell_type": "code",
   "execution_count": 1,
   "metadata": {},
   "outputs": [],
   "source": [
    "# CHALLENGE PART 3: Import Dependencies\n",
    "\n",
    "# CHALLENGE PART 2 Import the dependencies.\n",
    "import pandas as pd\n",
    "import matplotlib.pyplot as plt\n",
    "import numpy as np\n",
    "import gmaps\n",
    "# Immport the requests log\n",
    "import requests\n",
    "requests.__version__\n",
    "\n",
    "#Import the API Key\n",
    "from config import weather_api_key\n",
    "from config import g_key"
   ]
  },
  {
   "cell_type": "code",
   "execution_count": 2,
   "metadata": {},
   "outputs": [
    {
     "output_type": "execute_result",
     "data": {
      "text/plain": "     City_ID                City Country  Max Temp Current Description    Lat  \\\n0          9       Makakilo City      US     86.00       broken clouds  21.35   \n1         16              Atuona      PF     79.52           clear sky  -9.80   \n2         17                Miri      MY     82.40          few clouds   4.41   \n3         18             Kavieng      PG     84.18     overcast clouds  -2.57   \n4         21       Marsh Harbour      BS     82.65     overcast clouds  26.54   \n..       ...                 ...     ...       ...                 ...    ...   \n168      517  North Myrtle Beach      US     86.00           clear sky  33.82   \n169      519            Sidi Ali      DZ     76.80     overcast clouds  36.10   \n170      521              Lingao      CN     85.80           clear sky  19.91   \n171      526          Borogontsy      RU     87.84           clear sky  62.67   \n172      530          San Benito      GT     82.83       broken clouds  16.91   \n\n        Lng                      Hotel Name  \n0   -158.09  Marriott's Ko Olina Beach Club  \n1   -139.03                     Villa Enata  \n2    114.01                Mega Hotel, Miri  \n3    150.80             Nusa Island Retreat  \n4    -77.06              Abaco Beach Resort  \n..      ...                             ...  \n168  -78.68                   Avista Resort  \n169    0.42                             NaN  \n170  109.69                Lingao Ditai Inn  \n171  131.17                             NaN  \n172  -89.91               Quinta Maya Hotel  \n\n[173 rows x 8 columns]",
      "text/html": "<div>\n<style scoped>\n    .dataframe tbody tr th:only-of-type {\n        vertical-align: middle;\n    }\n\n    .dataframe tbody tr th {\n        vertical-align: top;\n    }\n\n    .dataframe thead th {\n        text-align: right;\n    }\n</style>\n<table border=\"1\" class=\"dataframe\">\n  <thead>\n    <tr style=\"text-align: right;\">\n      <th></th>\n      <th>City_ID</th>\n      <th>City</th>\n      <th>Country</th>\n      <th>Max Temp</th>\n      <th>Current Description</th>\n      <th>Lat</th>\n      <th>Lng</th>\n      <th>Hotel Name</th>\n    </tr>\n  </thead>\n  <tbody>\n    <tr>\n      <th>0</th>\n      <td>9</td>\n      <td>Makakilo City</td>\n      <td>US</td>\n      <td>86.00</td>\n      <td>broken clouds</td>\n      <td>21.35</td>\n      <td>-158.09</td>\n      <td>Marriott's Ko Olina Beach Club</td>\n    </tr>\n    <tr>\n      <th>1</th>\n      <td>16</td>\n      <td>Atuona</td>\n      <td>PF</td>\n      <td>79.52</td>\n      <td>clear sky</td>\n      <td>-9.80</td>\n      <td>-139.03</td>\n      <td>Villa Enata</td>\n    </tr>\n    <tr>\n      <th>2</th>\n      <td>17</td>\n      <td>Miri</td>\n      <td>MY</td>\n      <td>82.40</td>\n      <td>few clouds</td>\n      <td>4.41</td>\n      <td>114.01</td>\n      <td>Mega Hotel, Miri</td>\n    </tr>\n    <tr>\n      <th>3</th>\n      <td>18</td>\n      <td>Kavieng</td>\n      <td>PG</td>\n      <td>84.18</td>\n      <td>overcast clouds</td>\n      <td>-2.57</td>\n      <td>150.80</td>\n      <td>Nusa Island Retreat</td>\n    </tr>\n    <tr>\n      <th>4</th>\n      <td>21</td>\n      <td>Marsh Harbour</td>\n      <td>BS</td>\n      <td>82.65</td>\n      <td>overcast clouds</td>\n      <td>26.54</td>\n      <td>-77.06</td>\n      <td>Abaco Beach Resort</td>\n    </tr>\n    <tr>\n      <th>...</th>\n      <td>...</td>\n      <td>...</td>\n      <td>...</td>\n      <td>...</td>\n      <td>...</td>\n      <td>...</td>\n      <td>...</td>\n      <td>...</td>\n    </tr>\n    <tr>\n      <th>168</th>\n      <td>517</td>\n      <td>North Myrtle Beach</td>\n      <td>US</td>\n      <td>86.00</td>\n      <td>clear sky</td>\n      <td>33.82</td>\n      <td>-78.68</td>\n      <td>Avista Resort</td>\n    </tr>\n    <tr>\n      <th>169</th>\n      <td>519</td>\n      <td>Sidi Ali</td>\n      <td>DZ</td>\n      <td>76.80</td>\n      <td>overcast clouds</td>\n      <td>36.10</td>\n      <td>0.42</td>\n      <td>NaN</td>\n    </tr>\n    <tr>\n      <th>170</th>\n      <td>521</td>\n      <td>Lingao</td>\n      <td>CN</td>\n      <td>85.80</td>\n      <td>clear sky</td>\n      <td>19.91</td>\n      <td>109.69</td>\n      <td>Lingao Ditai Inn</td>\n    </tr>\n    <tr>\n      <th>171</th>\n      <td>526</td>\n      <td>Borogontsy</td>\n      <td>RU</td>\n      <td>87.84</td>\n      <td>clear sky</td>\n      <td>62.67</td>\n      <td>131.17</td>\n      <td>NaN</td>\n    </tr>\n    <tr>\n      <th>172</th>\n      <td>530</td>\n      <td>San Benito</td>\n      <td>GT</td>\n      <td>82.83</td>\n      <td>broken clouds</td>\n      <td>16.91</td>\n      <td>-89.91</td>\n      <td>Quinta Maya Hotel</td>\n    </tr>\n  </tbody>\n</table>\n<p>173 rows × 8 columns</p>\n</div>"
     },
     "metadata": {},
     "execution_count": 2
    }
   ],
   "source": [
    "travel_df = pd.read_csv(\"WeatherPy_vacation.csv\")\n",
    "travel_df"
   ]
  },
  {
   "cell_type": "code",
   "execution_count": 3,
   "metadata": {},
   "outputs": [],
   "source": [
    "#CHALLENGE PART 3: Get the dataframe sorted for each city\n",
    "city1_information = travel_df.loc[travel_df[\"City\"] == \"Mount Pleasant\"]\n",
    "city2_information = travel_df.loc[travel_df[\"City\"] == \"North Myrtle Beach\"]\n",
    "city3_information = travel_df.loc[travel_df[\"City\"] == \"Wilmington\"]\n",
    "city4_information = travel_df.loc[travel_df[\"City\"] == \"Havelock\"]"
   ]
  },
  {
   "cell_type": "code",
   "execution_count": 34,
   "metadata": {},
   "outputs": [],
   "source": [
    "concat_df = pd.concat([city1_information, city2_information, city3_information, city4_information])"
   ]
  },
  {
   "cell_type": "code",
   "execution_count": 23,
   "metadata": {},
   "outputs": [],
   "source": [
    "city1 = (np.array(city1_information)[0,5],np.array(city1_information)[0,6])\n",
    "city2 = (np.array(city2_information)[0,5],np.array(city2_information)[0,6])\n",
    "city3 = (np.array(city3_information)[0,5],np.array(city3_information)[0,6])\n",
    "city4 = (np.array(city4_information)[0,5],np.array(city4_information)[0,6])"
   ]
  },
  {
   "cell_type": "code",
   "execution_count": 5,
   "metadata": {},
   "outputs": [
    {
     "output_type": "execute_result",
     "data": {
      "text/plain": "(32.79, -79.86)"
     },
     "metadata": {},
     "execution_count": 5
    }
   ],
   "source": [
    "city1"
   ]
  },
  {
   "cell_type": "code",
   "execution_count": 24,
   "metadata": {
    "tags": []
   },
   "outputs": [
    {
     "output_type": "stream",
     "name": "stdout",
     "text": "(32.79, -79.86)\n(33.82, -78.68)\n(34.23, -77.94)\n(34.88, -76.9)\n"
    }
   ],
   "source": [
    "print(city1)\n",
    "print(city2)\n",
    "print(city3)\n",
    "print(city4)"
   ]
  },
  {
   "cell_type": "code",
   "execution_count": 29,
   "metadata": {},
   "outputs": [],
   "source": [
    "info_box_template = \"\"\"\n",
    "<dl>\n",
    "<dt>Hotel Name</dt><dd>{Hotel Name}</dd>\n",
    "<dt>City</dt><dd>{City}</dd>\n",
    "<dt>Country</dt><dd>{Country}</dd>\n",
    "<dt>Current Weather</dt><dd>{Current Description} and {Max Temp}°F</dd>\n",
    "</dl>\n",
    "\"\"\""
   ]
  },
  {
   "cell_type": "code",
   "execution_count": 67,
   "metadata": {},
   "outputs": [
    {
     "output_type": "display_data",
     "data": {
      "text/plain": "Figure(layout=FigureLayout(height='420px'))",
      "application/vnd.jupyter.widget-view+json": {
       "version_major": 2,
       "version_minor": 0,
       "model_id": "65f8524c6b0f4e3c8a44524f827f9bc5"
      }
     },
     "metadata": {}
    }
   ],
   "source": [
    "import gmaps\n",
    "import gmaps.datasets\n",
    "gmaps.configure(api_key=g_key)\n",
    "# Latitude-longitude pairs\n",
    "Mount_Pleasant = city1\n",
    "North_Myrtle_Beach = city2\n",
    "Wilmington = city3\n",
    "Havelock = city4\n",
    "\n",
    "fig = gmaps.figure()\n",
    "route = gmaps.directions_layer(city1, city4, waypoints=[city2,city3],\n",
    "        travel_mode='DRIVING', show_markers =False)\n",
    "fig.add_layer(route)\n",
    "# Store the DataFrame Row.\n",
    "popup_info = [info_box_template.format(**row) for index, row in concat_df.iterrows()]\n",
    "\n",
    "fig"
   ]
  },
  {
   "cell_type": "code",
   "execution_count": 69,
   "metadata": {},
   "outputs": [
    {
     "output_type": "display_data",
     "data": {
      "text/plain": "Figure(layout=FigureLayout(height='420px'))",
      "application/vnd.jupyter.widget-view+json": {
       "version_major": 2,
       "version_minor": 0,
       "model_id": "693a6a661fca48e39d05e959c226aff2"
      }
     },
     "metadata": {}
    }
   ],
   "source": [
    "#CHALLENGE: Get the Marker Popups png\n",
    "\n",
    "gmaps.configure(api_key=g_key)\n",
    "fig = gmaps.figure()\n",
    "popups = gmaps.marker_layer([city1,city2,city3,city4],info_box_content=marker_info)\n",
    "fig.add_layer(route)\n",
    "fig.add_layer(popups)\n",
    "fig"
   ]
  },
  {
   "cell_type": "code",
   "execution_count": null,
   "metadata": {},
   "outputs": [],
   "source": []
  },
  {
   "cell_type": "code",
   "execution_count": null,
   "metadata": {},
   "outputs": [],
   "source": []
  }
 ],
 "metadata": {
  "language_info": {
   "codemirror_mode": {
    "name": "ipython",
    "version": 3
   },
   "file_extension": ".py",
   "mimetype": "text/x-python",
   "name": "python",
   "nbconvert_exporter": "python",
   "pygments_lexer": "ipython3",
   "version": "3.7.7-final"
  },
  "orig_nbformat": 2,
  "kernelspec": {
   "name": "python_defaultSpec_1594602877414",
   "display_name": "Python 3.7.7 64-bit ('PythonData': conda)"
  }
 },
 "nbformat": 4,
 "nbformat_minor": 2
}