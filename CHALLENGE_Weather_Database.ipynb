{
 "cells": [
  {
   "cell_type": "code",
   "execution_count": 15,
   "metadata": {},
   "outputs": [],
   "source": [
    "# CHALLENGE PART 1 Import the dependencies.\n",
    "import pandas as pd\n",
    "import matplotlib.pyplot as plt\n",
    "import numpy as np\n",
    "# Immport the requests log\n",
    "import requests\n",
    "requests.__version__\n",
    "\n",
    "#Import the API Key\n",
    "from config import weather_api_key"
   ]
  },
  {
   "cell_type": "code",
   "execution_count": 16,
   "metadata": {},
   "outputs": [
    {
     "output_type": "execute_result",
     "data": {
      "text/plain": "<zip at 0x7fef0ae3fe60>"
     },
     "metadata": {},
     "execution_count": 16
    }
   ],
   "source": [
    "# CHALLENGE PART 1 Create a set of random latitude and longitude functions\n",
    "lats = np.random.uniform(low =-90.000, high = 90.000, size = 1500)\n",
    "lngs = np.random.uniform(low = -180, high = 180, size = 1500)\n",
    "lat_lngs = zip(lats,lngs)\n",
    "lat_lngs"
   ]
  },
  {
   "cell_type": "code",
   "execution_count": 17,
   "metadata": {},
   "outputs": [],
   "source": [
    "#  CHALLENGE PART 1 Use the citipy module to determine city based on latitude and longitude.\n",
    "from citipy import citipy"
   ]
  },
  {
   "cell_type": "code",
   "execution_count": 18,
   "metadata": {},
   "outputs": [],
   "source": [
    "# CHALLENGE PART 1 Add the latitudes and the longitudes to a list.\n",
    "coordinates = list(lat_lngs)"
   ]
  },
  {
   "cell_type": "code",
   "execution_count": 19,
   "metadata": {},
   "outputs": [],
   "source": [
    "# CHALLENGE PART 1 Create a list for holding the cities.\n",
    "cities =[]\n",
    "\n",
    "# Identify the nearest city for each latitude and longitude combination.\n",
    "for coordinate in coordinates:\n",
    "    city = citipy.nearest_city(coordinate[0], coordinate[1]).city_name\n",
    "\n",
    "    #If the city is unique then we will add it fto the cities list\n",
    "    if city not in cities:\n",
    "        cities.append(city)\n",
    "    \n",
    "    #Print the city count to confirm the sufficient count.\n",
    "    len(cities)"
   ]
  },
  {
   "cell_type": "code",
   "execution_count": 20,
   "metadata": {},
   "outputs": [],
   "source": [
    "# CHALLENGE PART 1 Starting URL for Weather Map API Call.\n",
    "url = \"http://api.openweathermap.org/data/2.5/weather?units=Imperial&APPID=\" + weather_api_key"
   ]
  },
  {
   "cell_type": "code",
   "execution_count": 21,
   "metadata": {
    "tags": [
     "outputPrepend"
    ]
   },
   "outputs": [
    {
     "output_type": "stream",
     "name": "stdout",
     "text": "ord 40 of Set 3 | iquique\nProcessing Record 41 of Set 3 | tiksi\nProcessing Record 42 of Set 3 | bambous virieux\nProcessing Record 43 of Set 3 | raychikhinsk\nProcessing Record 44 of Set 3 | hami\nProcessing Record 45 of Set 3 | stavern\nProcessing Record 46 of Set 3 | ushtobe\nProcessing Record 47 of Set 3 | margate\nProcessing Record 48 of Set 3 | mahebourg\nProcessing Record 49 of Set 3 | coahuayana\nProcessing Record 50 of Set 3 | arenapolis\nProcessing Record 1 of Set 4 | iqaluit\nProcessing Record 2 of Set 4 | sao filipe\nProcessing Record 3 of Set 4 | bodden town\nProcessing Record 4 of Set 4 | yar-sale\nProcessing Record 5 of Set 4 | grand gaube\nProcessing Record 6 of Set 4 | esna\nProcessing Record 7 of Set 4 | sarankhola\nProcessing Record 8 of Set 4 | karkaralinsk\nCity not found. Skipping...\nProcessing Record 9 of Set 4 | provideniya\nProcessing Record 10 of Set 4 | klaksvik\nProcessing Record 11 of Set 4 | new norfolk\nProcessing Record 12 of Set 4 | cape canaveral\nProcessing Record 13 of Set 4 | cabo san lucas\nProcessing Record 14 of Set 4 | hamilton\nProcessing Record 15 of Set 4 | shitkino\nProcessing Record 16 of Set 4 | fortuna\nProcessing Record 17 of Set 4 | tagusao\nProcessing Record 18 of Set 4 | sibolga\nProcessing Record 19 of Set 4 | labutta\nCity not found. Skipping...\nProcessing Record 20 of Set 4 | kemin\nProcessing Record 21 of Set 4 | beloha\nProcessing Record 22 of Set 4 | elizabeth city\nProcessing Record 23 of Set 4 | banda aceh\nProcessing Record 24 of Set 4 | east london\nProcessing Record 25 of Set 4 | nabire\nProcessing Record 26 of Set 4 | henties bay\nProcessing Record 27 of Set 4 | pedro juan caballero\nProcessing Record 28 of Set 4 | le port\nProcessing Record 29 of Set 4 | san andres\nProcessing Record 30 of Set 4 | biak\nProcessing Record 31 of Set 4 | kaeo\nProcessing Record 32 of Set 4 | barranca\nProcessing Record 33 of Set 4 | caravelas\nProcessing Record 34 of Set 4 | dickinson\nProcessing Record 35 of Set 4 | opuwo\nProcessing Record 36 of Set 4 | sorvag\nCity not found. Skipping...\nProcessing Record 37 of Set 4 | acarau\nProcessing Record 38 of Set 4 | illoqqortoormiut\nCity not found. Skipping...\nProcessing Record 39 of Set 4 | marcona\nCity not found. Skipping...\nProcessing Record 40 of Set 4 | mnogovershinnyy\nProcessing Record 41 of Set 4 | goderich\nProcessing Record 42 of Set 4 | katsuura\nProcessing Record 43 of Set 4 | faanui\nProcessing Record 44 of Set 4 | cabo rojo\nProcessing Record 45 of Set 4 | wilmington\nProcessing Record 46 of Set 4 | aksarka\nProcessing Record 47 of Set 4 | champaign\nProcessing Record 48 of Set 4 | strezhevoy\nProcessing Record 49 of Set 4 | guaratinga\nProcessing Record 50 of Set 4 | port lincoln\nProcessing Record 1 of Set 5 | port alfred\nProcessing Record 2 of Set 5 | datong\nProcessing Record 3 of Set 5 | chapada dos guimaraes\nProcessing Record 4 of Set 5 | amderma\nCity not found. Skipping...\nProcessing Record 5 of Set 5 | attawapiskat\nCity not found. Skipping...\nProcessing Record 6 of Set 5 | lima\nProcessing Record 7 of Set 5 | aswan\nProcessing Record 8 of Set 5 | lagoa\nProcessing Record 9 of Set 5 | torbay\nProcessing Record 10 of Set 5 | ngukurr\nCity not found. Skipping...\nProcessing Record 11 of Set 5 | ust-tsilma\nProcessing Record 12 of Set 5 | broome\nProcessing Record 13 of Set 5 | sena madureira\nProcessing Record 14 of Set 5 | brawley\nProcessing Record 15 of Set 5 | aklavik\nProcessing Record 16 of Set 5 | ocos\nProcessing Record 17 of Set 5 | touros\nProcessing Record 18 of Set 5 | mtimbira\nProcessing Record 19 of Set 5 | talnakh\nProcessing Record 20 of Set 5 | poya\nProcessing Record 21 of Set 5 | codrington\nProcessing Record 22 of Set 5 | cerro grande\nProcessing Record 23 of Set 5 | port-cartier\nProcessing Record 24 of Set 5 | prince rupert\nProcessing Record 25 of Set 5 | sovetskiy\nProcessing Record 26 of Set 5 | ancud\nProcessing Record 27 of Set 5 | bathsheba\nProcessing Record 28 of Set 5 | nikolskoye\nProcessing Record 29 of Set 5 | saint george\nProcessing Record 30 of Set 5 | thompson\nProcessing Record 31 of Set 5 | tucurui\nProcessing Record 32 of Set 5 | beyneu\nProcessing Record 33 of Set 5 | batagay\nProcessing Record 34 of Set 5 | naryan-mar\nProcessing Record 35 of Set 5 | altamira\nProcessing Record 36 of Set 5 | tsihombe\nCity not found. Skipping...\nProcessing Record 37 of Set 5 | itaituba\nProcessing Record 38 of Set 5 | coquimbo\nProcessing Record 39 of Set 5 | harnosand\nProcessing Record 40 of Set 5 | tiznit\nProcessing Record 41 of Set 5 | kieta\nProcessing Record 42 of Set 5 | geraldton\nProcessing Record 43 of Set 5 | griffith\nProcessing Record 44 of Set 5 | san pedro buenavista\nProcessing Record 45 of Set 5 | hailun\nProcessing Record 46 of Set 5 | talcahuano\nProcessing Record 47 of Set 5 | chilca\nProcessing Record 48 of Set 5 | zhigansk\nProcessing Record 49 of Set 5 | yeppoon\nProcessing Record 50 of Set 5 | valparaiso\nProcessing Record 1 of Set 6 | kargopol\nProcessing Record 2 of Set 6 | tecoanapa\nProcessing Record 3 of Set 6 | norman wells\nProcessing Record 4 of Set 6 | lakhipur\nProcessing Record 5 of Set 6 | vaitupu\nCity not found. Skipping...\nProcessing Record 6 of Set 6 | ilulissat\nProcessing Record 7 of Set 6 | mys shmidta\nCity not found. Skipping...\nProcessing Record 8 of Set 6 | leningradskiy\nProcessing Record 9 of Set 6 | gimli\nProcessing Record 10 of Set 6 | bayan\nProcessing Record 11 of Set 6 | portland\nProcessing Record 12 of Set 6 | gat\nProcessing Record 13 of Set 6 | ornskoldsvik\nProcessing Record 14 of Set 6 | morondava\nProcessing Record 15 of Set 6 | boyolangu\nProcessing Record 16 of Set 6 | dalvik\nProcessing Record 17 of Set 6 | marfino\nProcessing Record 18 of Set 6 | richards bay\nProcessing Record 19 of Set 6 | patea\nProcessing Record 20 of Set 6 | sentyabrskiy\nCity not found. Skipping...\nProcessing Record 21 of Set 6 | pitimbu\nProcessing Record 22 of Set 6 | mezen\nProcessing Record 23 of Set 6 | pringsewu\nProcessing Record 24 of Set 6 | horta\nProcessing Record 25 of Set 6 | puerto escondido\nProcessing Record 26 of Set 6 | port moresby\nProcessing Record 27 of Set 6 | jijiga\nProcessing Record 28 of Set 6 | mercedes\nProcessing Record 29 of Set 6 | oriximina\nProcessing Record 30 of Set 6 | sibut\nProcessing Record 31 of Set 6 | clyde river\nProcessing Record 32 of Set 6 | bilma\nProcessing Record 33 of Set 6 | findlay\nProcessing Record 34 of Set 6 | sola\nProcessing Record 35 of Set 6 | beringovskiy\nProcessing Record 36 of Set 6 | porto novo\nProcessing Record 37 of Set 6 | souillac\nProcessing Record 38 of Set 6 | upernavik\nProcessing Record 39 of Set 6 | anadyr\nProcessing Record 40 of Set 6 | quatre cocos\nProcessing Record 41 of Set 6 | airai\nProcessing Record 42 of Set 6 | zarubino\nProcessing Record 43 of Set 6 | eha amufu\nProcessing Record 44 of Set 6 | reguengos de monsaraz\nProcessing Record 45 of Set 6 | palabuhanratu\nCity not found. Skipping...\nProcessing Record 46 of Set 6 | las palmas\nProcessing Record 47 of Set 6 | barentsburg\nCity not found. Skipping...\nProcessing Record 48 of Set 6 | springbok\nProcessing Record 49 of Set 6 | marechal candido rondon\nProcessing Record 50 of Set 6 | nizwa\nProcessing Record 1 of Set 7 | hervey bay\nProcessing Record 2 of Set 7 | huarmey\nProcessing Record 3 of Set 7 | talaya\nProcessing Record 4 of Set 7 | kloulklubed\nProcessing Record 5 of Set 7 | port hardy\nProcessing Record 6 of Set 7 | chuy\nProcessing Record 7 of Set 7 | christchurch\nProcessing Record 8 of Set 7 | cherskiy\nProcessing Record 9 of Set 7 | ust-nera\nProcessing Record 10 of Set 7 | kiama\nProcessing Record 11 of Set 7 | hokitika\nProcessing Record 12 of Set 7 | palaikastron\nProcessing Record 13 of Set 7 | parabel\nProcessing Record 14 of Set 7 | ola\nProcessing Record 15 of Set 7 | choctaw\nProcessing Record 16 of Set 7 | terrace bay\nProcessing Record 17 of Set 7 | kalur kot\nProcessing Record 18 of Set 7 | yirol\nCity not found. Skipping...\nProcessing Record 19 of Set 7 | gizo\nProcessing Record 20 of Set 7 | kamenka\nProcessing Record 21 of Set 7 | kodiak\nProcessing Record 22 of Set 7 | husavik\nProcessing Record 23 of Set 7 | leh\nProcessing Record 24 of Set 7 | belmonte\nProcessing Record 25 of Set 7 | colesberg\nProcessing Record 26 of Set 7 | san policarpo\nProcessing Record 27 of Set 7 | port keats\nProcessing Record 28 of Set 7 | mentok\nCity not found. Skipping...\nProcessing Record 29 of Set 7 | sistranda\nProcessing Record 30 of Set 7 | hofn\nProcessing Record 31 of Set 7 | birobidzhan\nProcessing Record 32 of Set 7 | guerrero negro\nProcessing Record 33 of Set 7 | mandalgovi\nProcessing Record 34 of Set 7 | mataquescuintla\nProcessing Record 35 of Set 7 | burkhala\nCity not found. Skipping...\nProcessing Record 36 of Set 7 | tura\nProcessing Record 37 of Set 7 | sao jose da coroa grande\nProcessing Record 38 of Set 7 | pemba\nProcessing Record 39 of Set 7 | marawi\nProcessing Record 40 of Set 7 | pizarro\nProcessing Record 41 of Set 7 | vizimyary\nCity not found. Skipping...\nProcessing Record 42 of Set 7 | yermakovskoye\nProcessing Record 43 of Set 7 | hurghada\nProcessing Record 44 of Set 7 | chernenko\nProcessing Record 45 of Set 7 | sitka\nProcessing Record 46 of Set 7 | port augusta\nProcessing Record 47 of Set 7 | bowen\nProcessing Record 48 of Set 7 | santa rosa\nProcessing Record 49 of Set 7 | yerbogachen\nProcessing Record 50 of Set 7 | valle hermoso\nProcessing Record 1 of Set 8 | ouadda\nProcessing Record 2 of Set 8 | san cristobal\nProcessing Record 3 of Set 8 | ponta delgada\nProcessing Record 4 of Set 8 | chor\nProcessing Record 5 of Set 8 | fallon\nProcessing Record 6 of Set 8 | bajo baudo\nCity not found. Skipping...\nProcessing Record 7 of Set 8 | mukono\nProcessing Record 8 of Set 8 | ussuriysk\nProcessing Record 9 of Set 8 | nemuro\nProcessing Record 10 of Set 8 | sarakhs\nProcessing Record 11 of Set 8 | port pirie\nProcessing Record 12 of Set 8 | hovd\nProcessing Record 13 of Set 8 | alice springs\nProcessing Record 14 of Set 8 | kupang\nProcessing Record 15 of Set 8 | stornoway\nProcessing Record 16 of Set 8 | tazovskiy\nProcessing Record 17 of Set 8 | naze\nProcessing Record 18 of Set 8 | mount gambier\nProcessing Record 19 of Set 8 | olinda\nProcessing Record 20 of Set 8 | duiven\nProcessing Record 21 of Set 8 | kavaratti\nProcessing Record 22 of Set 8 | umzimvubu\nCity not found. Skipping...\nProcessing Record 23 of Set 8 | tamiahua\nProcessing Record 24 of Set 8 | namie\nProcessing Record 25 of Set 8 | doka\nProcessing Record 26 of Set 8 | itarema\nProcessing Record 27 of Set 8 | thomasville\nProcessing Record 28 of Set 8 | ikwiriri\nProcessing Record 29 of Set 8 | asau\nProcessing Record 30 of Set 8 | miles city\nProcessing Record 31 of Set 8 | natitingou\nProcessing Record 32 of Set 8 | dukat\nProcessing Record 33 of Set 8 | isangel\nProcessing Record 34 of Set 8 | tawnat\nCity not found. Skipping...\nProcessing Record 35 of Set 8 | vaitape\nProcessing Record 36 of Set 8 | bonavista\nProcessing Record 37 of Set 8 | byron bay\nProcessing Record 38 of Set 8 | mahajanga\nProcessing Record 39 of Set 8 | tooele\nProcessing Record 40 of Set 8 | coolum beach\nProcessing Record 41 of Set 8 | erdaojiang\nProcessing Record 42 of Set 8 | buqayq\nCity not found. Skipping...\nProcessing Record 43 of Set 8 | moa\nProcessing Record 44 of Set 8 | fort nelson\nProcessing Record 45 of Set 8 | atar\nProcessing Record 46 of Set 8 | komsomolskiy\nProcessing Record 47 of Set 8 | mackay\nProcessing Record 48 of Set 8 | scarborough\nProcessing Record 49 of Set 8 | saqqez\nProcessing Record 50 of Set 8 | hasaki\nProcessing Record 1 of Set 9 | monrovia\nProcessing Record 2 of Set 9 | cedar city\nProcessing Record 3 of Set 9 | pasighat\nProcessing Record 4 of Set 9 | karaul\nCity not found. Skipping...\nProcessing Record 5 of Set 9 | witbank\nProcessing Record 6 of Set 9 | heinola\nProcessing Record 7 of Set 9 | tabuk\nProcessing Record 8 of Set 9 | san rafael\nProcessing Record 9 of Set 9 | karagach\nProcessing Record 10 of Set 9 | pudozh\nProcessing Record 11 of Set 9 | avera\nProcessing Record 12 of Set 9 | hamadan\nProcessing Record 13 of Set 9 | boa vista\nProcessing Record 14 of Set 9 | shaowu\nProcessing Record 15 of Set 9 | mozarlandia\nProcessing Record 16 of Set 9 | puerto boyaca\nProcessing Record 17 of Set 9 | svirstroy\nProcessing Record 18 of Set 9 | fairbanks\nProcessing Record 19 of Set 9 | deputatskiy\nProcessing Record 20 of Set 9 | koslan\nProcessing Record 21 of Set 9 | leopold\nProcessing Record 22 of Set 9 | kars\nProcessing Record 23 of Set 9 | sigli\nProcessing Record 24 of Set 9 | egvekinot\nProcessing Record 25 of Set 9 | maumere\nProcessing Record 26 of Set 9 | mersing\nProcessing Record 27 of Set 9 | petropavl\nProcessing Record 28 of Set 9 | tevriz\nProcessing Record 29 of Set 9 | dzhusaly\nCity not found. Skipping...\nProcessing Record 30 of Set 9 | jiddah\nCity not found. Skipping...\nProcessing Record 31 of Set 9 | fare\nProcessing Record 32 of Set 9 | karratha\nProcessing Record 33 of Set 9 | araouane\nProcessing Record 34 of Set 9 | kaman\nProcessing Record 35 of Set 9 | lahaina\nProcessing Record 36 of Set 9 | nouakchott\nProcessing Record 37 of Set 9 | devonport\nProcessing Record 38 of Set 9 | saint-joseph\nProcessing Record 39 of Set 9 | liverpool\nProcessing Record 40 of Set 9 | maraa\nProcessing Record 41 of Set 9 | dhekiajuli\nProcessing Record 42 of Set 9 | cururupu\nProcessing Record 43 of Set 9 | banapur\nProcessing Record 44 of Set 9 | sawakin\nProcessing Record 45 of Set 9 | ampanihy\nProcessing Record 46 of Set 9 | guangyuan\nProcessing Record 47 of Set 9 | uni\nProcessing Record 48 of Set 9 | san quintin\nProcessing Record 49 of Set 9 | malwan\nCity not found. Skipping...\nProcessing Record 50 of Set 9 | palmer\nProcessing Record 1 of Set 10 | ambon\nProcessing Record 2 of Set 10 | maralal\nProcessing Record 3 of Set 10 | poum\nProcessing Record 4 of Set 10 | kosh-agach\nProcessing Record 5 of Set 10 | tautira\nProcessing Record 6 of Set 10 | daman\nProcessing Record 7 of Set 10 | saint-augustin\nProcessing Record 8 of Set 10 | neiafu\nProcessing Record 9 of Set 10 | vila velha\nProcessing Record 10 of Set 10 | nadym\nProcessing Record 11 of Set 10 | hammerfest\nProcessing Record 12 of Set 10 | warqla\nCity not found. Skipping...\nProcessing Record 13 of Set 10 | kegayli\nCity not found. Skipping...\nProcessing Record 14 of Set 10 | praia da vitoria\nProcessing Record 15 of Set 10 | nishihara\nProcessing Record 16 of Set 10 | kaduqli\nProcessing Record 17 of Set 10 | robertson\nProcessing Record 18 of Set 10 | linchuan\nCity not found. Skipping...\nProcessing Record 19 of Set 10 | ciudad del maiz\nProcessing Record 20 of Set 10 | hay river\nProcessing Record 21 of Set 10 | ewo\nProcessing Record 22 of Set 10 | sabzevar\nProcessing Record 23 of Set 10 | kaura namoda\nProcessing Record 24 of Set 10 | artyk\nCity not found. Skipping...\nProcessing Record 25 of Set 10 | tubuala\nProcessing Record 26 of Set 10 | khormuj\nCity not found. Skipping...\nProcessing Record 27 of Set 10 | baruun-urt\nProcessing Record 28 of Set 10 | terre haute\nProcessing Record 29 of Set 10 | vallenar\nProcessing Record 30 of Set 10 | comodoro rivadavia\nProcessing Record 31 of Set 10 | lavrentiya\nProcessing Record 32 of Set 10 | mauganj\nProcessing Record 33 of Set 10 | kolpashevo\nProcessing Record 34 of Set 10 | karakose\nCity not found. Skipping...\nProcessing Record 35 of Set 10 | pittsburg\nProcessing Record 36 of Set 10 | maniitsoq\nProcessing Record 37 of Set 10 | dingle\nProcessing Record 38 of Set 10 | belton\nProcessing Record 39 of Set 10 | sinazongwe\nProcessing Record 40 of Set 10 | sampit\nProcessing Record 41 of Set 10 | louisbourg\nCity not found. Skipping...\nProcessing Record 42 of Set 10 | santa maria\nProcessing Record 43 of Set 10 | pedana\nProcessing Record 44 of Set 10 | kargasok\nProcessing Record 45 of Set 10 | victor harbor\nProcessing Record 46 of Set 10 | zima\nProcessing Record 47 of Set 10 | salalah\nProcessing Record 48 of Set 10 | okato\nProcessing Record 49 of Set 10 | los llanos de aridane\nProcessing Record 50 of Set 10 | meyungs\nCity not found. Skipping...\nProcessing Record 1 of Set 11 | camacha\nProcessing Record 2 of Set 11 | maldonado\nProcessing Record 3 of Set 11 | adrar\nProcessing Record 4 of Set 11 | pilar\nProcessing Record 5 of Set 11 | san carlos de bariloche\nProcessing Record 6 of Set 11 | shitanjing\nProcessing Record 7 of Set 11 | batagay-alyta\nProcessing Record 8 of Set 11 | kaitangata\nProcessing Record 9 of Set 11 | vitim\nProcessing Record 10 of Set 11 | porto santo\nProcessing Record 11 of Set 11 | lasa\nProcessing Record 12 of Set 11 | koping\nProcessing Record 13 of Set 11 | puerto colombia\nProcessing Record 14 of Set 11 | amalapuram\nProcessing Record 15 of Set 11 | havelock\nProcessing Record 16 of Set 11 | khash\nProcessing Record 17 of Set 11 | santarem\nProcessing Record 18 of Set 11 | dien bien\nCity not found. Skipping...\nProcessing Record 19 of Set 11 | taoudenni\nProcessing Record 20 of Set 11 | ust-kamchatsk\nCity not found. Skipping...\nProcessing Record 21 of Set 11 | ust-kuyga\nProcessing Record 22 of Set 11 | komatipoort\nProcessing Record 23 of Set 11 | ustye\nProcessing Record 24 of Set 11 | rorvik\nProcessing Record 25 of Set 11 | nsanje\nProcessing Record 26 of Set 11 | kokstad\nProcessing Record 27 of Set 11 | dunedin\nProcessing Record 28 of Set 11 | ambodifototra\nCity not found. Skipping...\nProcessing Record 29 of Set 11 | bosaso\nProcessing Record 30 of Set 11 | moctezuma\nProcessing Record 31 of Set 11 | lichinga\nProcessing Record 32 of Set 11 | mayo\nProcessing Record 33 of Set 11 | samusu\nCity not found. Skipping...\nProcessing Record 34 of Set 11 | korsor\nProcessing Record 35 of Set 11 | sibanicu\nProcessing Record 36 of Set 11 | lakinsk\nProcessing Record 37 of Set 11 | bolshaya irba\nCity not found. Skipping...\nProcessing Record 38 of Set 11 | fort smith\nProcessing Record 39 of Set 11 | belyy yar\nProcessing Record 40 of Set 11 | camana\nProcessing Record 41 of Set 11 | hambantota\nProcessing Record 42 of Set 11 | thano bula khan\nCity not found. Skipping...\nProcessing Record 43 of Set 11 | bachaquero\nProcessing Record 44 of Set 11 | ucluelet\nProcessing Record 45 of Set 11 | tsagan aman\nProcessing Record 46 of Set 11 | sur\nProcessing Record 47 of Set 11 | ankang\nProcessing Record 48 of Set 11 | saint-louis\nProcessing Record 49 of Set 11 | dolores\nProcessing Record 50 of Set 11 | mazagao\nProcessing Record 1 of Set 12 | langsa\nProcessing Record 2 of Set 12 | omboue\nProcessing Record 3 of Set 12 | mount pleasant\nProcessing Record 4 of Set 12 | odweyne\nProcessing Record 5 of Set 12 | kirakira\nProcessing Record 6 of Set 12 | lompoc\nProcessing Record 7 of Set 12 | olafsvik\nProcessing Record 8 of Set 12 | beira\nProcessing Record 9 of Set 12 | tromso\nProcessing Record 10 of Set 12 | matara\nProcessing Record 11 of Set 12 | shamkhal\nProcessing Record 12 of Set 12 | waddan\nProcessing Record 13 of Set 12 | varadero\nProcessing Record 14 of Set 12 | ovalle\nProcessing Record 15 of Set 12 | nouadhibou\nProcessing Record 16 of Set 12 | bundaberg\nProcessing Record 17 of Set 12 | udaipura\nProcessing Record 18 of Set 12 | skjervoy\nProcessing Record 19 of Set 12 | noumea\nProcessing Record 20 of Set 12 | kyren\nProcessing Record 21 of Set 12 | thohoyandou\nProcessing Record 22 of Set 12 | maseru\nProcessing Record 23 of Set 12 | najran\nProcessing Record 24 of Set 12 | north myrtle beach\nProcessing Record 25 of Set 12 | yanan\nCity not found. Skipping...\nProcessing Record 26 of Set 12 | palana\nProcessing Record 27 of Set 12 | sidi ali\nProcessing Record 28 of Set 12 | sisimiut\nProcessing Record 29 of Set 12 | lingao\nProcessing Record 30 of Set 12 | cagliari\nProcessing Record 31 of Set 12 | nizhniy tsasuchey\nProcessing Record 32 of Set 12 | kolomna\nProcessing Record 33 of Set 12 | king city\nProcessing Record 34 of Set 12 | borogontsy\nProcessing Record 35 of Set 12 | bermejo\nProcessing Record 36 of Set 12 | guanay\nProcessing Record 37 of Set 12 | klyuchi\nProcessing Record 38 of Set 12 | san benito\nProcessing Record 39 of Set 12 | salisbury\nProcessing Record 40 of Set 12 | megion\nProcessing Record 41 of Set 12 | mehamn\n-----------------------------\nData Retrieval Complete      \n-----------------------------\n"
    }
   ],
   "source": [
    "# CHALLENGE PART 1 List of city data\n",
    "city_data = []\n",
    "\n",
    "# Print to logger\n",
    "print(\"Beginning Data Retrieval     \")\n",
    "print(\"-----------------------------\")\n",
    "\n",
    "# Create counters\n",
    "record_count = 1\n",
    "set_count = 1\n",
    "\n",
    "# Loop through all the cities in our list\n",
    "for i, city in enumerate(cities):\n",
    "        \n",
    "    # Group cities in sets of 50 for logging purposes\n",
    "    if (i % 50 == 0 and i >= 50):\n",
    "        set_count += 1\n",
    "        record_count = 1\n",
    "\n",
    "    # Create endpoint URL with each city\n",
    "    city_url = url + \"&q=\" + city.replace(\" \",\"+\")\n",
    "    \n",
    "    # Log the url, record, and set numbers\n",
    "    print(f\"Processing Record {record_count} of Set {set_count} | {city}\")\n",
    "\n",
    "    # Add 1 to the record count\n",
    "    record_count += 1\n",
    "\n",
    "    # Run an API request for each of the cities\n",
    "    try:\n",
    "        city_weather = requests.get(city_url).json()\n",
    "        # Parse out the max temp, humidity, and cloudiness, CHALLENGE PART 1: ALSO WEATHER DESCRIPTION\n",
    "        city_lat = city_weather[\"coord\"][\"lat\"]\n",
    "        city_lng = city_weather[\"coord\"][\"lon\"]\n",
    "        city_max_temp = city_weather[\"main\"][\"temp_max\"]\n",
    "        city_humidity = city_weather[\"main\"][\"humidity\"]\n",
    "        city_clouds = city_weather[\"clouds\"][\"all\"]\n",
    "        city_wind = city_weather[\"wind\"][\"speed\"]\n",
    "        city_country = city_weather[\"sys\"][\"country\"]\n",
    "        city_weather_description = city_weather[\"weather\"][0][\"description\"] \n",
    "        \n",
    "        # CHALLENGE PART 1:  Try except blocks for rain and snow\n",
    "        try:\n",
    "            city_rain_inches = city_weather[\"rain\"][\"3h\"]\n",
    "        except KeyError:\n",
    "            city_rain_inches = 0\n",
    "        try:\n",
    "            city_snow_inches = city_weather[\"snow\"][\"3h\"]\n",
    "        except KeyError:\n",
    "            city_snow_inches = 0        \n",
    "            \n",
    "            #  CHALLENGE PART 1  new Append the City information into city_data list\n",
    "        city_data.append({\"City\": city.title(), \n",
    "                          \"Lat\": city_lat, \n",
    "                          \"Lng\": city_lng, \n",
    "                          \"Max Temp\": city_max_temp,\n",
    "                          \"Current Description\": city_weather_description,\n",
    "                          \"Rain (inches)\": city_rain_inches,\n",
    "                          \"Snow (inches)\": city_snow_inches,\n",
    "                          \"Humidity\": city_humidity,\n",
    "                          \"Cloudiness\": city_clouds,\n",
    "                          \"Wind Speed\": city_wind,\n",
    "                          \"Country\": city_country})\n",
    "    # If an error is experienced, skip the city\n",
    "\n",
    "    except:\n",
    "        print(\"City not found. Skipping...\")\n",
    "        pass\n",
    "\n",
    "# Indicate that Data Loading is complete \n",
    "print(\"-----------------------------\")\n",
    "print(\"Data Retrieval Complete      \")\n",
    "print(\"-----------------------------\")"
   ]
  },
  {
   "cell_type": "code",
   "execution_count": 22,
   "metadata": {},
   "outputs": [
    {
     "output_type": "execute_result",
     "data": {
      "text/plain": "591"
     },
     "metadata": {},
     "execution_count": 22
    }
   ],
   "source": [
    "len(cities)"
   ]
  },
  {
   "cell_type": "code",
   "execution_count": 23,
   "metadata": {},
   "outputs": [
    {
     "output_type": "execute_result",
     "data": {
      "text/plain": "             City    Lat     Lng  Max Temp Current Description  Rain (inches)  \\\n0          Hobart -42.88  147.33     46.00       broken clouds              0   \n1  Cap Malheureux -19.98   57.61     72.00          few clouds              0   \n2       Esperance -33.87  121.90     48.20           clear sky              0   \n3       Busselton -33.65  115.33     59.00          light rain              0   \n4         Mataura -46.19  168.86     44.11       broken clouds              0   \n5        Benguela -12.58   13.41     67.32           clear sky              0   \n6         Rikitea -23.12 -134.97     71.20     overcast clouds              0   \n7       Jamestown  42.10  -79.24     70.00           clear sky              0   \n8          Castro -24.79  -50.01     58.10           clear sky              0   \n9   Makakilo City  21.35 -158.09     86.00       broken clouds              0   \n\n   Snow (inches)  Humidity  Cloudiness  Wind Speed Country  \n0              0        87          75        5.82      AU  \n1              0        74          19        8.01      MU  \n2              0        61           0       20.80      AU  \n3              0        68          98       12.80      AU  \n4              0        84          75        4.54      NZ  \n5              0        85           0        6.38      AO  \n6              0        73          90       14.18      PF  \n7              0        73           1        6.93      US  \n8              0        88           5        4.76      BR  \n9              0        51          75        6.93      US  ",
      "text/html": "<div>\n<style scoped>\n    .dataframe tbody tr th:only-of-type {\n        vertical-align: middle;\n    }\n\n    .dataframe tbody tr th {\n        vertical-align: top;\n    }\n\n    .dataframe thead th {\n        text-align: right;\n    }\n</style>\n<table border=\"1\" class=\"dataframe\">\n  <thead>\n    <tr style=\"text-align: right;\">\n      <th></th>\n      <th>City</th>\n      <th>Lat</th>\n      <th>Lng</th>\n      <th>Max Temp</th>\n      <th>Current Description</th>\n      <th>Rain (inches)</th>\n      <th>Snow (inches)</th>\n      <th>Humidity</th>\n      <th>Cloudiness</th>\n      <th>Wind Speed</th>\n      <th>Country</th>\n    </tr>\n  </thead>\n  <tbody>\n    <tr>\n      <th>0</th>\n      <td>Hobart</td>\n      <td>-42.88</td>\n      <td>147.33</td>\n      <td>46.00</td>\n      <td>broken clouds</td>\n      <td>0</td>\n      <td>0</td>\n      <td>87</td>\n      <td>75</td>\n      <td>5.82</td>\n      <td>AU</td>\n    </tr>\n    <tr>\n      <th>1</th>\n      <td>Cap Malheureux</td>\n      <td>-19.98</td>\n      <td>57.61</td>\n      <td>72.00</td>\n      <td>few clouds</td>\n      <td>0</td>\n      <td>0</td>\n      <td>74</td>\n      <td>19</td>\n      <td>8.01</td>\n      <td>MU</td>\n    </tr>\n    <tr>\n      <th>2</th>\n      <td>Esperance</td>\n      <td>-33.87</td>\n      <td>121.90</td>\n      <td>48.20</td>\n      <td>clear sky</td>\n      <td>0</td>\n      <td>0</td>\n      <td>61</td>\n      <td>0</td>\n      <td>20.80</td>\n      <td>AU</td>\n    </tr>\n    <tr>\n      <th>3</th>\n      <td>Busselton</td>\n      <td>-33.65</td>\n      <td>115.33</td>\n      <td>59.00</td>\n      <td>light rain</td>\n      <td>0</td>\n      <td>0</td>\n      <td>68</td>\n      <td>98</td>\n      <td>12.80</td>\n      <td>AU</td>\n    </tr>\n    <tr>\n      <th>4</th>\n      <td>Mataura</td>\n      <td>-46.19</td>\n      <td>168.86</td>\n      <td>44.11</td>\n      <td>broken clouds</td>\n      <td>0</td>\n      <td>0</td>\n      <td>84</td>\n      <td>75</td>\n      <td>4.54</td>\n      <td>NZ</td>\n    </tr>\n    <tr>\n      <th>5</th>\n      <td>Benguela</td>\n      <td>-12.58</td>\n      <td>13.41</td>\n      <td>67.32</td>\n      <td>clear sky</td>\n      <td>0</td>\n      <td>0</td>\n      <td>85</td>\n      <td>0</td>\n      <td>6.38</td>\n      <td>AO</td>\n    </tr>\n    <tr>\n      <th>6</th>\n      <td>Rikitea</td>\n      <td>-23.12</td>\n      <td>-134.97</td>\n      <td>71.20</td>\n      <td>overcast clouds</td>\n      <td>0</td>\n      <td>0</td>\n      <td>73</td>\n      <td>90</td>\n      <td>14.18</td>\n      <td>PF</td>\n    </tr>\n    <tr>\n      <th>7</th>\n      <td>Jamestown</td>\n      <td>42.10</td>\n      <td>-79.24</td>\n      <td>70.00</td>\n      <td>clear sky</td>\n      <td>0</td>\n      <td>0</td>\n      <td>73</td>\n      <td>1</td>\n      <td>6.93</td>\n      <td>US</td>\n    </tr>\n    <tr>\n      <th>8</th>\n      <td>Castro</td>\n      <td>-24.79</td>\n      <td>-50.01</td>\n      <td>58.10</td>\n      <td>clear sky</td>\n      <td>0</td>\n      <td>0</td>\n      <td>88</td>\n      <td>5</td>\n      <td>4.76</td>\n      <td>BR</td>\n    </tr>\n    <tr>\n      <th>9</th>\n      <td>Makakilo City</td>\n      <td>21.35</td>\n      <td>-158.09</td>\n      <td>86.00</td>\n      <td>broken clouds</td>\n      <td>0</td>\n      <td>0</td>\n      <td>51</td>\n      <td>75</td>\n      <td>6.93</td>\n      <td>US</td>\n    </tr>\n  </tbody>\n</table>\n</div>"
     },
     "metadata": {},
     "execution_count": 23
    }
   ],
   "source": [
    "weather_py_df = pd.DataFrame(city_data)\n",
    "weather_py_df.head(10)"
   ]
  },
  {
   "cell_type": "code",
   "execution_count": 24,
   "metadata": {},
   "outputs": [],
   "source": [
    "# CHALLENGE PART 1: Reorder the DF to look like that of the one in the example\n",
    "\n",
    "new_column_order = [\"City\",\"Country\",\"Lat\",\"Lng\",\"Max Temp\",\"Humidity\",\"Cloudiness\",\"Wind Speed\", \"Current Description\", \"Rain (inches)\", \"Snow (inches)\"]\n",
    "\n",
    "weather_py_df = weather_py_df[new_column_order]"
   ]
  },
  {
   "cell_type": "code",
   "execution_count": 25,
   "metadata": {},
   "outputs": [
    {
     "output_type": "execute_result",
     "data": {
      "text/plain": "               City Country    Lat     Lng  Max Temp  Humidity  Cloudiness  \\\n0            Hobart      AU -42.88  147.33     46.00        87          75   \n1    Cap Malheureux      MU -19.98   57.61     72.00        74          19   \n2         Esperance      AU -33.87  121.90     48.20        61           0   \n3         Busselton      AU -33.65  115.33     59.00        68          98   \n4           Mataura      NZ -46.19  168.86     44.11        84          75   \n..              ...     ...    ...     ...       ...       ...         ...   \n529         Klyuchi      RU  52.27   79.17     66.29        75           0   \n530      San Benito      GT  16.91  -89.91     82.83        63          58   \n531       Salisbury      GB  51.07   -1.80     57.20        71          14   \n532          Megion      RU  61.03   76.11     59.00        93          63   \n533          Mehamn      NO  71.04   27.85     48.16        81           0   \n\n     Wind Speed Current Description  Rain (inches)  Snow (inches)  \n0          5.82       broken clouds              0              0  \n1          8.01          few clouds              0              0  \n2         20.80           clear sky              0              0  \n3         12.80          light rain              0              0  \n4          4.54       broken clouds              0              0  \n..          ...                 ...            ...            ...  \n529       13.78           clear sky              0              0  \n530        3.15       broken clouds              0              0  \n531        6.93          few clouds              0              0  \n532        4.47       broken clouds              0              0  \n533        4.81           clear sky              0              0  \n\n[534 rows x 11 columns]",
      "text/html": "<div>\n<style scoped>\n    .dataframe tbody tr th:only-of-type {\n        vertical-align: middle;\n    }\n\n    .dataframe tbody tr th {\n        vertical-align: top;\n    }\n\n    .dataframe thead th {\n        text-align: right;\n    }\n</style>\n<table border=\"1\" class=\"dataframe\">\n  <thead>\n    <tr style=\"text-align: right;\">\n      <th></th>\n      <th>City</th>\n      <th>Country</th>\n      <th>Lat</th>\n      <th>Lng</th>\n      <th>Max Temp</th>\n      <th>Humidity</th>\n      <th>Cloudiness</th>\n      <th>Wind Speed</th>\n      <th>Current Description</th>\n      <th>Rain (inches)</th>\n      <th>Snow (inches)</th>\n    </tr>\n  </thead>\n  <tbody>\n    <tr>\n      <th>0</th>\n      <td>Hobart</td>\n      <td>AU</td>\n      <td>-42.88</td>\n      <td>147.33</td>\n      <td>46.00</td>\n      <td>87</td>\n      <td>75</td>\n      <td>5.82</td>\n      <td>broken clouds</td>\n      <td>0</td>\n      <td>0</td>\n    </tr>\n    <tr>\n      <th>1</th>\n      <td>Cap Malheureux</td>\n      <td>MU</td>\n      <td>-19.98</td>\n      <td>57.61</td>\n      <td>72.00</td>\n      <td>74</td>\n      <td>19</td>\n      <td>8.01</td>\n      <td>few clouds</td>\n      <td>0</td>\n      <td>0</td>\n    </tr>\n    <tr>\n      <th>2</th>\n      <td>Esperance</td>\n      <td>AU</td>\n      <td>-33.87</td>\n      <td>121.90</td>\n      <td>48.20</td>\n      <td>61</td>\n      <td>0</td>\n      <td>20.80</td>\n      <td>clear sky</td>\n      <td>0</td>\n      <td>0</td>\n    </tr>\n    <tr>\n      <th>3</th>\n      <td>Busselton</td>\n      <td>AU</td>\n      <td>-33.65</td>\n      <td>115.33</td>\n      <td>59.00</td>\n      <td>68</td>\n      <td>98</td>\n      <td>12.80</td>\n      <td>light rain</td>\n      <td>0</td>\n      <td>0</td>\n    </tr>\n    <tr>\n      <th>4</th>\n      <td>Mataura</td>\n      <td>NZ</td>\n      <td>-46.19</td>\n      <td>168.86</td>\n      <td>44.11</td>\n      <td>84</td>\n      <td>75</td>\n      <td>4.54</td>\n      <td>broken clouds</td>\n      <td>0</td>\n      <td>0</td>\n    </tr>\n    <tr>\n      <th>...</th>\n      <td>...</td>\n      <td>...</td>\n      <td>...</td>\n      <td>...</td>\n      <td>...</td>\n      <td>...</td>\n      <td>...</td>\n      <td>...</td>\n      <td>...</td>\n      <td>...</td>\n      <td>...</td>\n    </tr>\n    <tr>\n      <th>529</th>\n      <td>Klyuchi</td>\n      <td>RU</td>\n      <td>52.27</td>\n      <td>79.17</td>\n      <td>66.29</td>\n      <td>75</td>\n      <td>0</td>\n      <td>13.78</td>\n      <td>clear sky</td>\n      <td>0</td>\n      <td>0</td>\n    </tr>\n    <tr>\n      <th>530</th>\n      <td>San Benito</td>\n      <td>GT</td>\n      <td>16.91</td>\n      <td>-89.91</td>\n      <td>82.83</td>\n      <td>63</td>\n      <td>58</td>\n      <td>3.15</td>\n      <td>broken clouds</td>\n      <td>0</td>\n      <td>0</td>\n    </tr>\n    <tr>\n      <th>531</th>\n      <td>Salisbury</td>\n      <td>GB</td>\n      <td>51.07</td>\n      <td>-1.80</td>\n      <td>57.20</td>\n      <td>71</td>\n      <td>14</td>\n      <td>6.93</td>\n      <td>few clouds</td>\n      <td>0</td>\n      <td>0</td>\n    </tr>\n    <tr>\n      <th>532</th>\n      <td>Megion</td>\n      <td>RU</td>\n      <td>61.03</td>\n      <td>76.11</td>\n      <td>59.00</td>\n      <td>93</td>\n      <td>63</td>\n      <td>4.47</td>\n      <td>broken clouds</td>\n      <td>0</td>\n      <td>0</td>\n    </tr>\n    <tr>\n      <th>533</th>\n      <td>Mehamn</td>\n      <td>NO</td>\n      <td>71.04</td>\n      <td>27.85</td>\n      <td>48.16</td>\n      <td>81</td>\n      <td>0</td>\n      <td>4.81</td>\n      <td>clear sky</td>\n      <td>0</td>\n      <td>0</td>\n    </tr>\n  </tbody>\n</table>\n<p>534 rows × 11 columns</p>\n</div>"
     },
     "metadata": {},
     "execution_count": 25
    }
   ],
   "source": [
    "weather_py_df"
   ]
  },
  {
   "cell_type": "code",
   "execution_count": 26,
   "metadata": {},
   "outputs": [],
   "source": [
    "# CHALLENGE PART 1: Show how many cities have rain"
   ]
  },
  {
   "cell_type": "code",
   "execution_count": 27,
   "metadata": {},
   "outputs": [
    {
     "output_type": "execute_result",
     "data": {
      "text/plain": "534"
     },
     "metadata": {},
     "execution_count": 27
    }
   ],
   "source": [
    "len(weather_py_df[\"Snow (inches)\"] == 0)"
   ]
  },
  {
   "cell_type": "code",
   "execution_count": 28,
   "metadata": {},
   "outputs": [],
   "source": [
    "# CHALLENGE PART 1: Save the new DF as a CSV\n",
    "output_data_file = \"WeatherPy_database.csv\"\n",
    "#Export the df to the output\n",
    "weather_py_df.to_csv(output_data_file, index_label = \"City_ID\")"
   ]
  },
  {
   "cell_type": "code",
   "execution_count": null,
   "metadata": {},
   "outputs": [],
   "source": []
  }
 ],
 "metadata": {
  "language_info": {
   "codemirror_mode": {
    "name": "ipython",
    "version": 3
   },
   "file_extension": ".py",
   "mimetype": "text/x-python",
   "name": "python",
   "nbconvert_exporter": "python",
   "pygments_lexer": "ipython3",
   "version": 3
  },
  "orig_nbformat": 2,
  "kernelspec": {
   "name": "python_defaultSpec_1594590747331",
   "display_name": "Python 3.7.7 64-bit ('PythonData': conda)"
  }
 },
 "nbformat": 4,
 "nbformat_minor": 2
}