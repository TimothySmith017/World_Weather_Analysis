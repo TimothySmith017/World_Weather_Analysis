{
 "cells": [
  {
   "cell_type": "code",
   "execution_count": 2,
   "metadata": {},
   "outputs": [],
   "source": [
    "# Import the dependencies.\n",
    "import pandas as pd\n",
    "import matplotlib.pyplot as plt\n",
    "import numpy as np\n",
    "# Immport the requests log\n",
    "import requests\n",
    "requests.__version__\n",
    "\n",
    "#Import the API Key\n",
    "from config import weather_api_key"
   ]
  },
  {
   "cell_type": "code",
   "execution_count": 3,
   "metadata": {},
   "outputs": [
    {
     "output_type": "execute_result",
     "data": {
      "text/plain": "<zip at 0x7fb05a647be0>"
     },
     "metadata": {},
     "execution_count": 3
    }
   ],
   "source": [
    "# Create a set of random latitude and longitude functions\n",
    "lats = np.random.uniform(low =-90.000, high = 90.000, size = 1500)\n",
    "lngs = np.random.uniform(low = -180, high = 180, size = 1500)\n",
    "lat_lngs = zip(lats,lngs)\n",
    "lat_lngs"
   ]
  },
  {
   "cell_type": "code",
   "execution_count": 4,
   "metadata": {},
   "outputs": [],
   "source": [
    "# Add the latitudes and the longitudes to a list.\n",
    "coordinates = list(lat_lngs)"
   ]
  },
  {
   "cell_type": "code",
   "execution_count": 5,
   "metadata": {},
   "outputs": [],
   "source": [
    "# Use the citipy module to determine city based on latitude and longitude.\n",
    "from citipy import citipy"
   ]
  },
  {
   "cell_type": "code",
   "execution_count": 6,
   "metadata": {
    "tags": []
   },
   "outputs": [],
   "source": [
    "# Create a list for holding the cities.\n",
    "cities =[]\n",
    "\n",
    "# Identify the nearest city for each latitude and longitude combination.\n",
    "for coordinate in coordinates:\n",
    "    city = citipy.nearest_city(coordinate[0], coordinate[1]).city_name\n",
    "\n",
    "    #If the city is unique then we will add it fto the cities list\n",
    "    if city not in cities:\n",
    "        cities.append(city)\n",
    "    \n",
    "    #Print the city count to confirm the sufficient count.\n",
    "    len(cities)"
   ]
  },
  {
   "cell_type": "code",
   "execution_count": 7,
   "metadata": {},
   "outputs": [
    {
     "output_type": "execute_result",
     "data": {
      "text/plain": "602"
     },
     "metadata": {},
     "execution_count": 7
    }
   ],
   "source": [
    "len(cities)"
   ]
  },
  {
   "cell_type": "code",
   "execution_count": 13,
   "metadata": {
    "tags": []
   },
   "outputs": [
    {
     "output_type": "stream",
     "name": "stdout",
     "text": "toliary mg\ngeraldton au\nhobart au\ntibati cm\nbontang id\ntoliary mg\neast london za\nmys shmidta ru\npisco pe\ngat ly\ngrindavik is\nmezen ru\nnizhneyansk ru\nhilo us\nglazov ru\nbusselton au\nbluff nz\nbengkulu id\nkapaa us\nkhatanga ru\ntres de maio br\nsulangan ph\nsentyabrskiy ru\nyumen cn\nvaini to\nport alfred za\ntuktoyaktuk ca\nkomsomolskiy ru\nbusselton au\nalbany au\nkruisfontein za\nmataura pf\nnemuro jp\nvestmannaeyjar is\nwentzville us\nport lincoln au\nesperance au\ncape town za\ngeraldton au\nnamatanai pg\nalbany au\navarua ck\nhinton ca\nbarentsburg sj\nsitka us\nmuros es\ntinsukia in\nnikolskoye ru\nbarrow us\nushuaia ar\nsan cristobal ec\nrikitea pf\nbonavista ca\nsaint-philippe re\nchagda ru\nbarrow us\nhermanus za\nbluff nz\nsorland no\nlensk ru\nkodiak us\nilloqqortoormiut gl\nchuy uy\nwhitehorse ca\ntorbay ca\ntouros br\nmataura pf\ncidreira br\nsan patricio mx\nchingirlau kz\nrikitea pf\npisco pe\ntilichiki ru\nvictoria sc\ncoquimbo cl\nrikitea pf\nyellowknife ca\npuerto ayora ec\njinchang cn\ngeorgetown sh\nclyde river ca\npunta arenas cl\nlebowakgomo za\nmataura pf\nmakat kz\ntuktoyaktuk ca\nbutembo cd\nvaini to\nvaini to\nvaini to\nushuaia ar\nponta do sol cv\ncastro cl\nrikitea pf\nhermanus za\nbako et\nnyurba ru\nmahebourg mu\nkaitangata nz\npunta arenas cl\nkruisfontein za\nyellowknife ca\ntuktoyaktuk ca\navera pf\nmadimba tz\nyellowknife ca\nchuy uy\nvictoria sc\ngeorgetown sh\nmys shmidta ru\nambilobe mg\nigarka ru\ncatumbela ao\nmataura pf\nmanta ec\ntaolanaro mg\nxingcheng cn\nrikitea pf\nvaitupu wf\nmerauke id\ncherskiy ru\ntaolanaro mg\npoum nc\nthompson ca\nvaini to\nhaines junction ca\nushuaia ar\nkiruna se\nnemuro jp\nkaitangata nz\nilloqqortoormiut gl\ncomodoro rivadavia ar\nkhomeynishahr ir\nbluff nz\nixtapa mx\npunta arenas cl\nhobart au\nyellowknife ca\nushuaia ar\ntemaraia ki\nkoumac nc\npuerto ayora ec\nboende cd\ncastro cl\nkapaa us\nhobart au\nnizwa om\nsitka us\nbethel us\nvardo no\nyellowknife ca\nkudahuvadhoo mv\nbokspits bw\nmananjary mg\nardakan ir\ntaolanaro mg\nkaitong cn\nsaint-augustin ca\ntuktoyaktuk ca\nornskoldsvik se\nyulara au\npunta arenas cl\nhithadhoo mv\nsydney au\nhobart au\nbethel us\nport alfred za\nfairbanks us\nabnub eg\ntaolanaro mg\npetropavlovsk-kamchatskiy ru\nhilo us\ncollege us\npuerto ayora ec\nrikitea pf\nzhigansk ru\nrikitea pf\ncidreira br\nbusselton au\ngrand gaube mu\nvaldivia cl\nnaryan-mar ru\ntorbay ca\nkiruna se\nhonningsvag no\namherst center us\nhermanus za\nnew norfolk au\nribeira grande pt\nkorla cn\nkapaa us\npunta arenas cl\nrikitea pf\nhobart au\nlonglac ca\nmount isa au\nrikitea pf\nport alfred za\npunta alta ar\nngukurr au\nushuaia ar\nsangar ru\nkoroni gr\ntaolanaro mg\nredmond us\ncollege us\nkloulklubed pw\nnizhneyansk ru\nmont-de-marsan fr\ntorbay ca\nbluff nz\nsan patricio mx\nsabang id\nport alfred za\nqaanaaq gl\nrikitea pf\nkodinsk ru\natuona pf\nkomsomolskiy ru\ndiveyevo ru\njiaohe cn\nnew norfolk au\nponta do sol cv\ngeraldton au\nnikolskoye ru\ntorbay ca\nnouadhibou mr\nsaskylakh ru\npraia cv\nbusselton au\nilhabela br\njamestown sh\nrikitea pf\njamestown sh\nsaint-leu re\nalbany au\ncape town za\nayabaca pe\npunta arenas cl\nmonster nl\nhermanus za\ncorinth us\nkommunisticheskiy ru\nnarsaq gl\npevek ru\npuerto ayora ec\nalbany au\nupernavik gl\ntaolanaro mg\nvaini to\nguerrero negro mx\nmeulaboh id\nsao joao da barra br\nishigaki jp\nbelushya guba ru\nthinadhoo mv\nalbany au\nmataura pf\nrikitea pf\nnampula mz\nfairbanks us\ncoihaique cl\nqaanaaq gl\nbutaritari ki\npak phanang th\nushuaia ar\nbelushya guba ru\nrikitea pf\npunta arenas cl\ncaravelas br\nrikitea pf\nmataura pf\nnamatanai pg\nmataura pf\nsaint pete beach us\ntocopilla cl\nbusselton au\nbusselton au\nnew norfolk au\nupernavik gl\nyellowknife ca\nboone us\nsevero-kurilsk ru\nvaini to\ntuktoyaktuk ca\ntiznit ma\nmataura pf\nhermanus za\ncape town za\nlucapa ao\nkavaratti in\nalbanel ca\nalbany au\nbarrow us\njamestown sh\nbredasdorp za\nvilhena br\navarua ck\nsyamzha ru\nyenagoa ng\nbluff nz\nmar del plata ar\nmar del plata ar\nmatola mz\nsaldanha za\nhermanus za\nport lincoln au\nhermanus za\nwajir ke\narraial do cabo br\nbutaritari ki\natuona pf\nnamatanai pg\nasfi ma\nkudahuvadhoo mv\ndingle ie\nrikitea pf\nfort nelson ca\ntorbay ca\ncalabozo ve\nchuy uy\narmidale au\nmahebourg mu\nkruisfontein za\nfaya td\nushuaia ar\nsevero-kurilsk ru\najdabiya ly\nnikolskoye ru\nfairbanks us\natuona pf\nrikitea pf\nhermanus za\nisiro cd\npandan ph\ndunedin nz\nmar del plata ar\ntasiilaq gl\natuona pf\nvaini to\nconstitucion mx\nsao francisco br\noga jp\nhaines junction ca\njamestown sh\niqaluit ca\nalta floresta br\ncastro cl\nchai badan th\nballina au\nsokoto ng\nport elizabeth za\nponta do sol cv\ntaolanaro mg\nhermanus za\nkapaa us\nchabahar ir\ncalituban ph\nbusselton au\ncastro cl\nrorvik no\nushuaia ar\nairai pw\nkalmunai lk\nfort saint john ca\nkavieng pg\ntasiilaq gl\nport alfred za\nariquemes br\nbad wildbad de\ntura ru\nbarrow us\nalbany au\ndikson ru\nbluff nz\nsao joao da barra br\nbage br\nahipara nz\nmataura pf\nguerrero negro mx\nlaunceston au\nupernavik gl\ntuktoyaktuk ca\npunta arenas cl\nbayeux fr\njamestown sh\nushuaia ar\nnikolskoye ru\nlabuan my\nrikitea pf\nnew norfolk au\nnekhayevskiy ru\nhobart au\ncastro cl\nyumen cn\ntaolanaro mg\npuerto ayora ec\nhermanus za\nushuaia ar\nnisia floresta br\nbusselton au\nbelushya guba ru\ncollege us\nrikitea pf\ntuktoyaktuk ca\navarua ck\ntiksi ru\navarua ck\nalbany au\nchokurdakh ru\nbelushya guba ru\nisangel vu\namderma ru\nnecochea ar\ncarnarvon au\nsaint-philippe re\ntromso no\nhilo us\nparabel ru\nklaksvik fo\nacapulco mx\nbelushya guba ru\nsakakah sa\nnizhneyansk ru\nhilo us\nushuaia ar\nnew norfolk au\nsaint-philippe re\nhermanus za\nbambous virieux mu\natuona pf\nsouillac mu\ntilichiki ru\nhanko fi\nvaini to\ncape town za\ncape town za\nlolua tv\natuona pf\nklaksvik fo\nrikitea pf\ntromso no\ndharchula in\nnecochea ar\nchristchurch nz\nossora ru\npevek ru\npueblo nuevo pe\nbutaritari ki\ntura ru\nport hedland au\nsaleaula ws\ntaolanaro mg\nkathmandu np\ntiksi ru\ncidreira br\nkutum sd\nalbany au\nushuaia ar\ncastro cl\natambua id\nkhanpur pk\nhobart au\nperuibe br\nwhite rock ca\nnew norfolk au\nbredasdorp za\nbusselton au\ntsihombe mg\nbengkulu id\npunta arenas cl\nbethel us\npeyima sl\nyellowknife ca\ndhidhdhoo mv\npunta arenas cl\npunta arenas cl\ntalnakh ru\nvaini to\ncastro cl\npauini br\nmogadishu so\narawa pg\nyerkoy tr\nhonningsvag no\nbiak id\npunta arenas cl\neast london za\nkapaa us\nkohtla-jarve ee\nisangel vu\nviedma ar\nbarrow us\nbusselton au\ntiarei pf\nkhatanga ru\nakoupe ci\npresidencia roque saenz pena ar\nhilo us\nrundu na\nhithadhoo mv\nmoose jaw ca\ntuktoyaktuk ca\nclyde river ca\narraial do cabo br\nmataura pf\nbredasdorp za\nginir et\ndeputatskiy ru\nhithadhoo mv\nribeira grande pt\nhonningsvag no\nport lincoln au\njamestown sh\nribeira grande pt\nbukachacha ru\ntiksi ru\npunta arenas cl\nisangel vu\nnam tha la\nrikitea pf\nkahului us\nyellowknife ca\nsitka us\nsamusu ws\nnaryan-mar ru\nrikitea pf\nhermanus za\npuerto ayora ec\nbredasdorp za\nkimbe pg\neast london za\nkodiak us\nesperance au\njonesboro us\nrikitea pf\nclarence town bs\nwanaka nz\nvung tau vn\navarua ck\nport alfred za\ntasiilaq gl\nponta do sol cv\nmanzanillo mx\nbluff nz\nport elizabeth za\ndikson ru\nviedma ar\natuona pf\nilulissat gl\nsamusu ws\nrikitea pf\nwanaka nz\nbredasdorp za\nyellowknife ca\ncascais pt\nsorland no\nbusselton au\nhadishahr ir\nport alfred za\nbredasdorp za\nkarratha au\ndingle ie\nilloqqortoormiut gl\nharper lr\nushuaia ar\ndatong cn\nmataura pf\ncatamarca ar\nmataura pf\nalbany au\nbusselton au\nchokurdakh ru\nvaini to\nmahebourg mu\nbartica gy\naklavik ca\nushuaia ar\nushuaia ar\ncayenne gf\nsaskylakh ru\ncherskiy ru\nbarrow us\nhenties bay na\ncape town za\nbo rai th\njamestown sh\nderzhavinsk kz\noloron-sainte-marie fr\nbuala sb\nushuaia ar\nnizhneyansk ru\nahipara nz\ndevils lake us\nbambous virieux mu\nalunitdag az\ncagli it\npevek ru\navarua ck\nsobolevo ru\nleh in\nmataura pf\nbambous virieux mu\natar mr\nalbany au\nhobart au\npevek ru\ngizo sb\ncabo san lucas mx\nnabire id\nsalalah om\nbarrow us\nkodiak us\nbusselton au\ndutse ng\nhermanus za\nrikitea pf\nsouillac mu\nmatara lk\nprimorskiy ru\nbarentsburg sj\nbelushya guba ru\nushuaia ar\njamestown sh\nrikitea pf\nkapaa us\ndiffa ne\nrikitea pf\nhermanus za\nlebu cl\nsaint-philippe re\nkristiansund no\nburica pa\ntiksi ru\nwaingapu id\npuerto ayora ec\nport elizabeth za\ncape town za\ntiksi ru\nhermanus za\nsept-iles ca\nnajran sa\nbelushya guba ru\nhit iq\nushuaia ar\nkapaa us\nbluff nz\ntuatapere nz\nribeira grande pt\nrikitea pf\nalbany au\nport blair in\nupernavik gl\nlagoa pt\nhithadhoo mv\ndikson ru\nvaitupu wf\ntumannyy ru\npunta arenas cl\naskiz ru\nvaini to\nprinceton ca\nwarrington us\nbusselton au\nport alfred za\nrikitea pf\nbethel us\nilloqqortoormiut gl\ncheyur in\nbonfim br\nhovd mn\ntorbay ca\nponta do sol cv\narraial do cabo br\nostrovnoy ru\nsapao ph\npadang id\nsitka us\npuerto ayora ec\npunta arenas cl\nabu samrah qa\nkropotkin ru\ncape town za\ntaolanaro mg\nhannan jp\nwinchester us\ncururupu br\nesperance au\nmys shmidta ru\nmataura pf\nmataura pf\nmar del plata ar\nisla aguada mx\ntura ru\nginir et\nbambous virieux mu\nhobart au\ntorbay ca\nport keats au\ntuktoyaktuk ca\nmount gambier au\naquitania co\nprovideniya ru\nyellowknife ca\nsanta vitoria do palmar br\nalbany au\nvaini to\nkapaa us\nserafimovich ru\npunta arenas cl\ngarowe so\nushuaia ar\nucluelet ca\nowando cg\ntopolobampo mx\nrikitea pf\ncockburn town bs\nkapaa us\nacarau br\nushuaia ar\njanossomorja hu\nalbany au\nbarrow us\nankang cn\nvaini to\nport hardy ca\nsola vu\nbusselton au\nairai pw\npandan ph\nsaint-philippe re\npunta arenas cl\nfreetown ag\njamestown sh\nprice us\nbusselton au\nalbany au\nrikitea pf\nkapaa us\neast london za\nharrai in\nushuaia ar\nverkhoyansk ru\nrikitea pf\natuona pf\nulladulla au\nyellowknife ca\ncoffs harbour au\nguaruja br\nbethel us\nalbany au\nlerwick gb\nvaini to\nhasaki jp\ntangshan cn\nmadang pg\nkinablangan ph\nbilimbay ru\nbasco ph\nchuy uy\nsaint-augustin ca\nushuaia ar\ngeraldton ca\nyumen cn\nflinders au\nrikitea pf\nribeira grande pt\ncandawaga ph\nsaldanha za\nport elizabeth za\nushuaia ar\ntsihombe mg\neydhafushi mv\nrikitea pf\nbathsheba bb\nkodiak us\nbluff nz\nbredasdorp za\nbarentsburg sj\ngamba ga\nsongea tz\nmataura pf\neast london za\nimbituba br\njiazi cn\nlimbang my\nport alfred za\nborzya ru\niqaluit ca\nesperance au\nrundu na\nbuchanan lr\npalabuhanratu id\numzimvubu za\npunta arenas cl\ncastro cl\nshimoda jp\nnichinan jp\nbusselton au\nthompson ca\nagadir ma\nilloqqortoormiut gl\nvestmannaeyjar is\nbrae gb\nnew norfolk au\nsitka us\nport hedland au\nrikitea pf\ncape town za\nkodiak us\nilloqqortoormiut gl\nmagway mm\nchokurdakh ru\ncumana ve\npuerto ayora ec\nkaitangata nz\ncarnarvon au\nye mm\nacari pe\nmataura pf\navarua ck\nyumen cn\nmataura pf\nhermanus za\npunta arenas cl\nsusehri tr\nkapaa us\nte anau nz\narivonimamo mg\nushuaia ar\nbutaritari ki\nshubarshi kz\ntorbay ca\nkudahuvadhoo mv\ncayenne gf\nostrovnoy ru\nairai pw\nmeyungs pw\njamestown sh\nmogadishu so\nmedicine hat ca\navarua ck\nhokitika nz\ngrand river south east mu\ndiffa ne\nyellowknife ca\ngat ly\nnizhneyansk ru\nkruisfontein za\nyeppoon au\nbelyy yar ru\ncape town za\nmizur ru\nbusselton au\nyeppoon au\nbethel us\nsentyabrskiy ru\nhonningsvag no\npuerto ayora ec\ncherskiy ru\nsamusu ws\navarua ck\nrikitea pf\nkarratha au\nbarabai id\nnarsaq gl\nkhatanga ru\ndori bf\nhobart au\nviedma ar\nmandalgovi mn\ngeorgetown sh\nbeloha mg\nalbany au\nalbany au\nbutaritari ki\narraial do cabo br\ntaolanaro mg\ncherskiy ru\nshanhetun cn\nniquinohomo ni\nilloqqortoormiut gl\nleningradskiy ru\nalbany au\nturayf sa\nrikitea pf\nmyitkyina mm\nkapaa us\nalbany au\npuerto ayora ec\nsanta maria cv\nsentyabrskiy ru\nushuaia ar\ntanjong sepat my\nsaleaula ws\neast london za\nvidim ru\nnuevo progreso mx\nalbany au\nkangaatsiaq gl\nflinders au\nchuy uy\natuona pf\nraudeberg no\nkaitangata nz\niqaluit ca\nrikitea pf\nchumikan ru\nbusselton au\nkavieng pg\nbredasdorp za\nponta delgada pt\nyellowknife ca\nkysyl-syr ru\nvardo no\nmahebourg mu\nvestmannaeyjar is\nalbany au\nrikitea pf\nyellowknife ca\natuona pf\nqaanaaq gl\nushuaia ar\nrikitea pf\nsao filipe cv\nnorman wells ca\nhobart au\ntuatapere nz\nmataura pf\nbarentsburg sj\nvaini to\ndudinka ru\nsharan af\nattawapiskat ca\nhaines junction ca\npopondetta pg\nsevero-kurilsk ru\nkapaa us\nchuy uy\nportobelo pa\nhalalo wf\nminas cu\nhuarmey pe\newo cg\narman ru\nushuaia ar\nkapaa us\ngrindavik is\nkapaa us\nterra santa br\ntidore id\nbluff nz\nkhatanga ru\nyamethin mm\ntubruq ly\ncape town za\nflorianopolis br\nerenhot cn\nsongjianghe cn\nrafai cf\nvaini to\nwilliston us\nbengkulu id\nlebu cl\ntaolanaro mg\nplettenberg bay za\ntommot ru\nsaint-francois gp\nluderitz na\nhithadhoo mv\nhenties bay na\ntasiilaq gl\nhirara jp\nklaksvik fo\nhithadhoo mv\nfaanui pf\nbutaritari ki\nleningradskiy ru\nahipara nz\ncape town za\narraial do cabo br\nushuaia ar\nrikitea pf\nsaint george bm\nzhuhai cn\nyellowknife ca\narraial do cabo br\nmataura pf\nhobart au\nkhabary ru\nstykkisholmur is\nsinkat sd\ngaeta it\nrikitea pf\nconway us\nrikitea pf\nmatamoros mx\navera pf\navarua ck\nzhigansk ru\nnome us\nthompson ca\nilulissat gl\nsorland no\nupernavik gl\nluau ao\nhay river ca\npuerto ayora ec\nnakasongola ug\nqaanaaq gl\nvaini to\ntabiauea ki\njohnstown us\nconstitucion mx\nyulara au\nkourou gf\nnorth bend us\nbroome au\nponta do sol cv\nfaya td\npandoh in\nhilo us\nayer itam my\nmgachi ru\ncomodoro rivadavia ar\nhobart au\nqaanaaq gl\nolafsvik is\nsolsvik no\nponta do sol cv\nconstitucion mx\nrikitea pf\nushuaia ar\nbluff nz\nsaint george bm\nsimao cn\nkirakira sb\nhithadhoo mv\nnorman wells ca\nbluff nz\ncherskiy ru\natlantic beach us\nteo es\nbarentsburg sj\nkodiak us\ntorbay ca\nmataura pf\nmoose factory ca\nushuaia ar\nhovd mn\nport alfred za\narlit ne\navarua ck\nmataura pf\nbutaritari ki\ncape town za\nkapaa us\nmarkala ml\ncape town za\nribeira grande pt\nvaitape pf\nbethel us\nsamusu ws\nalta floresta br\npunta arenas cl\npalmer us\nclifton us\npisco pe\nsaskylakh ru\nlolua tv\nviedma ar\npoum nc\nancud cl\ntasiilaq gl\natuona pf\nsouillac mu\nhami cn\nvaini to\navarua ck\nvisakhapatnam in\nbethel us\nbelushya guba ru\ncape town za\nnikolskoye ru\ndikson ru\ndong hoi vn\ninta ru\nrybinsk ru\nbengkulu id\nvaini to\nmardin tr\nbutaritari ki\nvaini to\ngrand river south east mu\nalbany au\nkapaa us\nport hardy ca\navarua ck\nribeira grande pt\nrobstown us\nzhangjiakou cn\nushuaia ar\nsao filipe cv\nseoul kr\naktash ru\nbutaritari ki\ncabo san lucas mx\ngarmsar ir\ntaolanaro mg\nchokurdakh ru\naltamont us\ncape town za\nnizhneyansk ru\nnikolskoye ru\nalbany au\nbambous virieux mu\nqaanaaq gl\ngeorgetown sh\npunta arenas cl\nponta do sol cv\nsept-iles ca\nkaitangata nz\nilloqqortoormiut gl\ngeraldton au\nport alfred za\nnikolskoye ru\nport hueneme us\nushuaia ar\ndeputatskiy ru\nilloqqortoormiut gl\nlebu cl\nkavieng pg\ncabedelo br\ndikson ru\nrichards bay za\nbethel us\ncarnarvon au\nupernavik gl\nkingsville us\ngat ly\nmalwan in\nvictoria sc\nchokurdakh ru\ncockburn town tc\npuerto ayora ec\nthompson ca\nwukari ng\nbredasdorp za\nmao td\nkatherine au\nupernavik gl\nsantiago del estero ar\nsolsvik no\ntaolanaro mg\ntabiauea ki\nushuaia ar\ngeraldton au\nilloqqortoormiut gl\nbluff nz\nsaint-philippe re\niqaluit ca\nrikitea pf\ntalnakh ru\nhermanus za\nporonaysk ru\ntura ru\nquimper fr\niqaluit ca\nrio gallegos ar\nmanaus br\nilloqqortoormiut gl\nlorengau pg\nlabrea br\nbowen au\nnew norfolk au\nport alfred za\nhavre-saint-pierre ca\nrikitea pf\nthompson ca\nsaint anthony ca\ncarnarvon au\namderma ru\nmataura pf\nqaanaaq gl\nkavaratti in\nsantona es\njamestown sh\nbarentsburg sj\nkapaa us\nbarentsburg sj\nancud cl\nnew norfolk au\ncape town za\nkapaa us\nairai pw\nbethel us\nam timan td\nsibolga id\nkargopol ru\nsirur in\nvictoria sc\nbelaya gora ru\nwarrnambool au\nhobart au\nbarrow us\nmount isa au\nmarawi sd\npuerto ayora ec\nkhandyga ru\nrikitea pf\nroswell us\nsaskylakh ru\nfort nelson ca\nkrasnoselkup ru\nyumen cn\nrussell nz\nnishihara jp\nnamatanai pg\nlamu ke\nbluff nz\nbluff nz\nvaini to\nport elizabeth za\nnew norfolk au\nmataura pf\nkodiak us\ntuktoyaktuk ca\nkarauzyak uz\nclyde river ca\nmataura pf\nrawson ar\nolkhovatka ru\nrikitea pf\nsao jose da coroa grande br\nilloqqortoormiut gl\narraial do cabo br\nberingovskiy ru\nzhigansk ru\nsitka us\nvaini to\nnew norfolk au\nkamyaran ir\nbusselton au\nalbany au\nbeira mz\njamestown sh\nbutaritari ki\ndikson ru\nyatou cn\nmartvili ge\nayan ru\nhobart au\nyellowknife ca\npevek ru\ncharters towers au\nesperance au\nrikitea pf\nballina ie\nalbany au\npatos br\ninderborskiy kz\nupernavik gl\nhobart au\nribeira grande pt\nhilo us\nrikitea pf\neast london za\nvaini to\nupernavik gl\nkodiak us\neast london za\nvinh vn\npatnagarh in\nclyde river ca\ncape town za\nnorman wells ca\ntaolanaro mg\nbarrow us\ntucuma br\nwittenberge de\nleningradskiy ru\nvila velha br\nrikitea pf\nhilo us\nyellowknife ca\neast london za\narraial do cabo br\nkharan pk\nhobart au\nsao filipe cv\nkyra ru\nsegezha ru\nhorconcitos pa\nrikitea pf\nprovideniya ru\nkaitangata nz\ngeorgetown sh\nsaskylakh ru\nkarpathos gr\nlebu cl\narraial do cabo br\nvostok ru\ncarnarvon au\nbolshaya atnya ru\nbusselton au\navera pf\nvaini to\nrikitea pf\nconstitucion mx\nqaanaaq gl\nberingovskiy ru\nmontgomery us\nborba br\nvaini to\nlongyearbyen sj\npowell river ca\njagdalpur in\nsaint-francois gp\nilloqqortoormiut gl\ncastro cl\nsibu my\nvaini to\nbutaritari ki\nmale mv\nsaint-philippe re\ndingle ie\nlorengau pg\ncastro cl\navarua ck\nqaanaaq gl\nbutaritari ki\npisco pe\njamestown sh\nmahebourg mu\nbargal so\nsept-iles ca\nbogorodskoye ru\nsaskylakh ru\nmarrakesh ma\nalbany au\nbereda so\nbusselton au\npuerto ayora ec\nguanay bo\ncarbonia it\nclyde river ca\nluoyang cn\nbelushya guba ru\nnanning cn\nmushie cd\nwest wendover us\nnikolskoye ru\ngrand river south east mu\nbredasdorp za\nbiu ng\nnorman wells ca\nnatal br\navarua ck\naleksandrov gay ru\nsharan af\nkodiak us\natuona pf\nacarau br\ninderborskiy kz\nbida ng\nushuaia ar\nmaine-soroa ne\nolafsvik is\nveraval in\nmataura pf\nmataura pf\ntuktoyaktuk ca\nilloqqortoormiut gl\naklavik ca\ncherskiy ru\nkavaratti in\nbutaritari ki\ntarko-sale ru\nsaint-philippe re\nalbany au\nilulissat gl\nbarrow us\nbutaritari ki\nvaini to\nupernavik gl\nsao filipe cv\nilloqqortoormiut gl\ncaravelas br\nroma au\nbengkulu id\nnew norfolk au\nrikitea pf\nlavrentiya ru\nyellowknife ca\natuona pf\ncherskiy ru\nbluff nz\nstokmarknes no\natuona pf\nhermanus za\ncorning us\nahipara nz\ncan tho vn\nushuaia ar\nnikolskoye ru\nosku hu\npedro carbo ec\nushuaia ar\nbusselton au\nyellowknife ca\nvaini to\ncape town za\nilloqqortoormiut gl\nkruisfontein za\navarua ck\nijaki ki\nbutaritari ki\nmataura pf\nushuaia ar\navarua ck\navarua ck\nrikitea pf\nelliot za\nturbat pk\nyellowknife ca\nsanta catarina de tepehuanes mx\nnara ml\natuona pf\nnew norfolk au\nkhatanga ru\nhermanus za\nkamaishi jp\npunta arenas cl\ncape town za\ncastro cl\nnadym ru\nchapais ca\nabu kamal sy\nbathsheba bb\nbredasdorp za\nhermanus za\nushuaia ar\nyellowknife ca\nkaitangata nz\nalbany au\nnoumea nc\nushuaia ar\nbud no\nthompson ca\niquique cl\nkapaa us\nushuaia ar\nbonito br\nchuy uy\nnew norfolk au\nbluff nz\nsentyabrskiy ru\nfevralsk ru\nlebu cl\nkatsuura jp\nte anau nz\naykhal ru\nchokurdakh ru\nalbany au\npunta arenas cl\ntenenkou ml\nqaanaaq gl\nsaint george bm\nbutaritari ki\nribeira grande pt\ntilichiki ru\nakureyri is\nalbany au\npeniche pt\nklaksvik fo\nushuaia ar\npunta arenas cl\nattawapiskat ca\nport-gentil ga\nisangel vu\nilloqqortoormiut gl\nhobart au\nnome us\nrikitea pf\ntasbuget kz\ngjirokaster al\nnizhniy tsasuchey ru\nalghero it\nkapaa us\npunta arenas cl\nushuaia ar\nilloqqortoormiut gl\ntiarei pf\ntuktoyaktuk ca\nsaint-philippe re\nbredasdorp za\nhammerfest no\nalmaznyy ru\nkot samaba pk\nbluff nz\n"
    }
   ],
   "source": []
  },
  {
   "cell_type": "code",
   "execution_count": 8,
   "metadata": {},
   "outputs": [],
   "source": [
    "# Starting URL for Weather Map API Call.\n",
    "url = \"http://api.openweathermap.org/data/2.5/weather?units=Imperial&APPID=\" + weather_api_key"
   ]
  },
  {
   "cell_type": "code",
   "execution_count": 9,
   "metadata": {
    "tags": [
     "outputPrepend"
    ]
   },
   "outputs": [
    {
     "output_type": "stream",
     "name": "stdout",
     "text": "ecord 42 of Set 3 | saskylakh\nProcessing Record 43 of Set 3 | mecca\nProcessing Record 44 of Set 3 | henties bay\nProcessing Record 45 of Set 3 | qaqortoq\nProcessing Record 46 of Set 3 | waldshut-tiengen\nProcessing Record 47 of Set 3 | thinadhoo\nProcessing Record 48 of Set 3 | belushya guba\nCity not found. Skipping...\nProcessing Record 49 of Set 3 | yerbogachen\nProcessing Record 50 of Set 3 | hayden\nProcessing Record 1 of Set 4 | mopipi\nProcessing Record 2 of Set 4 | amderma\nCity not found. Skipping...\nProcessing Record 3 of Set 4 | qaanaaq\nProcessing Record 4 of Set 4 | carnarvon\nProcessing Record 5 of Set 4 | grindavik\nProcessing Record 6 of Set 4 | bluff\nProcessing Record 7 of Set 4 | gorontalo\nProcessing Record 8 of Set 4 | arlit\nProcessing Record 9 of Set 4 | kimbe\nProcessing Record 10 of Set 4 | tsaratanana\nProcessing Record 11 of Set 4 | mys shmidta\nCity not found. Skipping...\nProcessing Record 12 of Set 4 | zhigansk\nProcessing Record 13 of Set 4 | thompson\nProcessing Record 14 of Set 4 | saint anthony\nProcessing Record 15 of Set 4 | sao filipe\nProcessing Record 16 of Set 4 | alexandria\nProcessing Record 17 of Set 4 | mehamn\nProcessing Record 18 of Set 4 | san francisco del mar\nProcessing Record 19 of Set 4 | adwa\nProcessing Record 20 of Set 4 | bilma\nProcessing Record 21 of Set 4 | bowmore\nProcessing Record 22 of Set 4 | port hardy\nProcessing Record 23 of Set 4 | baykit\nProcessing Record 24 of Set 4 | nizhneyansk\nCity not found. Skipping...\nProcessing Record 25 of Set 4 | berlevag\nProcessing Record 26 of Set 4 | tuktoyaktuk\nProcessing Record 27 of Set 4 | fairbanks\nProcessing Record 28 of Set 4 | lipnita\nProcessing Record 29 of Set 4 | newport\nProcessing Record 30 of Set 4 | provideniya\nProcessing Record 31 of Set 4 | esperance\nProcessing Record 32 of Set 4 | uvarovka\nProcessing Record 33 of Set 4 | usinsk\nProcessing Record 34 of Set 4 | tasiilaq\nProcessing Record 35 of Set 4 | antofagasta\nProcessing Record 36 of Set 4 | road town\nProcessing Record 37 of Set 4 | kaputa\nProcessing Record 38 of Set 4 | nikolskoye\nProcessing Record 39 of Set 4 | najran\nProcessing Record 40 of Set 4 | jaen\nProcessing Record 41 of Set 4 | cherskiy\nProcessing Record 42 of Set 4 | jashpurnagar\nProcessing Record 43 of Set 4 | roma\nProcessing Record 44 of Set 4 | kyshtovka\nProcessing Record 45 of Set 4 | san quintin\nProcessing Record 46 of Set 4 | brufut\nProcessing Record 47 of Set 4 | hillsborough\nProcessing Record 48 of Set 4 | faya\nProcessing Record 49 of Set 4 | alyangula\nProcessing Record 50 of Set 4 | nanortalik\nProcessing Record 1 of Set 5 | abancay\nProcessing Record 2 of Set 5 | ukiah\nProcessing Record 3 of Set 5 | kuala terengganu\nProcessing Record 4 of Set 5 | mar del plata\nProcessing Record 5 of Set 5 | richards bay\nProcessing Record 6 of Set 5 | karratha\nProcessing Record 7 of Set 5 | longyearbyen\nProcessing Record 8 of Set 5 | garmsar\nProcessing Record 9 of Set 5 | haibowan\nCity not found. Skipping...\nProcessing Record 10 of Set 5 | talnakh\nProcessing Record 11 of Set 5 | kudus\nProcessing Record 12 of Set 5 | el llano\nProcessing Record 13 of Set 5 | deputatskiy\nProcessing Record 14 of Set 5 | yulara\nProcessing Record 15 of Set 5 | la ronge\nProcessing Record 16 of Set 5 | tezu\nProcessing Record 17 of Set 5 | husavik\nProcessing Record 18 of Set 5 | znamenskoye\nProcessing Record 19 of Set 5 | groningen\nProcessing Record 20 of Set 5 | hualmay\nProcessing Record 21 of Set 5 | kuhestan\nCity not found. Skipping...\nProcessing Record 22 of Set 5 | bambous virieux\nProcessing Record 23 of Set 5 | oussouye\nProcessing Record 24 of Set 5 | sumbe\nProcessing Record 25 of Set 5 | beringovskiy\nProcessing Record 26 of Set 5 | matamoros\nProcessing Record 27 of Set 5 | kulhudhuffushi\nProcessing Record 28 of Set 5 | vaini\nProcessing Record 29 of Set 5 | qingdao\nProcessing Record 30 of Set 5 | grand-bourg\nProcessing Record 31 of Set 5 | olafsvik\nProcessing Record 32 of Set 5 | santa cruz\nProcessing Record 33 of Set 5 | juneau\nProcessing Record 34 of Set 5 | krutinka\nProcessing Record 35 of Set 5 | tamandare\nProcessing Record 36 of Set 5 | virtsu\nProcessing Record 37 of Set 5 | coihaique\nProcessing Record 38 of Set 5 | atlantic city\nProcessing Record 39 of Set 5 | tilichiki\nProcessing Record 40 of Set 5 | narsaq\nProcessing Record 41 of Set 5 | tuatapere\nProcessing Record 42 of Set 5 | castro\nProcessing Record 43 of Set 5 | lagunas\nProcessing Record 44 of Set 5 | cayenne\nProcessing Record 45 of Set 5 | axim\nProcessing Record 46 of Set 5 | kaitangata\nProcessing Record 47 of Set 5 | todos santos\nProcessing Record 48 of Set 5 | borlange\nCity not found. Skipping...\nProcessing Record 49 of Set 5 | camacha\nProcessing Record 50 of Set 5 | oranjemund\nProcessing Record 1 of Set 6 | hervey bay\nProcessing Record 2 of Set 6 | concarneau\nProcessing Record 3 of Set 6 | birobidzhan\nProcessing Record 4 of Set 6 | sobolevo\nProcessing Record 5 of Set 6 | tabiauea\nCity not found. Skipping...\nProcessing Record 6 of Set 6 | umzimvubu\nCity not found. Skipping...\nProcessing Record 7 of Set 6 | souillac\nProcessing Record 8 of Set 6 | klamath falls\nProcessing Record 9 of Set 6 | cabedelo\nProcessing Record 10 of Set 6 | sedelnikovo\nCity not found. Skipping...\nProcessing Record 11 of Set 6 | touros\nProcessing Record 12 of Set 6 | brigantine\nProcessing Record 13 of Set 6 | katsuura\nProcessing Record 14 of Set 6 | kuloy\nProcessing Record 15 of Set 6 | vila\nProcessing Record 16 of Set 6 | horta\nProcessing Record 17 of Set 6 | christchurch\nProcessing Record 18 of Set 6 | dengfeng\nProcessing Record 19 of Set 6 | kaeo\nProcessing Record 20 of Set 6 | grafton\nProcessing Record 21 of Set 6 | khandyga\nProcessing Record 22 of Set 6 | san jeronimo de tunan\nCity not found. Skipping...\nProcessing Record 23 of Set 6 | cumra\nProcessing Record 24 of Set 6 | vila franca do campo\nProcessing Record 25 of Set 6 | coronado\nProcessing Record 26 of Set 6 | ternate\nProcessing Record 27 of Set 6 | samusu\nCity not found. Skipping...\nProcessing Record 28 of Set 6 | berga\nProcessing Record 29 of Set 6 | chokurdakh\nProcessing Record 30 of Set 6 | suzun\nProcessing Record 31 of Set 6 | biltine\nProcessing Record 32 of Set 6 | lebu\nProcessing Record 33 of Set 6 | dubti\nProcessing Record 34 of Set 6 | keuruu\nProcessing Record 35 of Set 6 | kutum\nProcessing Record 36 of Set 6 | turinsk\nProcessing Record 37 of Set 6 | port-gentil\nProcessing Record 38 of Set 6 | panzhihua\nProcessing Record 39 of Set 6 | bonthe\nProcessing Record 40 of Set 6 | saint-georges\nProcessing Record 41 of Set 6 | boa viagem\nProcessing Record 42 of Set 6 | saint george\nProcessing Record 43 of Set 6 | nishihara\nProcessing Record 44 of Set 6 | aykhal\nProcessing Record 45 of Set 6 | ponta do sol\nProcessing Record 46 of Set 6 | flinders\nProcessing Record 47 of Set 6 | lubsko\nProcessing Record 48 of Set 6 | vestmanna\nProcessing Record 49 of Set 6 | tongchuan\nProcessing Record 50 of Set 6 | yumen\nProcessing Record 1 of Set 7 | zetea\nProcessing Record 2 of Set 7 | zhengjiatun\nProcessing Record 3 of Set 7 | dwarka\nProcessing Record 4 of Set 7 | kholtoson\nProcessing Record 5 of Set 7 | erenhot\nProcessing Record 6 of Set 7 | kultuk\nProcessing Record 7 of Set 7 | bainbridge\nProcessing Record 8 of Set 7 | lompoc\nProcessing Record 9 of Set 7 | raga\nProcessing Record 10 of Set 7 | jadu\nProcessing Record 11 of Set 7 | kita\nProcessing Record 12 of Set 7 | thaba-tseka\nProcessing Record 13 of Set 7 | kassala\nProcessing Record 14 of Set 7 | whangamata\nProcessing Record 15 of Set 7 | fortuna\nProcessing Record 16 of Set 7 | jiuquan\nProcessing Record 17 of Set 7 | te anau\nProcessing Record 18 of Set 7 | bumba\nProcessing Record 19 of Set 7 | riyadh\nProcessing Record 20 of Set 7 | okha\nProcessing Record 21 of Set 7 | airai\nProcessing Record 22 of Set 7 | kirakira\nProcessing Record 23 of Set 7 | bonavista\nProcessing Record 24 of Set 7 | tabas\nProcessing Record 25 of Set 7 | bud\nProcessing Record 26 of Set 7 | coquimbo\nProcessing Record 27 of Set 7 | seoul\nProcessing Record 28 of Set 7 | ayan\nProcessing Record 29 of Set 7 | yurga\nProcessing Record 30 of Set 7 | port blair\nProcessing Record 31 of Set 7 | prince george\nProcessing Record 32 of Set 7 | labrea\nProcessing Record 33 of Set 7 | grand river south east\nCity not found. Skipping...\nProcessing Record 34 of Set 7 | peleduy\nProcessing Record 35 of Set 7 | mokhsogollokh\nProcessing Record 36 of Set 7 | kavaratti\nProcessing Record 37 of Set 7 | ilulissat\nProcessing Record 38 of Set 7 | baherden\nProcessing Record 39 of Set 7 | sioux lookout\nProcessing Record 40 of Set 7 | bima\nProcessing Record 41 of Set 7 | banda aceh\nProcessing Record 42 of Set 7 | khani\nProcessing Record 43 of Set 7 | atar\nProcessing Record 44 of Set 7 | abu dhabi\nProcessing Record 45 of Set 7 | beyneu\nProcessing Record 46 of Set 7 | ouro fino\nProcessing Record 47 of Set 7 | kieta\nProcessing Record 48 of Set 7 | meadow lake\nProcessing Record 49 of Set 7 | nambucca heads\nProcessing Record 50 of Set 7 | keffi\nProcessing Record 1 of Set 8 | kurchum\nProcessing Record 2 of Set 8 | sakaiminato\nProcessing Record 3 of Set 8 | togur\nProcessing Record 4 of Set 8 | macheng\nProcessing Record 5 of Set 8 | ye\nCity not found. Skipping...\nProcessing Record 6 of Set 8 | miri\nProcessing Record 7 of Set 8 | norman wells\nProcessing Record 8 of Set 8 | caravelas\nProcessing Record 9 of Set 8 | atbasar\nProcessing Record 10 of Set 8 | matane\nProcessing Record 11 of Set 8 | attawapiskat\nCity not found. Skipping...\nProcessing Record 12 of Set 8 | talara\nProcessing Record 13 of Set 8 | mosquera\nProcessing Record 14 of Set 8 | erzin\nProcessing Record 15 of Set 8 | merta\nProcessing Record 16 of Set 8 | high rock\nProcessing Record 17 of Set 8 | sarh\nProcessing Record 18 of Set 8 | mount gambier\nProcessing Record 19 of Set 8 | sao joao da barra\nProcessing Record 20 of Set 8 | villa carlos paz\nProcessing Record 21 of Set 8 | barguzin\nProcessing Record 22 of Set 8 | miranorte\nCity not found. Skipping...\nProcessing Record 23 of Set 8 | anadyr\nProcessing Record 24 of Set 8 | comodoro rivadavia\nProcessing Record 25 of Set 8 | ignalina\nProcessing Record 26 of Set 8 | gusau\nProcessing Record 27 of Set 8 | naberera\nProcessing Record 28 of Set 8 | namibe\nProcessing Record 29 of Set 8 | lubbock\nProcessing Record 30 of Set 8 | broome\nProcessing Record 31 of Set 8 | sentyabrskiy\nCity not found. Skipping...\nProcessing Record 32 of Set 8 | bukama\nProcessing Record 33 of Set 8 | mingaora\nProcessing Record 34 of Set 8 | ninghai\nProcessing Record 35 of Set 8 | sitka\nProcessing Record 36 of Set 8 | pevek\nProcessing Record 37 of Set 8 | acajutla\nProcessing Record 38 of Set 8 | ozinki\nProcessing Record 39 of Set 8 | port lincoln\nProcessing Record 40 of Set 8 | andros town\nProcessing Record 41 of Set 8 | lagos\nProcessing Record 42 of Set 8 | guerrero negro\nProcessing Record 43 of Set 8 | barentsburg\nCity not found. Skipping...\nProcessing Record 44 of Set 8 | baneh\nProcessing Record 45 of Set 8 | kazalinsk\nCity not found. Skipping...\nProcessing Record 46 of Set 8 | kahului\nProcessing Record 47 of Set 8 | luchegorsk\nProcessing Record 48 of Set 8 | porosozero\nProcessing Record 49 of Set 8 | almaznyy\nProcessing Record 50 of Set 8 | evensk\nProcessing Record 1 of Set 9 | alta floresta\nProcessing Record 2 of Set 9 | sawakin\nProcessing Record 3 of Set 9 | saint-augustin\nProcessing Record 4 of Set 9 | shimoda\nProcessing Record 5 of Set 9 | port hedland\nProcessing Record 6 of Set 9 | marcona\nCity not found. Skipping...\nProcessing Record 7 of Set 9 | voznesenye\nProcessing Record 8 of Set 9 | tiszavasvari\nProcessing Record 9 of Set 9 | zhanaozen\nProcessing Record 10 of Set 9 | torrington\nProcessing Record 11 of Set 9 | kodinsk\nProcessing Record 12 of Set 9 | high level\nProcessing Record 13 of Set 9 | balkhash\nProcessing Record 14 of Set 9 | namatanai\nProcessing Record 15 of Set 9 | luderitz\nProcessing Record 16 of Set 9 | vila velha\nProcessing Record 17 of Set 9 | shenjiamen\nProcessing Record 18 of Set 9 | nadym\nProcessing Record 19 of Set 9 | klaksvik\nProcessing Record 20 of Set 9 | bedele\nProcessing Record 21 of Set 9 | los llanos de aridane\nProcessing Record 22 of Set 9 | alekseyevsk\nProcessing Record 23 of Set 9 | north bend\nProcessing Record 24 of Set 9 | dunedin\nProcessing Record 25 of Set 9 | itupiranga\nProcessing Record 26 of Set 9 | naze\nProcessing Record 27 of Set 9 | palabuhanratu\nCity not found. Skipping...\nProcessing Record 28 of Set 9 | demirci\nProcessing Record 29 of Set 9 | cockburn town\nProcessing Record 30 of Set 9 | kyren\nProcessing Record 31 of Set 9 | safaga\nProcessing Record 32 of Set 9 | sur\nProcessing Record 33 of Set 9 | mount hagen\nProcessing Record 34 of Set 9 | awbari\nProcessing Record 35 of Set 9 | tautira\nProcessing Record 36 of Set 9 | bolekhiv\nProcessing Record 37 of Set 9 | brcko\nProcessing Record 38 of Set 9 | itacoatiara\nProcessing Record 39 of Set 9 | taggia\nProcessing Record 40 of Set 9 | egvekinot\nProcessing Record 41 of Set 9 | tecoanapa\nProcessing Record 42 of Set 9 | bangui\nProcessing Record 43 of Set 9 | paamiut\nProcessing Record 44 of Set 9 | quelimane\nProcessing Record 45 of Set 9 | paldiski\nProcessing Record 46 of Set 9 | castrillon\nProcessing Record 47 of Set 9 | paragominas\nProcessing Record 48 of Set 9 | pangai\nProcessing Record 49 of Set 9 | kharan\nProcessing Record 50 of Set 9 | kalnciems\nProcessing Record 1 of Set 10 | mumford\nProcessing Record 2 of Set 10 | capaci\nProcessing Record 3 of Set 10 | katangli\nProcessing Record 4 of Set 10 | carndonagh\nProcessing Record 5 of Set 10 | lexington\nProcessing Record 6 of Set 10 | mauganj\nProcessing Record 7 of Set 10 | elizabeth city\nProcessing Record 8 of Set 10 | masunga\nProcessing Record 9 of Set 10 | hami\nProcessing Record 10 of Set 10 | vlasenica\nProcessing Record 11 of Set 10 | shihezi\nProcessing Record 12 of Set 10 | fort nelson\nProcessing Record 13 of Set 10 | scottsbluff\nProcessing Record 14 of Set 10 | armacao dos buzios\nCity not found. Skipping...\nProcessing Record 15 of Set 10 | itaparica\nProcessing Record 16 of Set 10 | bang krathum\nProcessing Record 17 of Set 10 | kamina\nProcessing Record 18 of Set 10 | moose factory\nProcessing Record 19 of Set 10 | jiazi\nProcessing Record 20 of Set 10 | springbok\nProcessing Record 21 of Set 10 | medicine hat\nProcessing Record 22 of Set 10 | illela\nProcessing Record 23 of Set 10 | wanxian\nProcessing Record 24 of Set 10 | mezen\nProcessing Record 25 of Set 10 | isangel\nProcessing Record 26 of Set 10 | lulea\nProcessing Record 27 of Set 10 | villazon\nProcessing Record 28 of Set 10 | mbuguni\nProcessing Record 29 of Set 10 | sao gabriel da cachoeira\nProcessing Record 30 of Set 10 | ancud\nProcessing Record 31 of Set 10 | martapura\nProcessing Record 32 of Set 10 | tres lagoas\nProcessing Record 33 of Set 10 | maniitsoq\nProcessing Record 34 of Set 10 | la union\nProcessing Record 35 of Set 10 | gat\nProcessing Record 36 of Set 10 | byron bay\nProcessing Record 37 of Set 10 | hovd\nProcessing Record 38 of Set 10 | oudtshoorn\nProcessing Record 39 of Set 10 | waingapu\nProcessing Record 40 of Set 10 | oskemen\nProcessing Record 41 of Set 10 | mount isa\nProcessing Record 42 of Set 10 | kondagaon\nProcessing Record 43 of Set 10 | paracatu\nProcessing Record 44 of Set 10 | aripuana\nProcessing Record 45 of Set 10 | kukshi\nProcessing Record 46 of Set 10 | mattru\nProcessing Record 47 of Set 10 | farmington\nProcessing Record 48 of Set 10 | havre-saint-pierre\nProcessing Record 49 of Set 10 | bollnas\nProcessing Record 50 of Set 10 | zunyi\nProcessing Record 1 of Set 11 | nadvoitsy\nProcessing Record 2 of Set 11 | bukoba\nProcessing Record 3 of Set 11 | safonovo\nProcessing Record 4 of Set 11 | krasnoarmeysk\nProcessing Record 5 of Set 11 | zyryanka\nProcessing Record 6 of Set 11 | ostersund\nProcessing Record 7 of Set 11 | markova\nProcessing Record 8 of Set 11 | miracema do tocantins\nProcessing Record 9 of Set 11 | noumea\nProcessing Record 10 of Set 11 | ostrovnoy\nProcessing Record 11 of Set 11 | amboasary\nProcessing Record 12 of Set 11 | keflavik\nProcessing Record 13 of Set 11 | poplar bluff\nProcessing Record 14 of Set 11 | sataua\nCity not found. Skipping...\nProcessing Record 15 of Set 11 | nemuro\nProcessing Record 16 of Set 11 | tual\nProcessing Record 17 of Set 11 | la esperanza\nProcessing Record 18 of Set 11 | odweyne\nProcessing Record 19 of Set 11 | harper\nProcessing Record 20 of Set 11 | phalombe\nProcessing Record 21 of Set 11 | mao\nProcessing Record 22 of Set 11 | suntar\nProcessing Record 23 of Set 11 | barawe\nCity not found. Skipping...\nProcessing Record 24 of Set 11 | sibolga\nProcessing Record 25 of Set 11 | ngukurr\nCity not found. Skipping...\nProcessing Record 26 of Set 11 | rocha\nProcessing Record 27 of Set 11 | verkhnechusovskiye gorodki\nProcessing Record 28 of Set 11 | fort saint james\nProcessing Record 29 of Set 11 | jasper\nProcessing Record 30 of Set 11 | lerwick\nProcessing Record 31 of Set 11 | uruzgan\nProcessing Record 32 of Set 11 | deer lake\nProcessing Record 33 of Set 11 | oxford\nProcessing Record 34 of Set 11 | boyolangu\nProcessing Record 35 of Set 11 | tarija\nProcessing Record 36 of Set 11 | shakhtinsk\nProcessing Record 37 of Set 11 | onda\nProcessing Record 38 of Set 11 | college\nProcessing Record 39 of Set 11 | guajara-mirim\nCity not found. Skipping...\nProcessing Record 40 of Set 11 | saint-pierre\nProcessing Record 41 of Set 11 | syamzha\nProcessing Record 42 of Set 11 | rio grande\nProcessing Record 43 of Set 11 | inuvik\nProcessing Record 44 of Set 11 | adrar\nProcessing Record 45 of Set 11 | dingle\nProcessing Record 46 of Set 11 | taltal\nProcessing Record 47 of Set 11 | buncrana\nProcessing Record 48 of Set 11 | ferrol\nProcessing Record 49 of Set 11 | iskateley\nProcessing Record 50 of Set 11 | myitkyina\nProcessing Record 1 of Set 12 | kamaishi\nProcessing Record 2 of Set 12 | moanda\nProcessing Record 3 of Set 12 | manavalakurichi\nProcessing Record 4 of Set 12 | aswan\nProcessing Record 5 of Set 12 | nizwa\nProcessing Record 6 of Set 12 | srednekolymsk\nProcessing Record 7 of Set 12 | ardakan\nProcessing Record 8 of Set 12 | olutanga\nProcessing Record 9 of Set 12 | kingman\nProcessing Record 10 of Set 12 | araouane\nProcessing Record 11 of Set 12 | rio claro\nProcessing Record 12 of Set 12 | qala\nProcessing Record 13 of Set 12 | buy\nProcessing Record 14 of Set 12 | holetown\nProcessing Record 15 of Set 12 | stokmarknes\nProcessing Record 16 of Set 12 | okhotsk\nProcessing Record 17 of Set 12 | broken hill\nProcessing Record 18 of Set 12 | beloha\nProcessing Record 19 of Set 12 | ometepec\nProcessing Record 20 of Set 12 | kalemie\nProcessing Record 21 of Set 12 | skjervoy\nProcessing Record 22 of Set 12 | luang prabang\nProcessing Record 23 of Set 12 | macaubas\nProcessing Record 24 of Set 12 | pasighat\nProcessing Record 25 of Set 12 | mabaruma\nProcessing Record 26 of Set 12 | ust-omchug\nProcessing Record 27 of Set 12 | nicolas bravo\nProcessing Record 28 of Set 12 | lorengau\nProcessing Record 29 of Set 12 | nisia floresta\nProcessing Record 30 of Set 12 | muncar\nProcessing Record 31 of Set 12 | harbour breton\nProcessing Record 32 of Set 12 | tayibe\nCity not found. Skipping...\nProcessing Record 33 of Set 12 | ipil\nProcessing Record 34 of Set 12 | iquitos\nProcessing Record 35 of Set 12 | ust-nera\nProcessing Record 36 of Set 12 | otuzco\nProcessing Record 37 of Set 12 | ruatoria\nCity not found. Skipping...\nProcessing Record 38 of Set 12 | kuusamo\nProcessing Record 39 of Set 12 | sakakah\nProcessing Record 40 of Set 12 | corpus christi\nProcessing Record 41 of Set 12 | camopi\nProcessing Record 42 of Set 12 | bartow\nProcessing Record 43 of Set 12 | dodge city\nProcessing Record 44 of Set 12 | hohhot\nProcessing Record 45 of Set 12 | knysna\nProcessing Record 46 of Set 12 | walvis bay\nProcessing Record 47 of Set 12 | zhangjiakou\nProcessing Record 48 of Set 12 | jambi\nProcessing Record 49 of Set 12 | bemidji\nProcessing Record 50 of Set 12 | valle hermoso\nProcessing Record 1 of Set 13 | benghazi\nProcessing Record 2 of Set 13 | tura\n-----------------------------\nData Retrieval Complete      \n-----------------------------\n"
    }
   ],
   "source": [
    "# List of city data\n",
    "city_data = []\n",
    "\n",
    "# Print to logger\n",
    "print(\"Beginning Data Retrieval     \")\n",
    "print(\"-----------------------------\")\n",
    "\n",
    "# Create counters\n",
    "record_count = 1\n",
    "set_count = 1\n",
    "\n",
    "# Loop through all the cities in our list\n",
    "for i, city in enumerate(cities):\n",
    "        \n",
    "    # Group cities in sets of 50 for logging purposes\n",
    "    if (i % 50 == 0 and i >= 50):\n",
    "        set_count += 1\n",
    "        record_count = 1\n",
    "\n",
    "    # Create endpoint URL with each city\n",
    "    city_url = url + \"&q=\" + city.replace(\" \",\"+\")\n",
    "    \n",
    "    # Log the url, record, and set numbers\n",
    "    print(f\"Processing Record {record_count} of Set {set_count} | {city}\")\n",
    "\n",
    "    # Add 1 to the record count\n",
    "    record_count += 1\n",
    "\n",
    "    # Run an API request for each of the cities\n",
    "    try:\n",
    "        city_weather = requests.get(city_url).json()\n",
    "        # Parse out the max temp, humidity, and cloudiness\n",
    "        city_lat = city_weather[\"coord\"][\"lat\"]\n",
    "        city_lng = city_weather[\"coord\"][\"lon\"]\n",
    "        city_max_temp = city_weather[\"main\"][\"temp_max\"]\n",
    "        city_humidity = city_weather[\"main\"][\"humidity\"]\n",
    "        city_clouds = city_weather[\"clouds\"][\"all\"]\n",
    "        city_wind = city_weather[\"wind\"][\"speed\"]\n",
    "        city_country = city_weather[\"sys\"][\"country\"]\n",
    "        \n",
    "        try:\n",
    "            city_rain_inches = city_weather[\"rain\"][\"1h\"]\n",
    "        except KeyError:\n",
    "            city_rain_inches = 0\n",
    "        try:\n",
    "            city_snow_inches = city_weather[\"snow\"][\"1h\"]\n",
    "        except KeyError:\n",
    "            city_snow_inches = 0        \n",
    "            \n",
    "            # Append the City information into city_data list\n",
    "        city_data.append({\"City\": city.title(), \n",
    "                          \"Lat\": city_lat, \n",
    "                          \"Lng\": city_lng, \n",
    "                          \"Max Temp\": city_max_temp,\n",
    "                          \"Rain (inches)\": city_rain_inches,\n",
    "                          \"Snow (inches)\": city_snow_inches,\n",
    "                          \"Humidity\": city_humidity,\n",
    "                          \"Cloudiness\": city_clouds,\n",
    "                          \"Wind Speed\": city_wind,\n",
    "                          \"Country\": city_country})\n",
    "    # If an error is experienced, skip the city\n",
    "\n",
    "    except:\n",
    "        print(\"City not found. Skipping...\")\n",
    "        pass\n",
    "\n",
    "# Indicate that Data Loading is complete \n",
    "print(\"-----------------------------\")\n",
    "print(\"Data Retrieval Complete      \")\n",
    "print(\"-----------------------------\")"
   ]
  },
  {
   "cell_type": "code",
   "execution_count": 10,
   "metadata": {},
   "outputs": [
    {
     "output_type": "execute_result",
     "data": {
      "text/plain": "564"
     },
     "metadata": {},
     "execution_count": 10
    }
   ],
   "source": [
    "len(city_data)"
   ]
  },
  {
   "cell_type": "code",
   "execution_count": 11,
   "metadata": {},
   "outputs": [
    {
     "output_type": "execute_result",
     "data": {
      "text/plain": "             City    Lat     Lng  Max Temp  Rain (inches)  Snow (inches)  \\\n0  Cabo San Lucas  22.89 -109.91     91.99            0.0              0   \n1          Atuona  -9.80 -139.03     79.12            0.2              0   \n2        Bengkulu  -3.80  102.27     75.43            0.0              0   \n3   Leningradskiy  69.38  178.42     45.82            0.0              0   \n4           Kidal  18.44    1.41     92.03            0.0              0   \n5     Pangnirtung  66.15  -65.71     53.53            0.0              0   \n6         Ushuaia -54.80  -68.30     35.60            0.0              0   \n7             Edd  13.93   41.69     90.01            0.0              0   \n8       Cape Town -33.93   18.42     54.00            0.0              0   \n9          Torbay  47.67  -52.73     69.01            0.0              0   \n\n   Humidity  Cloudiness  Wind Speed Country  \n0        52          20        9.17      MX  \n1        79          50       17.54      PF  \n2        87          30        3.47      ID  \n3        63           0       15.12      RU  \n4        31          78        8.46      ML  \n5        51          87        2.75      CA  \n6        74          20       16.11      AR  \n7        56          99        8.84      ER  \n8        81          20        9.17      ZA  \n9        68          90       10.29      CA  ",
      "text/html": "<div>\n<style scoped>\n    .dataframe tbody tr th:only-of-type {\n        vertical-align: middle;\n    }\n\n    .dataframe tbody tr th {\n        vertical-align: top;\n    }\n\n    .dataframe thead th {\n        text-align: right;\n    }\n</style>\n<table border=\"1\" class=\"dataframe\">\n  <thead>\n    <tr style=\"text-align: right;\">\n      <th></th>\n      <th>City</th>\n      <th>Lat</th>\n      <th>Lng</th>\n      <th>Max Temp</th>\n      <th>Rain (inches)</th>\n      <th>Snow (inches)</th>\n      <th>Humidity</th>\n      <th>Cloudiness</th>\n      <th>Wind Speed</th>\n      <th>Country</th>\n    </tr>\n  </thead>\n  <tbody>\n    <tr>\n      <th>0</th>\n      <td>Cabo San Lucas</td>\n      <td>22.89</td>\n      <td>-109.91</td>\n      <td>91.99</td>\n      <td>0.0</td>\n      <td>0</td>\n      <td>52</td>\n      <td>20</td>\n      <td>9.17</td>\n      <td>MX</td>\n    </tr>\n    <tr>\n      <th>1</th>\n      <td>Atuona</td>\n      <td>-9.80</td>\n      <td>-139.03</td>\n      <td>79.12</td>\n      <td>0.2</td>\n      <td>0</td>\n      <td>79</td>\n      <td>50</td>\n      <td>17.54</td>\n      <td>PF</td>\n    </tr>\n    <tr>\n      <th>2</th>\n      <td>Bengkulu</td>\n      <td>-3.80</td>\n      <td>102.27</td>\n      <td>75.43</td>\n      <td>0.0</td>\n      <td>0</td>\n      <td>87</td>\n      <td>30</td>\n      <td>3.47</td>\n      <td>ID</td>\n    </tr>\n    <tr>\n      <th>3</th>\n      <td>Leningradskiy</td>\n      <td>69.38</td>\n      <td>178.42</td>\n      <td>45.82</td>\n      <td>0.0</td>\n      <td>0</td>\n      <td>63</td>\n      <td>0</td>\n      <td>15.12</td>\n      <td>RU</td>\n    </tr>\n    <tr>\n      <th>4</th>\n      <td>Kidal</td>\n      <td>18.44</td>\n      <td>1.41</td>\n      <td>92.03</td>\n      <td>0.0</td>\n      <td>0</td>\n      <td>31</td>\n      <td>78</td>\n      <td>8.46</td>\n      <td>ML</td>\n    </tr>\n    <tr>\n      <th>5</th>\n      <td>Pangnirtung</td>\n      <td>66.15</td>\n      <td>-65.71</td>\n      <td>53.53</td>\n      <td>0.0</td>\n      <td>0</td>\n      <td>51</td>\n      <td>87</td>\n      <td>2.75</td>\n      <td>CA</td>\n    </tr>\n    <tr>\n      <th>6</th>\n      <td>Ushuaia</td>\n      <td>-54.80</td>\n      <td>-68.30</td>\n      <td>35.60</td>\n      <td>0.0</td>\n      <td>0</td>\n      <td>74</td>\n      <td>20</td>\n      <td>16.11</td>\n      <td>AR</td>\n    </tr>\n    <tr>\n      <th>7</th>\n      <td>Edd</td>\n      <td>13.93</td>\n      <td>41.69</td>\n      <td>90.01</td>\n      <td>0.0</td>\n      <td>0</td>\n      <td>56</td>\n      <td>99</td>\n      <td>8.84</td>\n      <td>ER</td>\n    </tr>\n    <tr>\n      <th>8</th>\n      <td>Cape Town</td>\n      <td>-33.93</td>\n      <td>18.42</td>\n      <td>54.00</td>\n      <td>0.0</td>\n      <td>0</td>\n      <td>81</td>\n      <td>20</td>\n      <td>9.17</td>\n      <td>ZA</td>\n    </tr>\n    <tr>\n      <th>9</th>\n      <td>Torbay</td>\n      <td>47.67</td>\n      <td>-52.73</td>\n      <td>69.01</td>\n      <td>0.0</td>\n      <td>0</td>\n      <td>68</td>\n      <td>90</td>\n      <td>10.29</td>\n      <td>CA</td>\n    </tr>\n  </tbody>\n</table>\n</div>"
     },
     "metadata": {},
     "execution_count": 11
    }
   ],
   "source": [
    "# Convert the array of dictionaries to a Pandas DataFrame.\n",
    "city_data_df = pd.DataFrame(city_data)\n",
    "city_data_df.head(10)"
   ]
  },
  {
   "cell_type": "code",
   "execution_count": 12,
   "metadata": {},
   "outputs": [],
   "source": [
    "new_column_order = [\"City\",\"Country\",\"Lat\",\"Lng\",\"Max Temp\",\"Humidity\",\"Cloudiness\",\"Wind Speed\"]\n",
    "city_data_df = city_data_df[new_column_order]"
   ]
  },
  {
   "cell_type": "code",
   "execution_count": 13,
   "metadata": {},
   "outputs": [
    {
     "output_type": "execute_result",
     "data": {
      "text/plain": "               City Country    Lat     Lng  Max Temp  Humidity  Cloudiness  \\\n0    Cabo San Lucas      MX  22.89 -109.91     91.99        52          20   \n1            Atuona      PF  -9.80 -139.03     79.12        79          50   \n2          Bengkulu      ID  -3.80  102.27     75.43        87          30   \n3     Leningradskiy      RU  69.38  178.42     45.82        63           0   \n4             Kidal      ML  18.44    1.41     92.03        31          78   \n..              ...     ...    ...     ...       ...       ...         ...   \n559           Jambi      ID  -1.60  103.62     73.22        96          90   \n560         Bemidji      US  47.47  -94.88     80.01        50          40   \n561   Valle Hermoso      MX  25.67  -97.83     97.00        50           1   \n562        Benghazi      LY  32.12   20.07     76.03        73           0   \n563            Tura      IN  25.52   90.22     74.28        97          98   \n\n     Wind Speed  \n0          9.17  \n1         17.54  \n2          3.47  \n3         15.12  \n4          8.46  \n..          ...  \n559        3.13  \n560        8.05  \n561       14.99  \n562       11.25  \n563        6.24  \n\n[564 rows x 8 columns]",
      "text/html": "<div>\n<style scoped>\n    .dataframe tbody tr th:only-of-type {\n        vertical-align: middle;\n    }\n\n    .dataframe tbody tr th {\n        vertical-align: top;\n    }\n\n    .dataframe thead th {\n        text-align: right;\n    }\n</style>\n<table border=\"1\" class=\"dataframe\">\n  <thead>\n    <tr style=\"text-align: right;\">\n      <th></th>\n      <th>City</th>\n      <th>Country</th>\n      <th>Lat</th>\n      <th>Lng</th>\n      <th>Max Temp</th>\n      <th>Humidity</th>\n      <th>Cloudiness</th>\n      <th>Wind Speed</th>\n    </tr>\n  </thead>\n  <tbody>\n    <tr>\n      <th>0</th>\n      <td>Cabo San Lucas</td>\n      <td>MX</td>\n      <td>22.89</td>\n      <td>-109.91</td>\n      <td>91.99</td>\n      <td>52</td>\n      <td>20</td>\n      <td>9.17</td>\n    </tr>\n    <tr>\n      <th>1</th>\n      <td>Atuona</td>\n      <td>PF</td>\n      <td>-9.80</td>\n      <td>-139.03</td>\n      <td>79.12</td>\n      <td>79</td>\n      <td>50</td>\n      <td>17.54</td>\n    </tr>\n    <tr>\n      <th>2</th>\n      <td>Bengkulu</td>\n      <td>ID</td>\n      <td>-3.80</td>\n      <td>102.27</td>\n      <td>75.43</td>\n      <td>87</td>\n      <td>30</td>\n      <td>3.47</td>\n    </tr>\n    <tr>\n      <th>3</th>\n      <td>Leningradskiy</td>\n      <td>RU</td>\n      <td>69.38</td>\n      <td>178.42</td>\n      <td>45.82</td>\n      <td>63</td>\n      <td>0</td>\n      <td>15.12</td>\n    </tr>\n    <tr>\n      <th>4</th>\n      <td>Kidal</td>\n      <td>ML</td>\n      <td>18.44</td>\n      <td>1.41</td>\n      <td>92.03</td>\n      <td>31</td>\n      <td>78</td>\n      <td>8.46</td>\n    </tr>\n    <tr>\n      <th>...</th>\n      <td>...</td>\n      <td>...</td>\n      <td>...</td>\n      <td>...</td>\n      <td>...</td>\n      <td>...</td>\n      <td>...</td>\n      <td>...</td>\n    </tr>\n    <tr>\n      <th>559</th>\n      <td>Jambi</td>\n      <td>ID</td>\n      <td>-1.60</td>\n      <td>103.62</td>\n      <td>73.22</td>\n      <td>96</td>\n      <td>90</td>\n      <td>3.13</td>\n    </tr>\n    <tr>\n      <th>560</th>\n      <td>Bemidji</td>\n      <td>US</td>\n      <td>47.47</td>\n      <td>-94.88</td>\n      <td>80.01</td>\n      <td>50</td>\n      <td>40</td>\n      <td>8.05</td>\n    </tr>\n    <tr>\n      <th>561</th>\n      <td>Valle Hermoso</td>\n      <td>MX</td>\n      <td>25.67</td>\n      <td>-97.83</td>\n      <td>97.00</td>\n      <td>50</td>\n      <td>1</td>\n      <td>14.99</td>\n    </tr>\n    <tr>\n      <th>562</th>\n      <td>Benghazi</td>\n      <td>LY</td>\n      <td>32.12</td>\n      <td>20.07</td>\n      <td>76.03</td>\n      <td>73</td>\n      <td>0</td>\n      <td>11.25</td>\n    </tr>\n    <tr>\n      <th>563</th>\n      <td>Tura</td>\n      <td>IN</td>\n      <td>25.52</td>\n      <td>90.22</td>\n      <td>74.28</td>\n      <td>97</td>\n      <td>98</td>\n      <td>6.24</td>\n    </tr>\n  </tbody>\n</table>\n<p>564 rows × 8 columns</p>\n</div>"
     },
     "metadata": {},
     "execution_count": 13
    }
   ],
   "source": [
    "city_data_df"
   ]
  },
  {
   "cell_type": "code",
   "execution_count": 16,
   "metadata": {},
   "outputs": [],
   "source": [
    "#Create the output file\n",
    "output_data_file = \"weather_data/cities.csv\"\n",
    "#Export the df to the output\n",
    "city_data_df.to_csv(output_data_file, index_label = \"City_ID\")"
   ]
  },
  {
   "cell_type": "code",
   "execution_count": null,
   "metadata": {},
   "outputs": [],
   "source": []
  }
 ],
 "metadata": {
  "language_info": {
   "codemirror_mode": {
    "name": "ipython",
    "version": 3
   },
   "file_extension": ".py",
   "mimetype": "text/x-python",
   "name": "python",
   "nbconvert_exporter": "python",
   "pygments_lexer": "ipython3",
   "version": "3.7.7-final"
  },
  "orig_nbformat": 2,
  "kernelspec": {
   "name": "python_defaultSpec_1594502927881",
   "display_name": "Python 3.7.7 64-bit ('PythonData': conda)"
  }
 },
 "nbformat": 4,
 "nbformat_minor": 2
}