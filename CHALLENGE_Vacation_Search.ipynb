{
 "cells": [
  {
   "cell_type": "code",
   "execution_count": 1,
   "metadata": {},
   "outputs": [],
   "source": [
    "# CHALLENGE PART 2 Import the dependencies.\n",
    "import pandas as pd\n",
    "import matplotlib.pyplot as plt\n",
    "import numpy as np\n",
    "import gmaps\n",
    "# Immport the requests log\n",
    "import requests\n",
    "requests.__version__\n",
    "\n",
    "#Import the API Key\n",
    "from config import weather_api_key\n",
    "from config import g_key"
   ]
  },
  {
   "cell_type": "code",
   "execution_count": 2,
   "metadata": {},
   "outputs": [
    {
     "output_type": "execute_result",
     "data": {
      "text/plain": "   City_ID            City Country    Lat     Lng  Max Temp  Humidity  \\\n0        0          Hobart      AU -42.88  147.33     46.00        87   \n1        1  Cap Malheureux      MU -19.98   57.61     72.00        74   \n2        2       Esperance      AU -33.87  121.90     48.20        61   \n3        3       Busselton      AU -33.65  115.33     59.00        68   \n4        4         Mataura      NZ -46.19  168.86     44.11        84   \n\n   Cloudiness  Wind Speed Current Description  Rain (inches)  Snow (inches)  \n0          75        5.82       broken clouds              0              0  \n1          19        8.01          few clouds              0              0  \n2           0       20.80           clear sky              0              0  \n3          98       12.80          light rain              0              0  \n4          75        4.54       broken clouds              0              0  ",
      "text/html": "<div>\n<style scoped>\n    .dataframe tbody tr th:only-of-type {\n        vertical-align: middle;\n    }\n\n    .dataframe tbody tr th {\n        vertical-align: top;\n    }\n\n    .dataframe thead th {\n        text-align: right;\n    }\n</style>\n<table border=\"1\" class=\"dataframe\">\n  <thead>\n    <tr style=\"text-align: right;\">\n      <th></th>\n      <th>City_ID</th>\n      <th>City</th>\n      <th>Country</th>\n      <th>Lat</th>\n      <th>Lng</th>\n      <th>Max Temp</th>\n      <th>Humidity</th>\n      <th>Cloudiness</th>\n      <th>Wind Speed</th>\n      <th>Current Description</th>\n      <th>Rain (inches)</th>\n      <th>Snow (inches)</th>\n    </tr>\n  </thead>\n  <tbody>\n    <tr>\n      <th>0</th>\n      <td>0</td>\n      <td>Hobart</td>\n      <td>AU</td>\n      <td>-42.88</td>\n      <td>147.33</td>\n      <td>46.00</td>\n      <td>87</td>\n      <td>75</td>\n      <td>5.82</td>\n      <td>broken clouds</td>\n      <td>0</td>\n      <td>0</td>\n    </tr>\n    <tr>\n      <th>1</th>\n      <td>1</td>\n      <td>Cap Malheureux</td>\n      <td>MU</td>\n      <td>-19.98</td>\n      <td>57.61</td>\n      <td>72.00</td>\n      <td>74</td>\n      <td>19</td>\n      <td>8.01</td>\n      <td>few clouds</td>\n      <td>0</td>\n      <td>0</td>\n    </tr>\n    <tr>\n      <th>2</th>\n      <td>2</td>\n      <td>Esperance</td>\n      <td>AU</td>\n      <td>-33.87</td>\n      <td>121.90</td>\n      <td>48.20</td>\n      <td>61</td>\n      <td>0</td>\n      <td>20.80</td>\n      <td>clear sky</td>\n      <td>0</td>\n      <td>0</td>\n    </tr>\n    <tr>\n      <th>3</th>\n      <td>3</td>\n      <td>Busselton</td>\n      <td>AU</td>\n      <td>-33.65</td>\n      <td>115.33</td>\n      <td>59.00</td>\n      <td>68</td>\n      <td>98</td>\n      <td>12.80</td>\n      <td>light rain</td>\n      <td>0</td>\n      <td>0</td>\n    </tr>\n    <tr>\n      <th>4</th>\n      <td>4</td>\n      <td>Mataura</td>\n      <td>NZ</td>\n      <td>-46.19</td>\n      <td>168.86</td>\n      <td>44.11</td>\n      <td>84</td>\n      <td>75</td>\n      <td>4.54</td>\n      <td>broken clouds</td>\n      <td>0</td>\n      <td>0</td>\n    </tr>\n  </tbody>\n</table>\n</div>"
     },
     "metadata": {},
     "execution_count": 2
    }
   ],
   "source": [
    "# CHALLENGE PART 2: Import the CSV as a DF\n",
    "weather_py_df = pd.read_csv(\"WeatherPy_database.csv\")\n",
    "weather_py_df.head()"
   ]
  },
  {
   "cell_type": "code",
   "execution_count": 3,
   "metadata": {},
   "outputs": [],
   "source": [
    "# Configure gmaps to use your Google API key.\n",
    "gmaps.configure(api_key=g_key)"
   ]
  },
  {
   "cell_type": "code",
   "execution_count": 4,
   "metadata": {},
   "outputs": [],
   "source": [
    "max_temp = weather_py_df[\"Max Temp\"]\n",
    "temps = []\n",
    "for temp in max_temp:\n",
    "    temps.append(max(temp, 0))"
   ]
  },
  {
   "cell_type": "code",
   "execution_count": 5,
   "metadata": {},
   "outputs": [],
   "source": [
    "#CHALLENGE PART 2: Ask the Customer for the minimum and maximum temperature preferences\n",
    "min_temp = float(input(\"What is the minimum temperature you would like for your trip?\"))\n",
    "max_temp = float(input(\"What is the maximum temperature you would like for your trip?\"))"
   ]
  },
  {
   "cell_type": "code",
   "execution_count": 6,
   "metadata": {},
   "outputs": [],
   "source": [
    "# CHALLENGE PART 2: Ask the customer if they would prefer for it to be raining or snowing\n",
    "rain_input = input(\"Do you want it to be raining? (yes/no) \")\n",
    "snow_input = input(\"Do you want it to be snowing? (yes/no) \")"
   ]
  },
  {
   "cell_type": "code",
   "execution_count": 7,
   "metadata": {},
   "outputs": [
    {
     "output_type": "execute_result",
     "data": {
      "text/plain": "    City_ID           City Country    Lat     Lng  Max Temp  Humidity  \\\n9         9  Makakilo City      US  21.35 -158.09     86.00        51   \n16       16         Atuona      PF  -9.80 -139.03     79.52        77   \n17       17           Miri      MY   4.41  114.01     82.40        83   \n18       18        Kavieng      PG  -2.57  150.80     84.18        68   \n21       21  Marsh Harbour      BS  26.54  -77.06     82.65        73   \n22       22       Rockport      US  28.02  -97.05     89.60        70   \n24       24         Padang      ID  -0.95  100.35     77.34        81   \n25       25          Diffa      NE  13.32   12.61     81.18        58   \n29       29          Basco      PH  20.45  121.97     84.83        81   \n30       30       Bengkulu      ID  -3.80  102.27     76.26        86   \n\n    Cloudiness  Wind Speed Current Description  Rain (inches)  Snow (inches)  \n9           75        6.93       broken clouds              0              0  \n16           1       19.64           clear sky              0              0  \n17          20        3.36          few clouds              0              0  \n18          98        5.08     overcast clouds              0              0  \n21          85       15.28     overcast clouds              0              0  \n22           1        9.17           clear sky              0              0  \n24         100        4.14          light rain              0              0  \n25           0        9.33           clear sky              0              0  \n29           0       12.59           clear sky              0              0  \n30          94        2.82     overcast clouds              0              0  ",
      "text/html": "<div>\n<style scoped>\n    .dataframe tbody tr th:only-of-type {\n        vertical-align: middle;\n    }\n\n    .dataframe tbody tr th {\n        vertical-align: top;\n    }\n\n    .dataframe thead th {\n        text-align: right;\n    }\n</style>\n<table border=\"1\" class=\"dataframe\">\n  <thead>\n    <tr style=\"text-align: right;\">\n      <th></th>\n      <th>City_ID</th>\n      <th>City</th>\n      <th>Country</th>\n      <th>Lat</th>\n      <th>Lng</th>\n      <th>Max Temp</th>\n      <th>Humidity</th>\n      <th>Cloudiness</th>\n      <th>Wind Speed</th>\n      <th>Current Description</th>\n      <th>Rain (inches)</th>\n      <th>Snow (inches)</th>\n    </tr>\n  </thead>\n  <tbody>\n    <tr>\n      <th>9</th>\n      <td>9</td>\n      <td>Makakilo City</td>\n      <td>US</td>\n      <td>21.35</td>\n      <td>-158.09</td>\n      <td>86.00</td>\n      <td>51</td>\n      <td>75</td>\n      <td>6.93</td>\n      <td>broken clouds</td>\n      <td>0</td>\n      <td>0</td>\n    </tr>\n    <tr>\n      <th>16</th>\n      <td>16</td>\n      <td>Atuona</td>\n      <td>PF</td>\n      <td>-9.80</td>\n      <td>-139.03</td>\n      <td>79.52</td>\n      <td>77</td>\n      <td>1</td>\n      <td>19.64</td>\n      <td>clear sky</td>\n      <td>0</td>\n      <td>0</td>\n    </tr>\n    <tr>\n      <th>17</th>\n      <td>17</td>\n      <td>Miri</td>\n      <td>MY</td>\n      <td>4.41</td>\n      <td>114.01</td>\n      <td>82.40</td>\n      <td>83</td>\n      <td>20</td>\n      <td>3.36</td>\n      <td>few clouds</td>\n      <td>0</td>\n      <td>0</td>\n    </tr>\n    <tr>\n      <th>18</th>\n      <td>18</td>\n      <td>Kavieng</td>\n      <td>PG</td>\n      <td>-2.57</td>\n      <td>150.80</td>\n      <td>84.18</td>\n      <td>68</td>\n      <td>98</td>\n      <td>5.08</td>\n      <td>overcast clouds</td>\n      <td>0</td>\n      <td>0</td>\n    </tr>\n    <tr>\n      <th>21</th>\n      <td>21</td>\n      <td>Marsh Harbour</td>\n      <td>BS</td>\n      <td>26.54</td>\n      <td>-77.06</td>\n      <td>82.65</td>\n      <td>73</td>\n      <td>85</td>\n      <td>15.28</td>\n      <td>overcast clouds</td>\n      <td>0</td>\n      <td>0</td>\n    </tr>\n    <tr>\n      <th>22</th>\n      <td>22</td>\n      <td>Rockport</td>\n      <td>US</td>\n      <td>28.02</td>\n      <td>-97.05</td>\n      <td>89.60</td>\n      <td>70</td>\n      <td>1</td>\n      <td>9.17</td>\n      <td>clear sky</td>\n      <td>0</td>\n      <td>0</td>\n    </tr>\n    <tr>\n      <th>24</th>\n      <td>24</td>\n      <td>Padang</td>\n      <td>ID</td>\n      <td>-0.95</td>\n      <td>100.35</td>\n      <td>77.34</td>\n      <td>81</td>\n      <td>100</td>\n      <td>4.14</td>\n      <td>light rain</td>\n      <td>0</td>\n      <td>0</td>\n    </tr>\n    <tr>\n      <th>25</th>\n      <td>25</td>\n      <td>Diffa</td>\n      <td>NE</td>\n      <td>13.32</td>\n      <td>12.61</td>\n      <td>81.18</td>\n      <td>58</td>\n      <td>0</td>\n      <td>9.33</td>\n      <td>clear sky</td>\n      <td>0</td>\n      <td>0</td>\n    </tr>\n    <tr>\n      <th>29</th>\n      <td>29</td>\n      <td>Basco</td>\n      <td>PH</td>\n      <td>20.45</td>\n      <td>121.97</td>\n      <td>84.83</td>\n      <td>81</td>\n      <td>0</td>\n      <td>12.59</td>\n      <td>clear sky</td>\n      <td>0</td>\n      <td>0</td>\n    </tr>\n    <tr>\n      <th>30</th>\n      <td>30</td>\n      <td>Bengkulu</td>\n      <td>ID</td>\n      <td>-3.80</td>\n      <td>102.27</td>\n      <td>76.26</td>\n      <td>86</td>\n      <td>94</td>\n      <td>2.82</td>\n      <td>overcast clouds</td>\n      <td>0</td>\n      <td>0</td>\n    </tr>\n  </tbody>\n</table>\n</div>"
     },
     "metadata": {},
     "execution_count": 7
    }
   ],
   "source": [
    "10\n",
    "# Filter the dataset to find the cities that fit the criteria.\n",
    "preferred_cities_df = weather_py_df .loc[(weather_py_df[\"Max Temp\"] <= max_temp) &\n",
    "                                       (weather_py_df[\"Max Temp\"] >= min_temp) &\n",
    "                                       (weather_py_df[\"Rain (inches)\"] == 0 if rain_input == \"no\" else weather_py_df[\"Rain (inches)\"] > 0) &\n",
    "                                       (weather_py_df[\"Snow (inches)\"] == 0 if snow_input == \"no\" else weather_py_df[\"Snow (inches)\"] > 0)]\n",
    "preferred_cities_df.head(10)"
   ]
  },
  {
   "cell_type": "code",
   "execution_count": 8,
   "metadata": {},
   "outputs": [
    {
     "output_type": "execute_result",
     "data": {
      "text/plain": "             City Country  Max Temp Current Description    Lat     Lng  \\\n9   Makakilo City      US     86.00       broken clouds  21.35 -158.09   \n16         Atuona      PF     79.52           clear sky  -9.80 -139.03   \n17           Miri      MY     82.40          few clouds   4.41  114.01   \n18        Kavieng      PG     84.18     overcast clouds  -2.57  150.80   \n21  Marsh Harbour      BS     82.65     overcast clouds  26.54  -77.06   \n22       Rockport      US     89.60           clear sky  28.02  -97.05   \n24         Padang      ID     77.34          light rain  -0.95  100.35   \n25          Diffa      NE     81.18           clear sky  13.32   12.61   \n29          Basco      PH     84.83           clear sky  20.45  121.97   \n30       Bengkulu      ID     76.26     overcast clouds  -3.80  102.27   \n\n   Hotel Name  \n9              \n16             \n17             \n18             \n21             \n22             \n24             \n25             \n29             \n30             ",
      "text/html": "<div>\n<style scoped>\n    .dataframe tbody tr th:only-of-type {\n        vertical-align: middle;\n    }\n\n    .dataframe tbody tr th {\n        vertical-align: top;\n    }\n\n    .dataframe thead th {\n        text-align: right;\n    }\n</style>\n<table border=\"1\" class=\"dataframe\">\n  <thead>\n    <tr style=\"text-align: right;\">\n      <th></th>\n      <th>City</th>\n      <th>Country</th>\n      <th>Max Temp</th>\n      <th>Current Description</th>\n      <th>Lat</th>\n      <th>Lng</th>\n      <th>Hotel Name</th>\n    </tr>\n  </thead>\n  <tbody>\n    <tr>\n      <th>9</th>\n      <td>Makakilo City</td>\n      <td>US</td>\n      <td>86.00</td>\n      <td>broken clouds</td>\n      <td>21.35</td>\n      <td>-158.09</td>\n      <td></td>\n    </tr>\n    <tr>\n      <th>16</th>\n      <td>Atuona</td>\n      <td>PF</td>\n      <td>79.52</td>\n      <td>clear sky</td>\n      <td>-9.80</td>\n      <td>-139.03</td>\n      <td></td>\n    </tr>\n    <tr>\n      <th>17</th>\n      <td>Miri</td>\n      <td>MY</td>\n      <td>82.40</td>\n      <td>few clouds</td>\n      <td>4.41</td>\n      <td>114.01</td>\n      <td></td>\n    </tr>\n    <tr>\n      <th>18</th>\n      <td>Kavieng</td>\n      <td>PG</td>\n      <td>84.18</td>\n      <td>overcast clouds</td>\n      <td>-2.57</td>\n      <td>150.80</td>\n      <td></td>\n    </tr>\n    <tr>\n      <th>21</th>\n      <td>Marsh Harbour</td>\n      <td>BS</td>\n      <td>82.65</td>\n      <td>overcast clouds</td>\n      <td>26.54</td>\n      <td>-77.06</td>\n      <td></td>\n    </tr>\n    <tr>\n      <th>22</th>\n      <td>Rockport</td>\n      <td>US</td>\n      <td>89.60</td>\n      <td>clear sky</td>\n      <td>28.02</td>\n      <td>-97.05</td>\n      <td></td>\n    </tr>\n    <tr>\n      <th>24</th>\n      <td>Padang</td>\n      <td>ID</td>\n      <td>77.34</td>\n      <td>light rain</td>\n      <td>-0.95</td>\n      <td>100.35</td>\n      <td></td>\n    </tr>\n    <tr>\n      <th>25</th>\n      <td>Diffa</td>\n      <td>NE</td>\n      <td>81.18</td>\n      <td>clear sky</td>\n      <td>13.32</td>\n      <td>12.61</td>\n      <td></td>\n    </tr>\n    <tr>\n      <th>29</th>\n      <td>Basco</td>\n      <td>PH</td>\n      <td>84.83</td>\n      <td>clear sky</td>\n      <td>20.45</td>\n      <td>121.97</td>\n      <td></td>\n    </tr>\n    <tr>\n      <th>30</th>\n      <td>Bengkulu</td>\n      <td>ID</td>\n      <td>76.26</td>\n      <td>overcast clouds</td>\n      <td>-3.80</td>\n      <td>102.27</td>\n      <td></td>\n    </tr>\n  </tbody>\n</table>\n</div>"
     },
     "metadata": {},
     "execution_count": 8
    }
   ],
   "source": [
    "# Create DataFrame called hotel_df to store hotel names along with city, country, max temp, and coordinates\n",
    "hotel_df = preferred_cities_df[[\"City\", \"Country\", \"Max Temp\",\"Current Description\", \"Lat\", \"Lng\",]].copy()\n",
    "hotel_df[\"Hotel Name\"] = \"\"\n",
    "hotel_df.head(10)"
   ]
  },
  {
   "cell_type": "code",
   "execution_count": 9,
   "metadata": {},
   "outputs": [],
   "source": [
    "# CHALLENGE PART 2 parameters to search for a hotel.\n",
    "params = {\n",
    "    \"radius\": 5000,\n",
    "    \"type\": \"lodging\",\n",
    "    \"key\": g_key\n",
    "}"
   ]
  },
  {
   "cell_type": "code",
   "execution_count": 10,
   "metadata": {
    "tags": []
   },
   "outputs": [
    {
     "output_type": "stream",
     "name": "stdout",
     "text": "Hotel not found... Skipping\nHotel not found... Skipping\nHotel not found... Skipping\nHotel not found... Skipping\nHotel not found... Skipping\nHotel not found... Skipping\nHotel not found... Skipping\nHotel not found... Skipping\nHotel not found... Skipping\nHotel not found... Skipping\nHotel not found... Skipping\nHotel not found... Skipping\nHotel not found... Skipping\n"
    }
   ],
   "source": [
    "# CHALLENGE PART 2: Get Hotels for the list\n",
    "for index, row in hotel_df.iterrows():\n",
    "    # Get the latitude and longitude.\n",
    "    lat = row[\"Lat\"]\n",
    "    lng = row[\"Lng\"]\n",
    "# Add the latitude and longitude to location key for the params dictionary.\n",
    "    params[\"location\"] = f\"{lat},{lng}\"\n",
    "\n",
    "    # Use the search term: \"lodging\" and our latitude and longitude.\n",
    "    base_url = \"https://maps.googleapis.com/maps/api/place/nearbysearch/json\"\n",
    "    # Make request and get the JSON data from the search.\n",
    "    hotels = requests.get(base_url, params=params).json()\n",
    "    # Grab the first hotel from the results and store the name.\n",
    "    try:\n",
    "        hotel_name = hotels[\"results\"][0][\"name\"]\n",
    "        #print(hotels[\"results\"][0][\"name\"])\n",
    "        hotel_df.loc[index, \"Hotel Name\"] = hotel_name\n",
    "    except (KeyError,IndexError):\n",
    "        print(\"Hotel not found... Skipping\")"
   ]
  },
  {
   "cell_type": "code",
   "execution_count": 11,
   "metadata": {},
   "outputs": [
    {
     "output_type": "execute_result",
     "data": {
      "text/plain": "             City Country  Max Temp Current Description    Lat     Lng  \\\n9   Makakilo City      US     86.00       broken clouds  21.35 -158.09   \n16         Atuona      PF     79.52           clear sky  -9.80 -139.03   \n17           Miri      MY     82.40          few clouds   4.41  114.01   \n18        Kavieng      PG     84.18     overcast clouds  -2.57  150.80   \n21  Marsh Harbour      BS     82.65     overcast clouds  26.54  -77.06   \n\n                        Hotel Name  \n9   Marriott's Ko Olina Beach Club  \n16                     Villa Enata  \n17                Mega Hotel, Miri  \n18             Nusa Island Retreat  \n21              Abaco Beach Resort  ",
      "text/html": "<div>\n<style scoped>\n    .dataframe tbody tr th:only-of-type {\n        vertical-align: middle;\n    }\n\n    .dataframe tbody tr th {\n        vertical-align: top;\n    }\n\n    .dataframe thead th {\n        text-align: right;\n    }\n</style>\n<table border=\"1\" class=\"dataframe\">\n  <thead>\n    <tr style=\"text-align: right;\">\n      <th></th>\n      <th>City</th>\n      <th>Country</th>\n      <th>Max Temp</th>\n      <th>Current Description</th>\n      <th>Lat</th>\n      <th>Lng</th>\n      <th>Hotel Name</th>\n    </tr>\n  </thead>\n  <tbody>\n    <tr>\n      <th>9</th>\n      <td>Makakilo City</td>\n      <td>US</td>\n      <td>86.00</td>\n      <td>broken clouds</td>\n      <td>21.35</td>\n      <td>-158.09</td>\n      <td>Marriott's Ko Olina Beach Club</td>\n    </tr>\n    <tr>\n      <th>16</th>\n      <td>Atuona</td>\n      <td>PF</td>\n      <td>79.52</td>\n      <td>clear sky</td>\n      <td>-9.80</td>\n      <td>-139.03</td>\n      <td>Villa Enata</td>\n    </tr>\n    <tr>\n      <th>17</th>\n      <td>Miri</td>\n      <td>MY</td>\n      <td>82.40</td>\n      <td>few clouds</td>\n      <td>4.41</td>\n      <td>114.01</td>\n      <td>Mega Hotel, Miri</td>\n    </tr>\n    <tr>\n      <th>18</th>\n      <td>Kavieng</td>\n      <td>PG</td>\n      <td>84.18</td>\n      <td>overcast clouds</td>\n      <td>-2.57</td>\n      <td>150.80</td>\n      <td>Nusa Island Retreat</td>\n    </tr>\n    <tr>\n      <th>21</th>\n      <td>Marsh Harbour</td>\n      <td>BS</td>\n      <td>82.65</td>\n      <td>overcast clouds</td>\n      <td>26.54</td>\n      <td>-77.06</td>\n      <td>Abaco Beach Resort</td>\n    </tr>\n  </tbody>\n</table>\n</div>"
     },
     "metadata": {},
     "execution_count": 11
    }
   ],
   "source": [
    "hotel_df.head()"
   ]
  },
  {
   "cell_type": "code",
   "execution_count": 12,
   "metadata": {},
   "outputs": [],
   "source": [
    "info_box_template = \"\"\"\n",
    "<dl>\n",
    "<dt>Hotel Name</dt><dd>{Hotel Name}</dd>\n",
    "<dt>City</dt><dd>{City}</dd>\n",
    "<dt>Country</dt><dd>{Country}</dd>\n",
    "<dt>Current Weather</dt><dd>{Current Description} and {Max Temp}°F</dd>\n",
    "</dl>\n",
    "\"\"\"\n",
    "\n",
    "# Store the DataFrame Row.\n",
    "hotel_info = [info_box_template.format(**row) for index, row in hotel_df.iterrows()]"
   ]
  },
  {
   "cell_type": "code",
   "execution_count": 13,
   "metadata": {},
   "outputs": [],
   "source": [
    "# CHALLENGE PART 2: Save the new DF as a CSV\n",
    "output_file = \"WeatherPy_vacation.csv\"\n",
    "#Export the df to the output\n",
    "hotel_df.to_csv(output_file, index_label = \"City_ID\")"
   ]
  },
  {
   "cell_type": "code",
   "execution_count": 15,
   "metadata": {},
   "outputs": [
    {
     "output_type": "display_data",
     "data": {
      "text/plain": "Figure(layout=FigureLayout(height='420px'))",
      "application/vnd.jupyter.widget-view+json": {
       "version_major": 2,
       "version_minor": 0,
       "model_id": "7650077691414b13a5a9659df9e70d8b"
      }
     },
     "metadata": {}
    }
   ],
   "source": [
    " #CHALLENGE PART 2: Add a Marker Layer Map with a Pop-up Marker for each city that includes: Hotel Name, City, Country, Current Weather Description with Max Tempurature\n",
    "locations = hotel_df[[\"Lat\", \"Lng\"]]\n",
    "max_temp = hotel_df[\"Max Temp\"]\n",
    "fig = gmaps.figure(center=(30.0, 31.0), zoom_level=1.5)\n",
    "\n",
    "marker_layer = gmaps.marker_layer(locations, info_box_content = hotel_info)\n",
    "fig.add_layer(marker_layer)\n",
    "\n",
    "# Call the figure to plot the data.\n",
    "fig"
   ]
  },
  {
   "cell_type": "code",
   "execution_count": null,
   "metadata": {},
   "outputs": [],
   "source": []
  }
 ],
 "metadata": {
  "language_info": {
   "codemirror_mode": {
    "name": "ipython",
    "version": 3
   },
   "file_extension": ".py",
   "mimetype": "text/x-python",
   "name": "python",
   "nbconvert_exporter": "python",
   "pygments_lexer": "ipython3",
   "version": "3.7.7-final"
  },
  "orig_nbformat": 2,
  "kernelspec": {
   "name": "python_defaultSpec_1594590799982",
   "display_name": "Python 3.7.7 64-bit ('PythonData': conda)"
  }
 },
 "nbformat": 4,
 "nbformat_minor": 2
}