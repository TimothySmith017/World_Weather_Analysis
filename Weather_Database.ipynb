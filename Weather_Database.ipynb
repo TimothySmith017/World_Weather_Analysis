{
 "cells": [
  {
   "cell_type": "code",
   "execution_count": 1,
   "metadata": {},
   "outputs": [],
   "source": [
    "# CHALLENGE PART 1 Import the dependencies.\n",
    "import pandas as pd\n",
    "import matplotlib.pyplot as plt\n",
    "import numpy as np\n",
    "# Immport the requests log\n",
    "import requests\n",
    "requests.__version__\n",
    "\n",
    "#Import the API Key\n",
    "from config import weather_api_key"
   ]
  },
  {
   "cell_type": "code",
   "execution_count": 2,
   "metadata": {},
   "outputs": [
    {
     "output_type": "execute_result",
     "data": {
      "text/plain": "<zip at 0x7febfe763e10>"
     },
     "metadata": {},
     "execution_count": 2
    }
   ],
   "source": [
    "# CHALLENGE PART 1 Create a set of random latitude and longitude functions\n",
    "lats = np.random.uniform(low =-90.000, high = 90.000, size = 1500)\n",
    "lngs = np.random.uniform(low = -180, high = 180, size = 1500)\n",
    "lat_lngs = zip(lats,lngs)\n",
    "lat_lngs"
   ]
  },
  {
   "cell_type": "code",
   "execution_count": 3,
   "metadata": {},
   "outputs": [],
   "source": [
    "#  CHALLENGE PART 1 Use the citipy module to determine city based on latitude and longitude.\n",
    "from citipy import citipy"
   ]
  },
  {
   "cell_type": "code",
   "execution_count": 4,
   "metadata": {},
   "outputs": [],
   "source": [
    "# CHALLENGE PART 1 Add the latitudes and the longitudes to a list.\n",
    "coordinates = list(lat_lngs)"
   ]
  },
  {
   "cell_type": "code",
   "execution_count": 5,
   "metadata": {},
   "outputs": [],
   "source": [
    "# CHALLENGE PART 1 Create a list for holding the cities.\n",
    "cities =[]\n",
    "\n",
    "# Identify the nearest city for each latitude and longitude combination.\n",
    "for coordinate in coordinates:\n",
    "    city = citipy.nearest_city(coordinate[0], coordinate[1]).city_name\n",
    "\n",
    "    #If the city is unique then we will add it fto the cities list\n",
    "    if city not in cities:\n",
    "        cities.append(city)\n",
    "    \n",
    "    #Print the city count to confirm the sufficient count.\n",
    "    len(cities)"
   ]
  },
  {
   "cell_type": "code",
   "execution_count": 6,
   "metadata": {},
   "outputs": [],
   "source": [
    "# CHALLENGE PART 1 Starting URL for Weather Map API Call.\n",
    "url = \"http://api.openweathermap.org/data/2.5/weather?units=Imperial&APPID=\" + weather_api_key"
   ]
  },
  {
   "cell_type": "code",
   "execution_count": 7,
   "metadata": {
    "tags": [
     "outputPrepend"
    ]
   },
   "outputs": [
    {
     "output_type": "stream",
     "name": "stdout",
     "text": "of Set 4 | bubaque\nProcessing Record 23 of Set 4 | halalo\nCity not found. Skipping...\nProcessing Record 24 of Set 4 | shediac\nProcessing Record 25 of Set 4 | eloy\nProcessing Record 26 of Set 4 | kamenskiy\nProcessing Record 27 of Set 4 | huaiyin\nProcessing Record 28 of Set 4 | pandan\nProcessing Record 29 of Set 4 | cockburn town\nProcessing Record 30 of Set 4 | mataura\nProcessing Record 31 of Set 4 | mitsamiouli\nProcessing Record 32 of Set 4 | batagay-alyta\nProcessing Record 33 of Set 4 | yura\nProcessing Record 34 of Set 4 | mareeba\nProcessing Record 35 of Set 4 | half moon bay\nProcessing Record 36 of Set 4 | georgetown\nProcessing Record 37 of Set 4 | nelson bay\nProcessing Record 38 of Set 4 | new norfolk\nProcessing Record 39 of Set 4 | rasra\nProcessing Record 40 of Set 4 | jishou\nProcessing Record 41 of Set 4 | larkana\nProcessing Record 42 of Set 4 | tsihombe\nCity not found. Skipping...\nProcessing Record 43 of Set 4 | joue-les-tours\nProcessing Record 44 of Set 4 | dorobantu\nProcessing Record 45 of Set 4 | otane\nProcessing Record 46 of Set 4 | ayan\nProcessing Record 47 of Set 4 | castro\nProcessing Record 48 of Set 4 | vestmannaeyjar\nProcessing Record 49 of Set 4 | nandu\nProcessing Record 50 of Set 4 | anori\nProcessing Record 1 of Set 5 | necochea\nProcessing Record 2 of Set 5 | dingle\nProcessing Record 3 of Set 5 | fairbanks\nProcessing Record 4 of Set 5 | moree\nProcessing Record 5 of Set 5 | dzhusaly\nCity not found. Skipping...\nProcessing Record 6 of Set 5 | cabo san lucas\nProcessing Record 7 of Set 5 | yulara\nProcessing Record 8 of Set 5 | kavieng\nProcessing Record 9 of Set 5 | mar del plata\nProcessing Record 10 of Set 5 | polasara\nProcessing Record 11 of Set 5 | vanimo\nProcessing Record 12 of Set 5 | hof\nProcessing Record 13 of Set 5 | odweyne\nProcessing Record 14 of Set 5 | genhe\nProcessing Record 15 of Set 5 | kundiawa\nProcessing Record 16 of Set 5 | shizunai\nProcessing Record 17 of Set 5 | borlange\nCity not found. Skipping...\nProcessing Record 18 of Set 5 | xai-xai\nProcessing Record 19 of Set 5 | omsukchan\nProcessing Record 20 of Set 5 | machaneng\nProcessing Record 21 of Set 5 | glenwood springs\nProcessing Record 22 of Set 5 | finschhafen\nProcessing Record 23 of Set 5 | samusu\nCity not found. Skipping...\nProcessing Record 24 of Set 5 | ketchikan\nProcessing Record 25 of Set 5 | moranbah\nProcessing Record 26 of Set 5 | tadine\nProcessing Record 27 of Set 5 | omboue\nProcessing Record 28 of Set 5 | broome\nProcessing Record 29 of Set 5 | toliary\nCity not found. Skipping...\nProcessing Record 30 of Set 5 | imeni poliny osipenko\nProcessing Record 31 of Set 5 | vysokogornyy\nProcessing Record 32 of Set 5 | turka\nProcessing Record 33 of Set 5 | barawe\nCity not found. Skipping...\nProcessing Record 34 of Set 5 | manzhouli\nProcessing Record 35 of Set 5 | mugeni\nProcessing Record 36 of Set 5 | avarua\nProcessing Record 37 of Set 5 | ushibuka\nProcessing Record 38 of Set 5 | formiga\nProcessing Record 39 of Set 5 | victoria\nProcessing Record 40 of Set 5 | garmsar\nProcessing Record 41 of Set 5 | atasu\nProcessing Record 42 of Set 5 | quelimane\nProcessing Record 43 of Set 5 | tasiilaq\nProcessing Record 44 of Set 5 | port augusta\nProcessing Record 45 of Set 5 | denpasar\nProcessing Record 46 of Set 5 | hobyo\nProcessing Record 47 of Set 5 | tumannyy\nCity not found. Skipping...\nProcessing Record 48 of Set 5 | san policarpo\nProcessing Record 49 of Set 5 | jacareacanga\nProcessing Record 50 of Set 5 | simbahan\nProcessing Record 1 of Set 6 | lukovetskiy\nProcessing Record 2 of Set 6 | arraial do cabo\nProcessing Record 3 of Set 6 | buluang\nProcessing Record 4 of Set 6 | koutiala\nProcessing Record 5 of Set 6 | kodinsk\nProcessing Record 6 of Set 6 | olafsvik\nProcessing Record 7 of Set 6 | barrow\nProcessing Record 8 of Set 6 | grover beach\nProcessing Record 9 of Set 6 | meiktila\nProcessing Record 10 of Set 6 | erenhot\nProcessing Record 11 of Set 6 | brae\nProcessing Record 12 of Set 6 | derzhavinsk\nProcessing Record 13 of Set 6 | lavrentiya\nProcessing Record 14 of Set 6 | rawson\nProcessing Record 15 of Set 6 | pousat\nCity not found. Skipping...\nProcessing Record 16 of Set 6 | ushtobe\nProcessing Record 17 of Set 6 | itarema\nProcessing Record 18 of Set 6 | arman\nProcessing Record 19 of Set 6 | latehar\nProcessing Record 20 of Set 6 | leh\nProcessing Record 21 of Set 6 | pevek\nProcessing Record 22 of Set 6 | mount isa\nProcessing Record 23 of Set 6 | tagusao\nProcessing Record 24 of Set 6 | uromi\nProcessing Record 25 of Set 6 | kirakira\nProcessing Record 26 of Set 6 | marienburg\nProcessing Record 27 of Set 6 | strelka\nProcessing Record 28 of Set 6 | phibun mangsahan\nProcessing Record 29 of Set 6 | sinnamary\nProcessing Record 30 of Set 6 | zhicheng\nProcessing Record 31 of Set 6 | svarstad\nProcessing Record 32 of Set 6 | nikolayevsk-na-amure\nProcessing Record 33 of Set 6 | sao joao da barra\nProcessing Record 34 of Set 6 | nome\nProcessing Record 35 of Set 6 | putna\nProcessing Record 36 of Set 6 | aripuana\nProcessing Record 37 of Set 6 | bambous virieux\nProcessing Record 38 of Set 6 | flinders\nProcessing Record 39 of Set 6 | talcahuano\nProcessing Record 40 of Set 6 | nautla\nProcessing Record 41 of Set 6 | dukat\nProcessing Record 42 of Set 6 | belmonte\nProcessing Record 43 of Set 6 | acarau\nProcessing Record 44 of Set 6 | natal\nProcessing Record 45 of Set 6 | sitka\nProcessing Record 46 of Set 6 | ishigaki\nProcessing Record 47 of Set 6 | mangalia\nProcessing Record 48 of Set 6 | hengshui\nProcessing Record 49 of Set 6 | pacifica\nProcessing Record 50 of Set 6 | oranjemund\nProcessing Record 1 of Set 7 | petropavlovsk-kamchatskiy\nProcessing Record 2 of Set 7 | thiadiaye\nProcessing Record 3 of Set 7 | sola\nProcessing Record 4 of Set 7 | merauke\nProcessing Record 5 of Set 7 | antalaha\nProcessing Record 6 of Set 7 | solnechnyy\nProcessing Record 7 of Set 7 | yambio\nProcessing Record 8 of Set 7 | kalyazin\nProcessing Record 9 of Set 7 | taburi\nCity not found. Skipping...\nProcessing Record 10 of Set 7 | bonavista\nProcessing Record 11 of Set 7 | mao\nProcessing Record 12 of Set 7 | hofn\nProcessing Record 13 of Set 7 | umm kaddadah\nProcessing Record 14 of Set 7 | cobija\nProcessing Record 15 of Set 7 | coffs harbour\nProcessing Record 16 of Set 7 | atar\nProcessing Record 17 of Set 7 | himora\nCity not found. Skipping...\nProcessing Record 18 of Set 7 | matara\nProcessing Record 19 of Set 7 | gat\nProcessing Record 20 of Set 7 | kurtamysh\nProcessing Record 21 of Set 7 | rognan\nProcessing Record 22 of Set 7 | cankuzo\nProcessing Record 23 of Set 7 | grand-santi\nProcessing Record 24 of Set 7 | ternate\nProcessing Record 25 of Set 7 | hamilton\nProcessing Record 26 of Set 7 | aktau\nProcessing Record 27 of Set 7 | lebu\nProcessing Record 28 of Set 7 | klyuchi\nProcessing Record 29 of Set 7 | gigmoto\nProcessing Record 30 of Set 7 | kulhudhuffushi\nProcessing Record 31 of Set 7 | calderara di reno\nProcessing Record 32 of Set 7 | aykhal\nProcessing Record 33 of Set 7 | sechura\nProcessing Record 34 of Set 7 | teguldet\nProcessing Record 35 of Set 7 | ijaki\nCity not found. Skipping...\nProcessing Record 36 of Set 7 | sisimiut\nProcessing Record 37 of Set 7 | yar-sale\nProcessing Record 38 of Set 7 | santa helena de goias\nProcessing Record 39 of Set 7 | marsh harbour\nProcessing Record 40 of Set 7 | buala\nProcessing Record 41 of Set 7 | tuatapere\nProcessing Record 42 of Set 7 | grants pass\nProcessing Record 43 of Set 7 | ullapool\nProcessing Record 44 of Set 7 | san cristobal\nProcessing Record 45 of Set 7 | yaan\nProcessing Record 46 of Set 7 | antsohihy\nProcessing Record 47 of Set 7 | karlskrona\nProcessing Record 48 of Set 7 | tiarei\nProcessing Record 49 of Set 7 | zhaoyuan\nProcessing Record 50 of Set 7 | chuy\nProcessing Record 1 of Set 8 | isangel\nProcessing Record 2 of Set 8 | baie-saint-paul\nProcessing Record 3 of Set 8 | asosa\nProcessing Record 4 of Set 8 | sawankhalok\nProcessing Record 5 of Set 8 | debre tabor\nProcessing Record 6 of Set 8 | ormara\nProcessing Record 7 of Set 8 | thinadhoo\nProcessing Record 8 of Set 8 | fukue\nProcessing Record 9 of Set 8 | doctor juan leon mallorquin\nProcessing Record 10 of Set 8 | okhotsk\nProcessing Record 11 of Set 8 | vagay\nProcessing Record 12 of Set 8 | kruisfontein\nProcessing Record 13 of Set 8 | luderitz\nProcessing Record 14 of Set 8 | nhulunbuy\nProcessing Record 15 of Set 8 | antofagasta\nProcessing Record 16 of Set 8 | lapithos\nProcessing Record 17 of Set 8 | sabinas\nProcessing Record 18 of Set 8 | camacha\nProcessing Record 19 of Set 8 | salinopolis\nProcessing Record 20 of Set 8 | vincennes\nProcessing Record 21 of Set 8 | alofi\nProcessing Record 22 of Set 8 | artyk\nCity not found. Skipping...\nProcessing Record 23 of Set 8 | rungata\nCity not found. Skipping...\nProcessing Record 24 of Set 8 | nishihara\nProcessing Record 25 of Set 8 | gushikawa\nProcessing Record 26 of Set 8 | ambunti\nProcessing Record 27 of Set 8 | lujiang\nProcessing Record 28 of Set 8 | kinshasa\nProcessing Record 29 of Set 8 | haines junction\nProcessing Record 30 of Set 8 | karaton\nProcessing Record 31 of Set 8 | kroonstad\nProcessing Record 32 of Set 8 | port lincoln\nProcessing Record 33 of Set 8 | marcona\nCity not found. Skipping...\nProcessing Record 34 of Set 8 | bandarbeyla\nProcessing Record 35 of Set 8 | arkhipo-osipovka\nProcessing Record 36 of Set 8 | bengkulu\nProcessing Record 37 of Set 8 | north bend\nProcessing Record 38 of Set 8 | udachnyy\nProcessing Record 39 of Set 8 | cedar city\nProcessing Record 40 of Set 8 | seoul\nProcessing Record 41 of Set 8 | sur\nProcessing Record 42 of Set 8 | leningradskiy\nProcessing Record 43 of Set 8 | kuytun\nProcessing Record 44 of Set 8 | tucuman\nProcessing Record 45 of Set 8 | sakakah\nProcessing Record 46 of Set 8 | alice springs\nProcessing Record 47 of Set 8 | santa isabel do rio negro\nProcessing Record 48 of Set 8 | requena\nProcessing Record 49 of Set 8 | haimen\nProcessing Record 50 of Set 8 | aklavik\nProcessing Record 1 of Set 9 | acapulco\nProcessing Record 2 of Set 9 | saint-joseph\nProcessing Record 3 of Set 9 | sunamganj\nCity not found. Skipping...\nProcessing Record 4 of Set 9 | rudovci\nProcessing Record 5 of Set 9 | kieta\nProcessing Record 6 of Set 9 | qandahar\nCity not found. Skipping...\nProcessing Record 7 of Set 9 | maldonado\nProcessing Record 8 of Set 9 | ambagarh chauki\nProcessing Record 9 of Set 9 | maceio\nProcessing Record 10 of Set 9 | dongsheng\nProcessing Record 11 of Set 9 | tayibe\nCity not found. Skipping...\nProcessing Record 12 of Set 9 | fort nelson\nProcessing Record 13 of Set 9 | muros\nProcessing Record 14 of Set 9 | amapa\nProcessing Record 15 of Set 9 | emerald\nProcessing Record 16 of Set 9 | powell river\nProcessing Record 17 of Set 9 | changying\nProcessing Record 18 of Set 9 | ocara\nProcessing Record 19 of Set 9 | rabo de peixe\nProcessing Record 20 of Set 9 | toora-khem\nProcessing Record 21 of Set 9 | cilaos\nProcessing Record 22 of Set 9 | hovd\nProcessing Record 23 of Set 9 | mahebourg\nProcessing Record 24 of Set 9 | havelock\nProcessing Record 25 of Set 9 | atagay\nProcessing Record 26 of Set 9 | payson\nProcessing Record 27 of Set 9 | esperance\nProcessing Record 28 of Set 9 | khaniotis\nProcessing Record 29 of Set 9 | lazaro cardenas\nProcessing Record 30 of Set 9 | delijan\nProcessing Record 31 of Set 9 | mbuji-mayi\nProcessing Record 32 of Set 9 | banamba\nProcessing Record 33 of Set 9 | khor\nProcessing Record 34 of Set 9 | riyadh\nProcessing Record 35 of Set 9 | portland\nProcessing Record 36 of Set 9 | puerto escondido\nProcessing Record 37 of Set 9 | kununurra\nProcessing Record 38 of Set 9 | lakshettipet\nProcessing Record 39 of Set 9 | bolshiye chapurniki\nCity not found. Skipping...\nProcessing Record 40 of Set 9 | talnakh\nProcessing Record 41 of Set 9 | jalu\nProcessing Record 42 of Set 9 | naqadeh\nProcessing Record 43 of Set 9 | salta\nProcessing Record 44 of Set 9 | san bartolome de tirajana\nProcessing Record 45 of Set 9 | vila velha\nProcessing Record 46 of Set 9 | ust-ilimsk\nProcessing Record 47 of Set 9 | krasnozerskoye\nProcessing Record 48 of Set 9 | tautira\nProcessing Record 49 of Set 9 | general roca\nProcessing Record 50 of Set 9 | bac ninh\nProcessing Record 1 of Set 10 | pochutla\nProcessing Record 2 of Set 10 | yuma\nProcessing Record 3 of Set 10 | balkhash\nProcessing Record 4 of Set 10 | prince rupert\nProcessing Record 5 of Set 10 | uruacu\nProcessing Record 6 of Set 10 | bunol\nProcessing Record 7 of Set 10 | carahue\nProcessing Record 8 of Set 10 | lyubeshiv\nCity not found. Skipping...\nProcessing Record 9 of Set 10 | butembo\nProcessing Record 10 of Set 10 | nador\nProcessing Record 11 of Set 10 | louisbourg\nCity not found. Skipping...\nProcessing Record 12 of Set 10 | listvyagi\nProcessing Record 13 of Set 10 | balikpapan\nProcessing Record 14 of Set 10 | theologos\nCity not found. Skipping...\nProcessing Record 15 of Set 10 | tres picos\nProcessing Record 16 of Set 10 | khilok\nProcessing Record 17 of Set 10 | egvekinot\nProcessing Record 18 of Set 10 | honiara\nProcessing Record 19 of Set 10 | luohe\nProcessing Record 20 of Set 10 | igarka\nProcessing Record 21 of Set 10 | umm lajj\nProcessing Record 22 of Set 10 | lagoa vermelha\nProcessing Record 23 of Set 10 | palatka\nProcessing Record 24 of Set 10 | bairnsdale\nProcessing Record 25 of Set 10 | fayaoue\nProcessing Record 26 of Set 10 | sibolga\nProcessing Record 27 of Set 10 | bulaevo\nProcessing Record 28 of Set 10 | youghal\nProcessing Record 29 of Set 10 | toma\nProcessing Record 30 of Set 10 | tasbuget\nCity not found. Skipping...\nProcessing Record 31 of Set 10 | hanzhong\nProcessing Record 32 of Set 10 | bargal\nCity not found. Skipping...\nProcessing Record 33 of Set 10 | mayskiy\nProcessing Record 34 of Set 10 | rovaniemi\nProcessing Record 35 of Set 10 | villa carlos paz\nProcessing Record 36 of Set 10 | clyde river\nProcessing Record 37 of Set 10 | kahului\nProcessing Record 38 of Set 10 | robertsport\nProcessing Record 39 of Set 10 | ahipara\nProcessing Record 40 of Set 10 | kenai\nProcessing Record 41 of Set 10 | laguna\nProcessing Record 42 of Set 10 | tshikapa\nProcessing Record 43 of Set 10 | general pico\nProcessing Record 44 of Set 10 | falealupo\nCity not found. Skipping...\nProcessing Record 45 of Set 10 | sobolevo\nProcessing Record 46 of Set 10 | saint-francois\nProcessing Record 47 of Set 10 | ponta do sol\nProcessing Record 48 of Set 10 | menongue\nProcessing Record 49 of Set 10 | kalanguy\nProcessing Record 50 of Set 10 | tessalit\nProcessing Record 1 of Set 11 | coihaique\nProcessing Record 2 of Set 11 | bluefields\nProcessing Record 3 of Set 11 | praia\nProcessing Record 4 of Set 11 | ust-nera\nProcessing Record 5 of Set 11 | lincoln\nProcessing Record 6 of Set 11 | littleton\nProcessing Record 7 of Set 11 | pak thong chai\nProcessing Record 8 of Set 11 | thai binh\nProcessing Record 9 of Set 11 | touros\nProcessing Record 10 of Set 11 | mgandu\nProcessing Record 11 of Set 11 | chukhloma\nProcessing Record 12 of Set 11 | champerico\nProcessing Record 13 of Set 11 | cottbus\nProcessing Record 14 of Set 11 | kudahuvadhoo\nProcessing Record 15 of Set 11 | boysun\nProcessing Record 16 of Set 11 | ancud\nProcessing Record 17 of Set 11 | kondopoga\nProcessing Record 18 of Set 11 | saldanha\nProcessing Record 19 of Set 11 | banepa\nProcessing Record 20 of Set 11 | luganville\nProcessing Record 21 of Set 11 | yakeshi\nProcessing Record 22 of Set 11 | kamenskoye\nCity not found. Skipping...\nProcessing Record 23 of Set 11 | iqaluit\nProcessing Record 24 of Set 11 | khandyga\nProcessing Record 25 of Set 11 | narsaq\nProcessing Record 26 of Set 11 | tubruq\nCity not found. Skipping...\nProcessing Record 27 of Set 11 | cairns\nProcessing Record 28 of Set 11 | bajil\nProcessing Record 29 of Set 11 | mongo\nProcessing Record 30 of Set 11 | araouane\nProcessing Record 31 of Set 11 | lasa\nProcessing Record 32 of Set 11 | leshukonskoye\nProcessing Record 33 of Set 11 | laksham\nProcessing Record 34 of Set 11 | corn island\nProcessing Record 35 of Set 11 | hun\nProcessing Record 36 of Set 11 | san jose\nProcessing Record 37 of Set 11 | lima\nProcessing Record 38 of Set 11 | tramagal\nProcessing Record 39 of Set 11 | akdepe\nProcessing Record 40 of Set 11 | coquimbo\nProcessing Record 41 of Set 11 | astoria\nProcessing Record 42 of Set 11 | sioux lookout\nProcessing Record 43 of Set 11 | luan\nProcessing Record 44 of Set 11 | hwange\nProcessing Record 45 of Set 11 | aleksandrov gay\nProcessing Record 46 of Set 11 | carmen\nProcessing Record 47 of Set 11 | rabat\nProcessing Record 48 of Set 11 | sorvag\nCity not found. Skipping...\nProcessing Record 49 of Set 11 | northam\nProcessing Record 50 of Set 11 | husavik\nProcessing Record 1 of Set 12 | moose factory\nProcessing Record 2 of Set 12 | priiskovyy\nProcessing Record 3 of Set 12 | pedernales\nProcessing Record 4 of Set 12 | longford\nProcessing Record 5 of Set 12 | phan rang\nCity not found. Skipping...\nProcessing Record 6 of Set 12 | kushima\nProcessing Record 7 of Set 12 | hermosillo\nProcessing Record 8 of Set 12 | panguna\nProcessing Record 9 of Set 12 | saleaula\nCity not found. Skipping...\nProcessing Record 10 of Set 12 | providencia\nProcessing Record 11 of Set 12 | severnyy\nProcessing Record 12 of Set 12 | zhigansk\nProcessing Record 13 of Set 12 | zhuhai\nProcessing Record 14 of Set 12 | tateyama\nProcessing Record 15 of Set 12 | ilovlya\nProcessing Record 16 of Set 12 | luwuk\nProcessing Record 17 of Set 12 | storforshei\nProcessing Record 18 of Set 12 | iquitos\nProcessing Record 19 of Set 12 | lodja\nProcessing Record 20 of Set 12 | jutai\nProcessing Record 21 of Set 12 | ilhabela\nProcessing Record 22 of Set 12 | jatiroto\nProcessing Record 23 of Set 12 | fernandopolis\nProcessing Record 24 of Set 12 | amparafaravola\nProcessing Record 25 of Set 12 | oranjestad\nProcessing Record 26 of Set 12 | huarmey\nProcessing Record 27 of Set 12 | alta floresta\nProcessing Record 28 of Set 12 | nouadhibou\nProcessing Record 29 of Set 12 | huayucachi\nProcessing Record 30 of Set 12 | mandeville\nProcessing Record 31 of Set 12 | shemonaikha\nProcessing Record 32 of Set 12 | bandipur\nProcessing Record 33 of Set 12 | buariki\nCity not found. Skipping...\nProcessing Record 34 of Set 12 | sayville\nProcessing Record 35 of Set 12 | anloga\nProcessing Record 36 of Set 12 | forio\nProcessing Record 37 of Set 12 | lodwar\nProcessing Record 38 of Set 12 | roald\nProcessing Record 39 of Set 12 | samalaeulu\nCity not found. Skipping...\nProcessing Record 40 of Set 12 | cape coast\nProcessing Record 41 of Set 12 | tomatlan\nProcessing Record 42 of Set 12 | amuntai\nProcessing Record 43 of Set 12 | huadian\nProcessing Record 44 of Set 12 | soyo\nProcessing Record 45 of Set 12 | governador valadares\nProcessing Record 46 of Set 12 | mazagao\nProcessing Record 47 of Set 12 | san matias\nProcessing Record 48 of Set 12 | medicine hat\nProcessing Record 49 of Set 12 | edd\nProcessing Record 50 of Set 12 | panormos\nProcessing Record 1 of Set 13 | rocha\nProcessing Record 2 of Set 13 | namatanai\nProcessing Record 3 of Set 13 | pitrufquen\nProcessing Record 4 of Set 13 | pemangkat\nProcessing Record 5 of Set 13 | hudiksvall\nProcessing Record 6 of Set 13 | weifang\nProcessing Record 7 of Set 13 | santa ines\nProcessing Record 8 of Set 13 | sao luis\nProcessing Record 9 of Set 13 | baykit\nProcessing Record 10 of Set 13 | carutapera\nProcessing Record 11 of Set 13 | warmbad\nProcessing Record 12 of Set 13 | yomitan\nCity not found. Skipping...\nProcessing Record 13 of Set 13 | sao domingos do maranhao\nProcessing Record 14 of Set 13 | san patricio\nProcessing Record 15 of Set 13 | surt\nProcessing Record 16 of Set 13 | karpathos\nProcessing Record 17 of Set 13 | korla\nProcessing Record 18 of Set 13 | san borja\nProcessing Record 19 of Set 13 | belize\nProcessing Record 20 of Set 13 | fortuna\nProcessing Record 21 of Set 13 | semporna\nProcessing Record 22 of Set 13 | copiapo\nProcessing Record 23 of Set 13 | oktyabrskoye\nProcessing Record 24 of Set 13 | ayr\nProcessing Record 25 of Set 13 | whitianga\nProcessing Record 26 of Set 13 | kizner\nProcessing Record 27 of Set 13 | ugep\nProcessing Record 28 of Set 13 | xining\n-----------------------------\nData Retrieval Complete      \n-----------------------------\n"
    }
   ],
   "source": [
    "# CHALLENGE PART 1 List of city data\n",
    "city_data = []\n",
    "\n",
    "# Print to logger\n",
    "print(\"Beginning Data Retrieval     \")\n",
    "print(\"-----------------------------\")\n",
    "\n",
    "# Create counters\n",
    "record_count = 1\n",
    "set_count = 1\n",
    "\n",
    "# Loop through all the cities in our list\n",
    "for i, city in enumerate(cities):\n",
    "        \n",
    "    # Group cities in sets of 50 for logging purposes\n",
    "    if (i % 50 == 0 and i >= 50):\n",
    "        set_count += 1\n",
    "        record_count = 1\n",
    "\n",
    "    # Create endpoint URL with each city\n",
    "    city_url = url + \"&q=\" + city.replace(\" \",\"+\")\n",
    "    \n",
    "    # Log the url, record, and set numbers\n",
    "    print(f\"Processing Record {record_count} of Set {set_count} | {city}\")\n",
    "\n",
    "    # Add 1 to the record count\n",
    "    record_count += 1\n",
    "\n",
    "    # Run an API request for each of the cities\n",
    "    try:\n",
    "        city_weather = requests.get(city_url).json()\n",
    "        # Parse out the max temp, humidity, and cloudiness, CHALLENGE PART 1: ALSO WEATHER DESCRIPTION\n",
    "        city_lat = city_weather[\"coord\"][\"lat\"]\n",
    "        city_lng = city_weather[\"coord\"][\"lon\"]\n",
    "        city_max_temp = city_weather[\"main\"][\"temp_max\"]\n",
    "        city_humidity = city_weather[\"main\"][\"humidity\"]\n",
    "        city_clouds = city_weather[\"clouds\"][\"all\"]\n",
    "        city_wind = city_weather[\"wind\"][\"speed\"]\n",
    "        city_country = city_weather[\"sys\"][\"country\"]\n",
    "        city_weather_description = city_weather[\"weather\"][0][\"description\"] \n",
    "        \n",
    "        # CHALLENGE PART 1:  Try except blocks for rain and snow\n",
    "        try:\n",
    "            city_rain_inches = city_weather[\"rain\"][\"1h\"]\n",
    "        except KeyError:\n",
    "            city_rain_inches = 0\n",
    "        try:\n",
    "            city_snow_inches = city_weather[\"snow\"][\"1h\"]\n",
    "        except KeyError:\n",
    "            city_snow_inches = 0        \n",
    "            \n",
    "            #  CHALLENGE PART 1  new Append the City information into city_data list\n",
    "        city_data.append({\"City\": city.title(), \n",
    "                          \"Lat\": city_lat, \n",
    "                          \"Lng\": city_lng, \n",
    "                          \"Max Temp\": city_max_temp,\n",
    "                          \"Current Description\": city_weather_description,\n",
    "                          \"Rain (inches)\": city_rain_inches,\n",
    "                          \"Snow (inches)\": city_snow_inches,\n",
    "                          \"Humidity\": city_humidity,\n",
    "                          \"Cloudiness\": city_clouds,\n",
    "                          \"Wind Speed\": city_wind,\n",
    "                          \"Country\": city_country})\n",
    "    # If an error is experienced, skip the city\n",
    "\n",
    "    except:\n",
    "        print(\"City not found. Skipping...\")\n",
    "        pass\n",
    "\n",
    "# Indicate that Data Loading is complete \n",
    "print(\"-----------------------------\")\n",
    "print(\"Data Retrieval Complete      \")\n",
    "print(\"-----------------------------\")"
   ]
  },
  {
   "cell_type": "code",
   "execution_count": 8,
   "metadata": {},
   "outputs": [
    {
     "output_type": "execute_result",
     "data": {
      "text/plain": "628"
     },
     "metadata": {},
     "execution_count": 8
    }
   ],
   "source": [
    "len(cities)"
   ]
  },
  {
   "cell_type": "code",
   "execution_count": 10,
   "metadata": {},
   "outputs": [
    {
     "output_type": "execute_result",
     "data": {
      "text/plain": "           City    Lat     Lng  Max Temp Current Description  Rain (inches)  \\\n0           Shu  43.60   73.76     70.41           clear sky           0.00   \n1         Kapaa  22.08 -159.32     82.40    scattered clouds           0.00   \n2         Bilma  18.69   12.92     91.02       broken clouds           0.00   \n3     Grindavik  63.84  -22.43     50.00       broken clouds           0.00   \n4       Vilhena -12.74  -60.15     87.80          few clouds           0.00   \n5        Aitape  -3.14  142.35     77.79          light rain           0.13   \n6         Vaini -21.20 -175.20     71.60    scattered clouds           0.00   \n7  Punta Arenas -53.15  -70.92     37.40    scattered clouds           0.00   \n8        Hobart -42.88  147.33     39.99       broken clouds           0.00   \n9     Hithadhoo  -0.60   73.08     85.28     overcast clouds           0.00   \n\n   Snow (inches)  Humidity  Cloudiness  Wind Speed Country  \n0              0        34           0        8.63      KZ  \n1              0        65          40       16.11      US  \n2              0        32          80       10.89      NE  \n3              0        93          75        4.70      IS  \n4              0        40          20        9.17      BR  \n5              0        81         100        3.96      PG  \n6              0        78          40       17.22      TO  \n7              0        83          40       21.92      CL  \n8              0        93          75        5.82      AU  \n9              0        69          87        7.78      MV  ",
      "text/html": "<div>\n<style scoped>\n    .dataframe tbody tr th:only-of-type {\n        vertical-align: middle;\n    }\n\n    .dataframe tbody tr th {\n        vertical-align: top;\n    }\n\n    .dataframe thead th {\n        text-align: right;\n    }\n</style>\n<table border=\"1\" class=\"dataframe\">\n  <thead>\n    <tr style=\"text-align: right;\">\n      <th></th>\n      <th>City</th>\n      <th>Lat</th>\n      <th>Lng</th>\n      <th>Max Temp</th>\n      <th>Current Description</th>\n      <th>Rain (inches)</th>\n      <th>Snow (inches)</th>\n      <th>Humidity</th>\n      <th>Cloudiness</th>\n      <th>Wind Speed</th>\n      <th>Country</th>\n    </tr>\n  </thead>\n  <tbody>\n    <tr>\n      <th>0</th>\n      <td>Shu</td>\n      <td>43.60</td>\n      <td>73.76</td>\n      <td>70.41</td>\n      <td>clear sky</td>\n      <td>0.00</td>\n      <td>0</td>\n      <td>34</td>\n      <td>0</td>\n      <td>8.63</td>\n      <td>KZ</td>\n    </tr>\n    <tr>\n      <th>1</th>\n      <td>Kapaa</td>\n      <td>22.08</td>\n      <td>-159.32</td>\n      <td>82.40</td>\n      <td>scattered clouds</td>\n      <td>0.00</td>\n      <td>0</td>\n      <td>65</td>\n      <td>40</td>\n      <td>16.11</td>\n      <td>US</td>\n    </tr>\n    <tr>\n      <th>2</th>\n      <td>Bilma</td>\n      <td>18.69</td>\n      <td>12.92</td>\n      <td>91.02</td>\n      <td>broken clouds</td>\n      <td>0.00</td>\n      <td>0</td>\n      <td>32</td>\n      <td>80</td>\n      <td>10.89</td>\n      <td>NE</td>\n    </tr>\n    <tr>\n      <th>3</th>\n      <td>Grindavik</td>\n      <td>63.84</td>\n      <td>-22.43</td>\n      <td>50.00</td>\n      <td>broken clouds</td>\n      <td>0.00</td>\n      <td>0</td>\n      <td>93</td>\n      <td>75</td>\n      <td>4.70</td>\n      <td>IS</td>\n    </tr>\n    <tr>\n      <th>4</th>\n      <td>Vilhena</td>\n      <td>-12.74</td>\n      <td>-60.15</td>\n      <td>87.80</td>\n      <td>few clouds</td>\n      <td>0.00</td>\n      <td>0</td>\n      <td>40</td>\n      <td>20</td>\n      <td>9.17</td>\n      <td>BR</td>\n    </tr>\n    <tr>\n      <th>5</th>\n      <td>Aitape</td>\n      <td>-3.14</td>\n      <td>142.35</td>\n      <td>77.79</td>\n      <td>light rain</td>\n      <td>0.13</td>\n      <td>0</td>\n      <td>81</td>\n      <td>100</td>\n      <td>3.96</td>\n      <td>PG</td>\n    </tr>\n    <tr>\n      <th>6</th>\n      <td>Vaini</td>\n      <td>-21.20</td>\n      <td>-175.20</td>\n      <td>71.60</td>\n      <td>scattered clouds</td>\n      <td>0.00</td>\n      <td>0</td>\n      <td>78</td>\n      <td>40</td>\n      <td>17.22</td>\n      <td>TO</td>\n    </tr>\n    <tr>\n      <th>7</th>\n      <td>Punta Arenas</td>\n      <td>-53.15</td>\n      <td>-70.92</td>\n      <td>37.40</td>\n      <td>scattered clouds</td>\n      <td>0.00</td>\n      <td>0</td>\n      <td>83</td>\n      <td>40</td>\n      <td>21.92</td>\n      <td>CL</td>\n    </tr>\n    <tr>\n      <th>8</th>\n      <td>Hobart</td>\n      <td>-42.88</td>\n      <td>147.33</td>\n      <td>39.99</td>\n      <td>broken clouds</td>\n      <td>0.00</td>\n      <td>0</td>\n      <td>93</td>\n      <td>75</td>\n      <td>5.82</td>\n      <td>AU</td>\n    </tr>\n    <tr>\n      <th>9</th>\n      <td>Hithadhoo</td>\n      <td>-0.60</td>\n      <td>73.08</td>\n      <td>85.28</td>\n      <td>overcast clouds</td>\n      <td>0.00</td>\n      <td>0</td>\n      <td>69</td>\n      <td>87</td>\n      <td>7.78</td>\n      <td>MV</td>\n    </tr>\n  </tbody>\n</table>\n</div>"
     },
     "metadata": {},
     "execution_count": 10
    }
   ],
   "source": [
    "weather_py_df = pd.DataFrame(city_data)\n",
    "weather_py_df.head(10)"
   ]
  },
  {
   "cell_type": "code",
   "execution_count": 11,
   "metadata": {},
   "outputs": [],
   "source": [
    "# CHALLENGE PART 1: Reorder the DF to look like that of the one in the example\n",
    "\n",
    "new_column_order = [\"City\",\"Country\",\"Lat\",\"Lng\",\"Max Temp\",\"Humidity\",\"Cloudiness\",\"Wind Speed\", \"Current Description\", \"Rain (inches)\", \"Snow (inches)\"]\n",
    "\n",
    "weather_py_df = weather_py_df[new_column_order]"
   ]
  },
  {
   "cell_type": "code",
   "execution_count": 12,
   "metadata": {},
   "outputs": [
    {
     "output_type": "execute_result",
     "data": {
      "text/plain": "          City Country    Lat     Lng  Max Temp  Humidity  Cloudiness  \\\n0          Shu      KZ  43.60   73.76     70.41        34           0   \n1        Kapaa      US  22.08 -159.32     82.40        65          40   \n2        Bilma      NE  18.69   12.92     91.02        32          80   \n3    Grindavik      IS  63.84  -22.43     50.00        93          75   \n4      Vilhena      BR -12.74  -60.15     87.80        40          20   \n..         ...     ...    ...     ...       ...       ...         ...   \n578        Ayr      GB  55.46   -4.63     60.80        72          75   \n579  Whitianga      NZ -36.83  175.70     55.00        97          98   \n580     Kizner      RU  56.27   51.51     61.34        85           0   \n581       Ugep      NG   5.81    8.08     73.35        97          98   \n582     Xining      CN  36.62  101.77     54.09        73          78   \n\n     Wind Speed Current Description  Rain (inches)  Snow (inches)  \n0          8.63           clear sky            0.0              0  \n1         16.11    scattered clouds            0.0              0  \n2         10.89       broken clouds            0.0              0  \n3          4.70       broken clouds            0.0              0  \n4          9.17          few clouds            0.0              0  \n..          ...                 ...            ...            ...  \n578        9.17          light rain            0.0              0  \n579        3.00     overcast clouds            0.0              0  \n580        1.88           clear sky            0.0              0  \n581        4.94     overcast clouds            0.0              0  \n582        2.86       broken clouds            0.0              0  \n\n[583 rows x 11 columns]",
      "text/html": "<div>\n<style scoped>\n    .dataframe tbody tr th:only-of-type {\n        vertical-align: middle;\n    }\n\n    .dataframe tbody tr th {\n        vertical-align: top;\n    }\n\n    .dataframe thead th {\n        text-align: right;\n    }\n</style>\n<table border=\"1\" class=\"dataframe\">\n  <thead>\n    <tr style=\"text-align: right;\">\n      <th></th>\n      <th>City</th>\n      <th>Country</th>\n      <th>Lat</th>\n      <th>Lng</th>\n      <th>Max Temp</th>\n      <th>Humidity</th>\n      <th>Cloudiness</th>\n      <th>Wind Speed</th>\n      <th>Current Description</th>\n      <th>Rain (inches)</th>\n      <th>Snow (inches)</th>\n    </tr>\n  </thead>\n  <tbody>\n    <tr>\n      <th>0</th>\n      <td>Shu</td>\n      <td>KZ</td>\n      <td>43.60</td>\n      <td>73.76</td>\n      <td>70.41</td>\n      <td>34</td>\n      <td>0</td>\n      <td>8.63</td>\n      <td>clear sky</td>\n      <td>0.0</td>\n      <td>0</td>\n    </tr>\n    <tr>\n      <th>1</th>\n      <td>Kapaa</td>\n      <td>US</td>\n      <td>22.08</td>\n      <td>-159.32</td>\n      <td>82.40</td>\n      <td>65</td>\n      <td>40</td>\n      <td>16.11</td>\n      <td>scattered clouds</td>\n      <td>0.0</td>\n      <td>0</td>\n    </tr>\n    <tr>\n      <th>2</th>\n      <td>Bilma</td>\n      <td>NE</td>\n      <td>18.69</td>\n      <td>12.92</td>\n      <td>91.02</td>\n      <td>32</td>\n      <td>80</td>\n      <td>10.89</td>\n      <td>broken clouds</td>\n      <td>0.0</td>\n      <td>0</td>\n    </tr>\n    <tr>\n      <th>3</th>\n      <td>Grindavik</td>\n      <td>IS</td>\n      <td>63.84</td>\n      <td>-22.43</td>\n      <td>50.00</td>\n      <td>93</td>\n      <td>75</td>\n      <td>4.70</td>\n      <td>broken clouds</td>\n      <td>0.0</td>\n      <td>0</td>\n    </tr>\n    <tr>\n      <th>4</th>\n      <td>Vilhena</td>\n      <td>BR</td>\n      <td>-12.74</td>\n      <td>-60.15</td>\n      <td>87.80</td>\n      <td>40</td>\n      <td>20</td>\n      <td>9.17</td>\n      <td>few clouds</td>\n      <td>0.0</td>\n      <td>0</td>\n    </tr>\n    <tr>\n      <th>...</th>\n      <td>...</td>\n      <td>...</td>\n      <td>...</td>\n      <td>...</td>\n      <td>...</td>\n      <td>...</td>\n      <td>...</td>\n      <td>...</td>\n      <td>...</td>\n      <td>...</td>\n      <td>...</td>\n    </tr>\n    <tr>\n      <th>578</th>\n      <td>Ayr</td>\n      <td>GB</td>\n      <td>55.46</td>\n      <td>-4.63</td>\n      <td>60.80</td>\n      <td>72</td>\n      <td>75</td>\n      <td>9.17</td>\n      <td>light rain</td>\n      <td>0.0</td>\n      <td>0</td>\n    </tr>\n    <tr>\n      <th>579</th>\n      <td>Whitianga</td>\n      <td>NZ</td>\n      <td>-36.83</td>\n      <td>175.70</td>\n      <td>55.00</td>\n      <td>97</td>\n      <td>98</td>\n      <td>3.00</td>\n      <td>overcast clouds</td>\n      <td>0.0</td>\n      <td>0</td>\n    </tr>\n    <tr>\n      <th>580</th>\n      <td>Kizner</td>\n      <td>RU</td>\n      <td>56.27</td>\n      <td>51.51</td>\n      <td>61.34</td>\n      <td>85</td>\n      <td>0</td>\n      <td>1.88</td>\n      <td>clear sky</td>\n      <td>0.0</td>\n      <td>0</td>\n    </tr>\n    <tr>\n      <th>581</th>\n      <td>Ugep</td>\n      <td>NG</td>\n      <td>5.81</td>\n      <td>8.08</td>\n      <td>73.35</td>\n      <td>97</td>\n      <td>98</td>\n      <td>4.94</td>\n      <td>overcast clouds</td>\n      <td>0.0</td>\n      <td>0</td>\n    </tr>\n    <tr>\n      <th>582</th>\n      <td>Xining</td>\n      <td>CN</td>\n      <td>36.62</td>\n      <td>101.77</td>\n      <td>54.09</td>\n      <td>73</td>\n      <td>78</td>\n      <td>2.86</td>\n      <td>broken clouds</td>\n      <td>0.0</td>\n      <td>0</td>\n    </tr>\n  </tbody>\n</table>\n<p>583 rows × 11 columns</p>\n</div>"
     },
     "metadata": {},
     "execution_count": 12
    }
   ],
   "source": [
    "weather_py_df"
   ]
  },
  {
   "cell_type": "code",
   "execution_count": 14,
   "metadata": {},
   "outputs": [],
   "source": [
    "# CHALLENGE PART 1: Save the new DF as a CSV\n",
    "output_data_file = \"WeatherPy_database.csv\"\n",
    "#Export the df to the output\n",
    "weather_py_df.to_csv(output_data_file, index_label = \"City_ID\")"
   ]
  },
  {
   "cell_type": "code",
   "execution_count": null,
   "metadata": {},
   "outputs": [],
   "source": []
  }
 ],
 "metadata": {
  "language_info": {
   "codemirror_mode": {
    "name": "ipython",
    "version": 3
   },
   "file_extension": ".py",
   "mimetype": "text/x-python",
   "name": "python",
   "nbconvert_exporter": "python",
   "pygments_lexer": "ipython3",
   "version": 3
  },
  "orig_nbformat": 2,
  "kernelspec": {
   "name": "python_defaultSpec_1594587003643",
   "display_name": "Python 3.7.7 64-bit ('PythonData': conda)"
  }
 },
 "nbformat": 4,
 "nbformat_minor": 2
}